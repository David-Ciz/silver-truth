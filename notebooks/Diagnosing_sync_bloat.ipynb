{
 "cells": [
  {
   "cell_type": "code",
   "execution_count": 1,
   "id": "9082f9ea-0472-4f0f-8698-b5315bde0d00",
   "metadata": {},
   "outputs": [],
   "source": [
    "import tifffile"
   ]
  },
  {
   "cell_type": "code",
   "execution_count": 2,
   "id": "926e231c-6d32-4671-baf6-90fbecd2f59a",
   "metadata": {},
   "outputs": [],
   "source": [
    "original_image = \"../data/inputs-2020-07/BF-C2DL-MuSC/KIT-Sch-GE/01_RES/mask0000.tif\"\n",
    "synced_image = \"../data/synchronized_data/BF-C2DL-MuSC/KIT-Sch-GE/01_RES/mask0000.tif\""
   ]
  },
  {
   "cell_type": "code",
   "execution_count": 3,
   "id": "a4c6fd79-87f6-47e1-a36e-19eafa9ba548",
   "metadata": {},
   "outputs": [],
   "source": [
    "or_image = tifffile.imread(original_image)\n",
    "sync_image = tifffile.imread(synced_image)"
   ]
  },
  {
   "cell_type": "code",
   "execution_count": 4,
   "id": "e573b3bc-1a21-4c40-ab5b-e160b34f7bfa",
   "metadata": {},
   "outputs": [
    {
     "data": {
      "text/plain": [
       "array([[0, 0, 0, ..., 0, 0, 0],\n",
       "       [0, 0, 0, ..., 0, 0, 0],\n",
       "       [0, 0, 0, ..., 0, 0, 0],\n",
       "       ...,\n",
       "       [0, 0, 0, ..., 0, 0, 0],\n",
       "       [0, 0, 0, ..., 0, 0, 0],\n",
       "       [0, 0, 0, ..., 0, 0, 0]], shape=(1036, 1070), dtype=uint16)"
      ]
     },
     "execution_count": 4,
     "metadata": {},
     "output_type": "execute_result"
    }
   ],
   "source": [
    "or_image"
   ]
  },
  {
   "cell_type": "code",
   "execution_count": 5,
   "id": "36b10570-9aab-47be-90d3-adb3f57ee04d",
   "metadata": {},
   "outputs": [
    {
     "data": {
      "text/plain": [
       "array([[0, 0, 0, ..., 0, 0, 0],\n",
       "       [0, 0, 0, ..., 0, 0, 0],\n",
       "       [0, 0, 0, ..., 0, 0, 0],\n",
       "       ...,\n",
       "       [0, 0, 0, ..., 0, 0, 0],\n",
       "       [0, 0, 0, ..., 0, 0, 0],\n",
       "       [0, 0, 0, ..., 0, 0, 0]], shape=(1036, 1070), dtype=uint16)"
      ]
     },
     "execution_count": 5,
     "metadata": {},
     "output_type": "execute_result"
    }
   ],
   "source": [
    "sync_image"
   ]
  },
  {
   "cell_type": "code",
   "execution_count": 6,
   "id": "661cb0c8-67d7-419a-bad0-3386066ed0c6",
   "metadata": {},
   "outputs": [],
   "source": [
    "import numpy as np"
   ]
  },
  {
   "cell_type": "code",
   "execution_count": 7,
   "id": "e1886d12-ebee-48ad-b351-3229a384ba68",
   "metadata": {},
   "outputs": [
    {
     "data": {
      "text/plain": [
       "array([0, 1], dtype=uint16)"
      ]
     },
     "execution_count": 7,
     "metadata": {},
     "output_type": "execute_result"
    }
   ],
   "source": [
    "np.unique(or_image)"
   ]
  },
  {
   "cell_type": "code",
   "execution_count": 8,
   "id": "b9e0a4b9-f7a2-4a54-a865-7c05d3c59a79",
   "metadata": {},
   "outputs": [
    {
     "data": {
      "text/plain": [
       "array([0, 1], dtype=uint16)"
      ]
     },
     "execution_count": 8,
     "metadata": {},
     "output_type": "execute_result"
    }
   ],
   "source": [
    "np.unique(sync_image)"
   ]
  },
  {
   "cell_type": "code",
   "execution_count": 9,
   "id": "b5ecee74-c2cb-41b5-b7cf-2c4b70cb3a61",
   "metadata": {},
   "outputs": [
    {
     "data": {
      "text/plain": [
       "array([[ True,  True,  True, ...,  True,  True,  True],\n",
       "       [ True,  True,  True, ...,  True,  True,  True],\n",
       "       [ True,  True,  True, ...,  True,  True,  True],\n",
       "       ...,\n",
       "       [ True,  True,  True, ...,  True,  True,  True],\n",
       "       [ True,  True,  True, ...,  True,  True,  True],\n",
       "       [ True,  True,  True, ...,  True,  True,  True]],\n",
       "      shape=(1036, 1070))"
      ]
     },
     "execution_count": 9,
     "metadata": {},
     "output_type": "execute_result"
    }
   ],
   "source": [
    "or_image == sync_image"
   ]
  },
  {
   "cell_type": "code",
   "execution_count": 10,
   "id": "80564e66-8429-4df1-9b94-bc7e85389edf",
   "metadata": {},
   "outputs": [
    {
     "name": "stdout",
     "output_type": "stream",
     "text": [
      "=== ORIGINAL FILE ===\n",
      "File Size (MB): 0.04528045654296875\n",
      "Dimensions: (1070, 1036)\n",
      "Mode: I;16\n",
      "Format: Adobe TIFF\n",
      "Compression: 5\n",
      "Data Type: uint16\n",
      "Is BigTIFF: False\n",
      "Bit Depth: 16\n",
      "\n",
      "=== PROCESSED FILE ===\n",
      "File Size (MB): 2.1145496368408203\n",
      "Dimensions: (1070, 1036)\n",
      "Mode: I;16B\n",
      "Format: Adobe TIFF\n",
      "Compression: 1\n",
      "Data Type: uint16\n",
      "Is BigTIFF: False\n",
      "Bit Depth: 16\n",
      "\n",
      "=== DIFFERENCES ===\n",
      "File Size (MB): 0.04528045654296875 → 2.1145496368408203\n",
      "Mode: I;16 → I;16B\n",
      "Compression: 5 → 1\n"
     ]
    }
   ],
   "source": [
    "import os\n",
    "from PIL import Image\n",
    "import numpy as np\n",
    "import tifffile\n",
    "\n",
    "# File paths\n",
    "original_file = \"../data/inputs-2020-07/BF-C2DL-MuSC/KIT-Sch-GE/01_RES/mask0000.tif\"\n",
    "processed_file = \"../data/synchronized_data/BF-C2DL-MuSC/KIT-Sch-GE/01_RES/mask0000.tif\"\n",
    "\n",
    "def analyze_tif(file_path):\n",
    "    # Basic file info\n",
    "    file_size = os.path.getsize(file_path) / (1024 * 1024)  # Size in MB\n",
    "    \n",
    "    # Using PIL\n",
    "    with Image.open(file_path) as img:\n",
    "        mode = img.mode\n",
    "        size = img.size\n",
    "        format_info = img.format_description\n",
    "        \n",
    "    # Using tifffile for more detailed TIFF info\n",
    "    with tifffile.TiffFile(file_path) as tif:\n",
    "        compression = tif.pages[0].compression\n",
    "        dtype = tif.pages[0].dtype\n",
    "        is_bigtiff = tif.is_bigtiff\n",
    "        tags = {tag.name: tag.value for tag in tif.pages[0].tags}\n",
    "    \n",
    "    return {\n",
    "        \"File Size (MB)\": file_size,\n",
    "        \"Dimensions\": size,\n",
    "        \"Mode\": mode,\n",
    "        \"Format\": format_info,\n",
    "        \"Compression\": compression,\n",
    "        \"Data Type\": dtype,\n",
    "        \"Is BigTIFF\": is_bigtiff,\n",
    "        \"Bit Depth\": 8 if 'uint8' in str(dtype) else 16 if 'uint16' in str(dtype) else 32,\n",
    "        \"Tags\": tags\n",
    "    }\n",
    "\n",
    "# Compare files\n",
    "original_info = analyze_tif(original_file)\n",
    "processed_info = analyze_tif(processed_file)\n",
    "\n",
    "# Display comparison\n",
    "print(\"=== ORIGINAL FILE ===\")\n",
    "for key, value in original_info.items():\n",
    "    if key != \"Tags\":  # Skip full tags display for brevity\n",
    "        print(f\"{key}: {value}\")\n",
    "\n",
    "print(\"\\n=== PROCESSED FILE ===\")\n",
    "for key, value in processed_info.items():\n",
    "    if key != \"Tags\":  # Skip full tags display for brevity\n",
    "        print(f\"{key}: {value}\")\n",
    "\n",
    "# Show differences\n",
    "print(\"\\n=== DIFFERENCES ===\")\n",
    "for key in original_info:\n",
    "    if key != \"Tags\" and original_info[key] != processed_info[key]:\n",
    "        print(f\"{key}: {original_info[key]} → {processed_info[key]}\")"
   ]
  },
  {
   "cell_type": "code",
   "execution_count": null,
   "id": "5ed2a402-42e9-46bc-af73-788ebf728f26",
   "metadata": {},
   "outputs": [],
   "source": []
  }
 ],
 "metadata": {
  "kernelspec": {
   "display_name": "Python 3 (ipykernel)",
   "language": "python",
   "name": "python3"
  },
  "language_info": {
   "codemirror_mode": {
    "name": "ipython",
    "version": 3
   },
   "file_extension": ".py",
   "mimetype": "text/x-python",
   "name": "python",
   "nbconvert_exporter": "python",
   "pygments_lexer": "ipython3",
   "version": "3.11.9"
  }
 },
 "nbformat": 4,
 "nbformat_minor": 5
}
