{
 "cells": [
  {
   "cell_type": "code",
   "id": "initial_id",
   "metadata": {
    "collapsed": true,
    "ExecuteTime": {
     "end_time": "2025-08-29T13:54:01.627261Z",
     "start_time": "2025-08-29T13:54:01.618082Z"
    }
   },
   "source": [
    "import tifffile\n",
    "from data_processing.utils.dataset_dataframe_creation import load_dataframe_from_parquet_with_metadata\n",
    "\n",
    "df = load_dataframe_from_parquet_with_metadata(\"../BF-C2DL-HSC_dataset_dataframe_with_fused.parquet\")\n",
    "df = df[df[\"gt_image\"].notna()]\n",
    "df = df[df[\"fused_images\"].notna()]"
   ],
   "outputs": [],
   "execution_count": 6
  },
  {
   "metadata": {
    "ExecuteTime": {
     "end_time": "2025-08-29T13:55:27.262444Z",
     "start_time": "2025-08-29T13:55:27.260005Z"
    }
   },
   "cell_type": "code",
   "source": [
    "fused_images = df[\"fused_images\"].tolist()\n",
    "fused_images.sort()"
   ],
   "id": "5bcef170ddbf8b28",
   "outputs": [],
   "execution_count": 9
  },
  {
   "metadata": {},
   "cell_type": "code",
   "source": [
    "from pathlib import Path\n",
    "import numpy as np\n",
    "import tifffile\n",
    "for image_path in fused_images:\n",
    "    image_path = Path(\"../\") / image_path\n",
    "    print(np.unique(tifffile.imread(image_path), return_counts=True))"
   ],
   "id": "866c792729cecc2",
   "outputs": [],
   "execution_count": null
  },
  {
   "metadata": {
    "ExecuteTime": {
     "end_time": "2025-08-29T14:39:58.868895Z",
     "start_time": "2025-08-29T14:39:58.866752Z"
    }
   },
   "cell_type": "code",
   "source": "gt_images = df[\"gt_image\"].tolist()",
   "id": "e3bf2bedf842f581",
   "outputs": [],
   "execution_count": 22
  },
  {
   "metadata": {
    "ExecuteTime": {
     "end_time": "2025-08-29T14:51:39.858191Z",
     "start_time": "2025-08-29T14:51:39.853978Z"
    }
   },
   "cell_type": "code",
   "source": [
    "composite_keys = df[\"composite_key\"].tolist()\n",
    "composite_keys.sort()\n",
    "composite_keys"
   ],
   "id": "76f2b785071953d1",
   "outputs": [
    {
     "data": {
      "text/plain": [
       "['01_0058.tif',\n",
       " '01_0108.tif',\n",
       " '01_0126.tif',\n",
       " '01_0175.tif',\n",
       " '01_0183.tif',\n",
       " '01_0218.tif',\n",
       " '01_0332.tif',\n",
       " '01_0347.tif',\n",
       " '01_0359.tif',\n",
       " '01_0402.tif',\n",
       " '01_0473.tif',\n",
       " '01_0475.tif',\n",
       " '01_0528.tif',\n",
       " '01_0659.tif',\n",
       " '01_0701.tif',\n",
       " '01_0713.tif',\n",
       " '01_0731.tif',\n",
       " '01_0760.tif',\n",
       " '01_0806.tif',\n",
       " '01_0838.tif',\n",
       " '01_0868.tif',\n",
       " '01_0871.tif',\n",
       " '01_0902.tif',\n",
       " '01_0930.tif',\n",
       " '01_0932.tif',\n",
       " '01_0965.tif',\n",
       " '01_0988.tif',\n",
       " '01_0990.tif',\n",
       " '01_1122.tif',\n",
       " '01_1162.tif',\n",
       " '01_1170.tif',\n",
       " '01_1199.tif',\n",
       " '01_1219.tif',\n",
       " '01_1357.tif',\n",
       " '01_1369.tif',\n",
       " '01_1397.tif',\n",
       " '01_1460.tif',\n",
       " '01_1468.tif',\n",
       " '01_1471.tif',\n",
       " '01_1476.tif',\n",
       " '01_1489.tif',\n",
       " '01_1490.tif',\n",
       " '01_1528.tif',\n",
       " '01_1558.tif',\n",
       " '01_1567.tif',\n",
       " '01_1583.tif',\n",
       " '01_1618.tif',\n",
       " '01_1707.tif',\n",
       " '01_1743.tif']"
      ]
     },
     "execution_count": 26,
     "metadata": {},
     "output_type": "execute_result"
    }
   ],
   "execution_count": 26
  },
  {
   "metadata": {
    "ExecuteTime": {
     "end_time": "2025-08-29T14:40:00.515954Z",
     "start_time": "2025-08-29T14:40:00.512868Z"
    }
   },
   "cell_type": "code",
   "source": [
    "gt_images.sort()\n",
    "gt_images"
   ],
   "id": "c46e94654da1a361",
   "outputs": [
    {
     "data": {
      "text/plain": [
       "['data/synchronized_data/BF-C2DL-HSC/01_GT/SEG/man_seg0058.tif',\n",
       " 'data/synchronized_data/BF-C2DL-HSC/01_GT/SEG/man_seg0108.tif',\n",
       " 'data/synchronized_data/BF-C2DL-HSC/01_GT/SEG/man_seg0126.tif',\n",
       " 'data/synchronized_data/BF-C2DL-HSC/01_GT/SEG/man_seg0175.tif',\n",
       " 'data/synchronized_data/BF-C2DL-HSC/01_GT/SEG/man_seg0183.tif',\n",
       " 'data/synchronized_data/BF-C2DL-HSC/01_GT/SEG/man_seg0218.tif',\n",
       " 'data/synchronized_data/BF-C2DL-HSC/01_GT/SEG/man_seg0332.tif',\n",
       " 'data/synchronized_data/BF-C2DL-HSC/01_GT/SEG/man_seg0347.tif',\n",
       " 'data/synchronized_data/BF-C2DL-HSC/01_GT/SEG/man_seg0359.tif',\n",
       " 'data/synchronized_data/BF-C2DL-HSC/01_GT/SEG/man_seg0402.tif',\n",
       " 'data/synchronized_data/BF-C2DL-HSC/01_GT/SEG/man_seg0473.tif',\n",
       " 'data/synchronized_data/BF-C2DL-HSC/01_GT/SEG/man_seg0475.tif',\n",
       " 'data/synchronized_data/BF-C2DL-HSC/01_GT/SEG/man_seg0528.tif',\n",
       " 'data/synchronized_data/BF-C2DL-HSC/01_GT/SEG/man_seg0659.tif',\n",
       " 'data/synchronized_data/BF-C2DL-HSC/01_GT/SEG/man_seg0701.tif',\n",
       " 'data/synchronized_data/BF-C2DL-HSC/01_GT/SEG/man_seg0713.tif',\n",
       " 'data/synchronized_data/BF-C2DL-HSC/01_GT/SEG/man_seg0731.tif',\n",
       " 'data/synchronized_data/BF-C2DL-HSC/01_GT/SEG/man_seg0760.tif',\n",
       " 'data/synchronized_data/BF-C2DL-HSC/01_GT/SEG/man_seg0806.tif',\n",
       " 'data/synchronized_data/BF-C2DL-HSC/01_GT/SEG/man_seg0838.tif',\n",
       " 'data/synchronized_data/BF-C2DL-HSC/01_GT/SEG/man_seg0868.tif',\n",
       " 'data/synchronized_data/BF-C2DL-HSC/01_GT/SEG/man_seg0871.tif',\n",
       " 'data/synchronized_data/BF-C2DL-HSC/01_GT/SEG/man_seg0902.tif',\n",
       " 'data/synchronized_data/BF-C2DL-HSC/01_GT/SEG/man_seg0930.tif',\n",
       " 'data/synchronized_data/BF-C2DL-HSC/01_GT/SEG/man_seg0932.tif',\n",
       " 'data/synchronized_data/BF-C2DL-HSC/01_GT/SEG/man_seg0965.tif',\n",
       " 'data/synchronized_data/BF-C2DL-HSC/01_GT/SEG/man_seg0988.tif',\n",
       " 'data/synchronized_data/BF-C2DL-HSC/01_GT/SEG/man_seg0990.tif',\n",
       " 'data/synchronized_data/BF-C2DL-HSC/01_GT/SEG/man_seg1122.tif',\n",
       " 'data/synchronized_data/BF-C2DL-HSC/01_GT/SEG/man_seg1162.tif',\n",
       " 'data/synchronized_data/BF-C2DL-HSC/01_GT/SEG/man_seg1170.tif',\n",
       " 'data/synchronized_data/BF-C2DL-HSC/01_GT/SEG/man_seg1199.tif',\n",
       " 'data/synchronized_data/BF-C2DL-HSC/01_GT/SEG/man_seg1219.tif',\n",
       " 'data/synchronized_data/BF-C2DL-HSC/01_GT/SEG/man_seg1357.tif',\n",
       " 'data/synchronized_data/BF-C2DL-HSC/01_GT/SEG/man_seg1369.tif',\n",
       " 'data/synchronized_data/BF-C2DL-HSC/01_GT/SEG/man_seg1397.tif',\n",
       " 'data/synchronized_data/BF-C2DL-HSC/01_GT/SEG/man_seg1460.tif',\n",
       " 'data/synchronized_data/BF-C2DL-HSC/01_GT/SEG/man_seg1468.tif',\n",
       " 'data/synchronized_data/BF-C2DL-HSC/01_GT/SEG/man_seg1471.tif',\n",
       " 'data/synchronized_data/BF-C2DL-HSC/01_GT/SEG/man_seg1476.tif',\n",
       " 'data/synchronized_data/BF-C2DL-HSC/01_GT/SEG/man_seg1489.tif',\n",
       " 'data/synchronized_data/BF-C2DL-HSC/01_GT/SEG/man_seg1490.tif',\n",
       " 'data/synchronized_data/BF-C2DL-HSC/01_GT/SEG/man_seg1528.tif',\n",
       " 'data/synchronized_data/BF-C2DL-HSC/01_GT/SEG/man_seg1558.tif',\n",
       " 'data/synchronized_data/BF-C2DL-HSC/01_GT/SEG/man_seg1567.tif',\n",
       " 'data/synchronized_data/BF-C2DL-HSC/01_GT/SEG/man_seg1583.tif',\n",
       " 'data/synchronized_data/BF-C2DL-HSC/01_GT/SEG/man_seg1618.tif',\n",
       " 'data/synchronized_data/BF-C2DL-HSC/01_GT/SEG/man_seg1707.tif',\n",
       " 'data/synchronized_data/BF-C2DL-HSC/01_GT/SEG/man_seg1743.tif']"
      ]
     },
     "execution_count": 23,
     "metadata": {},
     "output_type": "execute_result"
    }
   ],
   "execution_count": 23
  },
  {
   "metadata": {
    "ExecuteTime": {
     "end_time": "2025-08-29T14:40:15.088835Z",
     "start_time": "2025-08-29T14:40:15.086224Z"
    }
   },
   "cell_type": "code",
   "source": "fused_images",
   "id": "24f78f685f6e78d9",
   "outputs": [
    {
     "data": {
      "text/plain": [
       "['fused_results/BF-C2DL-HSC_01_fused_0031.tif',\n",
       " 'fused_results/BF-C2DL-HSC_01_fused_0052.tif',\n",
       " 'fused_results/BF-C2DL-HSC_01_fused_0060.tif',\n",
       " 'fused_results/BF-C2DL-HSC_01_fused_0083.tif',\n",
       " 'fused_results/BF-C2DL-HSC_01_fused_0099.tif',\n",
       " 'fused_results/BF-C2DL-HSC_01_fused_0123.tif',\n",
       " 'fused_results/BF-C2DL-HSC_01_fused_0147.tif',\n",
       " 'fused_results/BF-C2DL-HSC_01_fused_0153.tif',\n",
       " 'fused_results/BF-C2DL-HSC_01_fused_0232.tif',\n",
       " 'fused_results/BF-C2DL-HSC_01_fused_0253.tif',\n",
       " 'fused_results/BF-C2DL-HSC_01_fused_0267.tif',\n",
       " 'fused_results/BF-C2DL-HSC_01_fused_0276.tif',\n",
       " 'fused_results/BF-C2DL-HSC_01_fused_0306.tif',\n",
       " 'fused_results/BF-C2DL-HSC_01_fused_0307.tif',\n",
       " 'fused_results/BF-C2DL-HSC_01_fused_0333.tif',\n",
       " 'fused_results/BF-C2DL-HSC_01_fused_0368.tif',\n",
       " 'fused_results/BF-C2DL-HSC_01_fused_0382.tif',\n",
       " 'fused_results/BF-C2DL-HSC_01_fused_0442.tif',\n",
       " 'fused_results/BF-C2DL-HSC_01_fused_0583.tif',\n",
       " 'fused_results/BF-C2DL-HSC_01_fused_0610.tif',\n",
       " 'fused_results/BF-C2DL-HSC_01_fused_0686.tif',\n",
       " 'fused_results/BF-C2DL-HSC_01_fused_0728.tif',\n",
       " 'fused_results/BF-C2DL-HSC_01_fused_0731.tif',\n",
       " 'fused_results/BF-C2DL-HSC_01_fused_0759.tif',\n",
       " 'fused_results/BF-C2DL-HSC_01_fused_0819.tif',\n",
       " 'fused_results/BF-C2DL-HSC_01_fused_0907.tif',\n",
       " 'fused_results/BF-C2DL-HSC_01_fused_0960.tif',\n",
       " 'fused_results/BF-C2DL-HSC_01_fused_0983.tif',\n",
       " 'fused_results/BF-C2DL-HSC_01_fused_1066.tif',\n",
       " 'fused_results/BF-C2DL-HSC_01_fused_1148.tif',\n",
       " 'fused_results/BF-C2DL-HSC_01_fused_1161.tif',\n",
       " 'fused_results/BF-C2DL-HSC_01_fused_1164.tif',\n",
       " 'fused_results/BF-C2DL-HSC_01_fused_1211.tif',\n",
       " 'fused_results/BF-C2DL-HSC_01_fused_1235.tif',\n",
       " 'fused_results/BF-C2DL-HSC_01_fused_1243.tif',\n",
       " 'fused_results/BF-C2DL-HSC_01_fused_1281.tif',\n",
       " 'fused_results/BF-C2DL-HSC_01_fused_1289.tif',\n",
       " 'fused_results/BF-C2DL-HSC_01_fused_1335.tif',\n",
       " 'fused_results/BF-C2DL-HSC_01_fused_1338.tif',\n",
       " 'fused_results/BF-C2DL-HSC_01_fused_1382.tif',\n",
       " 'fused_results/BF-C2DL-HSC_01_fused_1385.tif',\n",
       " 'fused_results/BF-C2DL-HSC_01_fused_1415.tif',\n",
       " 'fused_results/BF-C2DL-HSC_01_fused_1445.tif',\n",
       " 'fused_results/BF-C2DL-HSC_01_fused_1448.tif',\n",
       " 'fused_results/BF-C2DL-HSC_01_fused_1622.tif',\n",
       " 'fused_results/BF-C2DL-HSC_01_fused_1637.tif',\n",
       " 'fused_results/BF-C2DL-HSC_01_fused_1641.tif',\n",
       " 'fused_results/BF-C2DL-HSC_01_fused_1658.tif',\n",
       " 'fused_results/BF-C2DL-HSC_01_fused_1693.tif']"
      ]
     },
     "execution_count": 24,
     "metadata": {},
     "output_type": "execute_result"
    }
   ],
   "execution_count": 24
  },
  {
   "metadata": {},
   "cell_type": "code",
   "outputs": [],
   "execution_count": null,
   "source": "",
   "id": "64355b116c34ae32"
  }
 ],
 "metadata": {
  "kernelspec": {
   "display_name": "Python 3",
   "language": "python",
   "name": "python3"
  },
  "language_info": {
   "codemirror_mode": {
    "name": "ipython",
    "version": 2
   },
   "file_extension": ".py",
   "mimetype": "text/x-python",
   "name": "python",
   "nbconvert_exporter": "python",
   "pygments_lexer": "ipython2",
   "version": "2.7.6"
  }
 },
 "nbformat": 4,
 "nbformat_minor": 5
}
