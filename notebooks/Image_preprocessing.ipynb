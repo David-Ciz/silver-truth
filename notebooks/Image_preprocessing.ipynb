{
 "cells": [
  {
   "cell_type": "code",
   "execution_count": 1,
   "id": "4c2d3c24-5d6d-4729-98c7-559bd343ce3b",
   "metadata": {},
   "outputs": [],
   "source": [
    "from PIL import Image"
   ]
  },
  {
   "cell_type": "code",
   "execution_count": 2,
   "id": "69560779-e01e-4d54-84b4-85bef0dc64ee",
   "metadata": {},
   "outputs": [],
   "source": [
    "import pandas as pd"
   ]
  },
  {
   "cell_type": "code",
   "execution_count": 3,
   "id": "e1d2dacf-a593-4bc0-b0d8-6240b46bff84",
   "metadata": {},
   "outputs": [],
   "source": [
    "import numpy as np\n",
    "import tifffile\n",
    "import matplotlib.pyplot as plt"
   ]
  },
  {
   "cell_type": "code",
   "execution_count": 4,
   "id": "ef2baad2-45d2-4779-a0ee-f704d488712a",
   "metadata": {},
   "outputs": [],
   "source": [
    "dataframe = pd.read_csv('dataset.csv')"
   ]
  },
  {
   "cell_type": "code",
   "execution_count": 5,
   "id": "1006412c-6fed-4366-98b0-f4f85810de98",
   "metadata": {},
   "outputs": [
    {
     "data": {
      "text/html": [
       "<div>\n",
       "<style scoped>\n",
       "    .dataframe tbody tr th:only-of-type {\n",
       "        vertical-align: middle;\n",
       "    }\n",
       "\n",
       "    .dataframe tbody tr th {\n",
       "        vertical-align: top;\n",
       "    }\n",
       "\n",
       "    .dataframe thead th {\n",
       "        text-align: right;\n",
       "    }\n",
       "</style>\n",
       "<table border=\"1\" class=\"dataframe\">\n",
       "  <thead>\n",
       "    <tr style=\"text-align: right;\">\n",
       "      <th></th>\n",
       "      <th>Unnamed: 0</th>\n",
       "      <th>Mask_file</th>\n",
       "      <th>Gt_source_file</th>\n",
       "      <th>Gt_mask_file</th>\n",
       "      <th>Label</th>\n",
       "      <th>J_value</th>\n",
       "      <th>merged_image_path</th>\n",
       "    </tr>\n",
       "  </thead>\n",
       "  <tbody>\n",
       "    <tr>\n",
       "      <th>0</th>\n",
       "      <td>0</td>\n",
       "      <td>inputs-2020-07/BF-C2DL-HSC/MU-Lux-CZ/02_RES/ma...</td>\n",
       "      <td>inputs-2020-07/BF-C2DL-HSC/02/t0046.tif</td>\n",
       "      <td>inputs-2020-07/BF-C2DL-HSC/02_GT/SEG/man_seg00...</td>\n",
       "      <td>1</td>\n",
       "      <td>0.861789</td>\n",
       "      <td>test_out/inputs-2020-07/BF-C2DL-HSC/MU-Lux-CZ/...</td>\n",
       "    </tr>\n",
       "    <tr>\n",
       "      <th>1</th>\n",
       "      <td>1</td>\n",
       "      <td>inputs-2020-07/BF-C2DL-HSC/MU-Lux-CZ/02_RES/ma...</td>\n",
       "      <td>inputs-2020-07/BF-C2DL-HSC/02/t0046.tif</td>\n",
       "      <td>inputs-2020-07/BF-C2DL-HSC/02_GT/SEG/man_seg00...</td>\n",
       "      <td>2</td>\n",
       "      <td>0.830097</td>\n",
       "      <td>test_out/inputs-2020-07/BF-C2DL-HSC/MU-Lux-CZ/...</td>\n",
       "    </tr>\n",
       "    <tr>\n",
       "      <th>2</th>\n",
       "      <td>2</td>\n",
       "      <td>inputs-2020-07/BF-C2DL-HSC/MU-Lux-CZ/02_RES/ma...</td>\n",
       "      <td>inputs-2020-07/BF-C2DL-HSC/02/t0056.tif</td>\n",
       "      <td>inputs-2020-07/BF-C2DL-HSC/02_GT/SEG/man_seg00...</td>\n",
       "      <td>1</td>\n",
       "      <td>0.780928</td>\n",
       "      <td>test_out/inputs-2020-07/BF-C2DL-HSC/MU-Lux-CZ/...</td>\n",
       "    </tr>\n",
       "    <tr>\n",
       "      <th>3</th>\n",
       "      <td>3</td>\n",
       "      <td>inputs-2020-07/BF-C2DL-HSC/MU-Lux-CZ/02_RES/ma...</td>\n",
       "      <td>inputs-2020-07/BF-C2DL-HSC/02/t0056.tif</td>\n",
       "      <td>inputs-2020-07/BF-C2DL-HSC/02_GT/SEG/man_seg00...</td>\n",
       "      <td>2</td>\n",
       "      <td>0.720430</td>\n",
       "      <td>test_out/inputs-2020-07/BF-C2DL-HSC/MU-Lux-CZ/...</td>\n",
       "    </tr>\n",
       "    <tr>\n",
       "      <th>4</th>\n",
       "      <td>4</td>\n",
       "      <td>inputs-2020-07/BF-C2DL-HSC/MU-Lux-CZ/02_RES/ma...</td>\n",
       "      <td>inputs-2020-07/BF-C2DL-HSC/02/t0287.tif</td>\n",
       "      <td>inputs-2020-07/BF-C2DL-HSC/02_GT/SEG/man_seg02...</td>\n",
       "      <td>1</td>\n",
       "      <td>0.863874</td>\n",
       "      <td>test_out/inputs-2020-07/BF-C2DL-HSC/MU-Lux-CZ/...</td>\n",
       "    </tr>\n",
       "    <tr>\n",
       "      <th>...</th>\n",
       "      <td>...</td>\n",
       "      <td>...</td>\n",
       "      <td>...</td>\n",
       "      <td>...</td>\n",
       "      <td>...</td>\n",
       "      <td>...</td>\n",
       "      <td>...</td>\n",
       "    </tr>\n",
       "    <tr>\n",
       "      <th>2815</th>\n",
       "      <td>250</td>\n",
       "      <td>inputs-2020-07/BF-C2DL-HSC/KIT-Sch-GE/01_RES/m...</td>\n",
       "      <td>inputs-2020-07/BF-C2DL-HSC/01/t1743.tif</td>\n",
       "      <td>inputs-2020-07/BF-C2DL-HSC/01_GT/SEG/man_seg17...</td>\n",
       "      <td>8</td>\n",
       "      <td>0.849624</td>\n",
       "      <td>test_out/inputs-2020-07/BF-C2DL-HSC/KIT-Sch-GE...</td>\n",
       "    </tr>\n",
       "    <tr>\n",
       "      <th>2816</th>\n",
       "      <td>251</td>\n",
       "      <td>inputs-2020-07/BF-C2DL-HSC/KIT-Sch-GE/01_RES/m...</td>\n",
       "      <td>inputs-2020-07/BF-C2DL-HSC/01/t1743.tif</td>\n",
       "      <td>inputs-2020-07/BF-C2DL-HSC/01_GT/SEG/man_seg17...</td>\n",
       "      <td>9</td>\n",
       "      <td>0.820433</td>\n",
       "      <td>test_out/inputs-2020-07/BF-C2DL-HSC/KIT-Sch-GE...</td>\n",
       "    </tr>\n",
       "    <tr>\n",
       "      <th>2817</th>\n",
       "      <td>252</td>\n",
       "      <td>inputs-2020-07/BF-C2DL-HSC/KIT-Sch-GE/01_RES/m...</td>\n",
       "      <td>inputs-2020-07/BF-C2DL-HSC/01/t1743.tif</td>\n",
       "      <td>inputs-2020-07/BF-C2DL-HSC/01_GT/SEG/man_seg17...</td>\n",
       "      <td>10</td>\n",
       "      <td>0.863222</td>\n",
       "      <td>test_out/inputs-2020-07/BF-C2DL-HSC/KIT-Sch-GE...</td>\n",
       "    </tr>\n",
       "    <tr>\n",
       "      <th>2818</th>\n",
       "      <td>253</td>\n",
       "      <td>inputs-2020-07/BF-C2DL-HSC/KIT-Sch-GE/01_RES/m...</td>\n",
       "      <td>inputs-2020-07/BF-C2DL-HSC/01/t1743.tif</td>\n",
       "      <td>inputs-2020-07/BF-C2DL-HSC/01_GT/SEG/man_seg17...</td>\n",
       "      <td>11</td>\n",
       "      <td>0.865385</td>\n",
       "      <td>test_out/inputs-2020-07/BF-C2DL-HSC/KIT-Sch-GE...</td>\n",
       "    </tr>\n",
       "    <tr>\n",
       "      <th>2819</th>\n",
       "      <td>254</td>\n",
       "      <td>inputs-2020-07/BF-C2DL-HSC/KIT-Sch-GE/01_RES/m...</td>\n",
       "      <td>inputs-2020-07/BF-C2DL-HSC/01/t1743.tif</td>\n",
       "      <td>inputs-2020-07/BF-C2DL-HSC/01_GT/SEG/man_seg17...</td>\n",
       "      <td>12</td>\n",
       "      <td>0.747423</td>\n",
       "      <td>test_out/inputs-2020-07/BF-C2DL-HSC/KIT-Sch-GE...</td>\n",
       "    </tr>\n",
       "  </tbody>\n",
       "</table>\n",
       "<p>2820 rows × 7 columns</p>\n",
       "</div>"
      ],
      "text/plain": [
       "      Unnamed: 0                                          Mask_file  \\\n",
       "0              0  inputs-2020-07/BF-C2DL-HSC/MU-Lux-CZ/02_RES/ma...   \n",
       "1              1  inputs-2020-07/BF-C2DL-HSC/MU-Lux-CZ/02_RES/ma...   \n",
       "2              2  inputs-2020-07/BF-C2DL-HSC/MU-Lux-CZ/02_RES/ma...   \n",
       "3              3  inputs-2020-07/BF-C2DL-HSC/MU-Lux-CZ/02_RES/ma...   \n",
       "4              4  inputs-2020-07/BF-C2DL-HSC/MU-Lux-CZ/02_RES/ma...   \n",
       "...          ...                                                ...   \n",
       "2815         250  inputs-2020-07/BF-C2DL-HSC/KIT-Sch-GE/01_RES/m...   \n",
       "2816         251  inputs-2020-07/BF-C2DL-HSC/KIT-Sch-GE/01_RES/m...   \n",
       "2817         252  inputs-2020-07/BF-C2DL-HSC/KIT-Sch-GE/01_RES/m...   \n",
       "2818         253  inputs-2020-07/BF-C2DL-HSC/KIT-Sch-GE/01_RES/m...   \n",
       "2819         254  inputs-2020-07/BF-C2DL-HSC/KIT-Sch-GE/01_RES/m...   \n",
       "\n",
       "                               Gt_source_file  \\\n",
       "0     inputs-2020-07/BF-C2DL-HSC/02/t0046.tif   \n",
       "1     inputs-2020-07/BF-C2DL-HSC/02/t0046.tif   \n",
       "2     inputs-2020-07/BF-C2DL-HSC/02/t0056.tif   \n",
       "3     inputs-2020-07/BF-C2DL-HSC/02/t0056.tif   \n",
       "4     inputs-2020-07/BF-C2DL-HSC/02/t0287.tif   \n",
       "...                                       ...   \n",
       "2815  inputs-2020-07/BF-C2DL-HSC/01/t1743.tif   \n",
       "2816  inputs-2020-07/BF-C2DL-HSC/01/t1743.tif   \n",
       "2817  inputs-2020-07/BF-C2DL-HSC/01/t1743.tif   \n",
       "2818  inputs-2020-07/BF-C2DL-HSC/01/t1743.tif   \n",
       "2819  inputs-2020-07/BF-C2DL-HSC/01/t1743.tif   \n",
       "\n",
       "                                           Gt_mask_file  Label   J_value  \\\n",
       "0     inputs-2020-07/BF-C2DL-HSC/02_GT/SEG/man_seg00...      1  0.861789   \n",
       "1     inputs-2020-07/BF-C2DL-HSC/02_GT/SEG/man_seg00...      2  0.830097   \n",
       "2     inputs-2020-07/BF-C2DL-HSC/02_GT/SEG/man_seg00...      1  0.780928   \n",
       "3     inputs-2020-07/BF-C2DL-HSC/02_GT/SEG/man_seg00...      2  0.720430   \n",
       "4     inputs-2020-07/BF-C2DL-HSC/02_GT/SEG/man_seg02...      1  0.863874   \n",
       "...                                                 ...    ...       ...   \n",
       "2815  inputs-2020-07/BF-C2DL-HSC/01_GT/SEG/man_seg17...      8  0.849624   \n",
       "2816  inputs-2020-07/BF-C2DL-HSC/01_GT/SEG/man_seg17...      9  0.820433   \n",
       "2817  inputs-2020-07/BF-C2DL-HSC/01_GT/SEG/man_seg17...     10  0.863222   \n",
       "2818  inputs-2020-07/BF-C2DL-HSC/01_GT/SEG/man_seg17...     11  0.865385   \n",
       "2819  inputs-2020-07/BF-C2DL-HSC/01_GT/SEG/man_seg17...     12  0.747423   \n",
       "\n",
       "                                      merged_image_path  \n",
       "0     test_out/inputs-2020-07/BF-C2DL-HSC/MU-Lux-CZ/...  \n",
       "1     test_out/inputs-2020-07/BF-C2DL-HSC/MU-Lux-CZ/...  \n",
       "2     test_out/inputs-2020-07/BF-C2DL-HSC/MU-Lux-CZ/...  \n",
       "3     test_out/inputs-2020-07/BF-C2DL-HSC/MU-Lux-CZ/...  \n",
       "4     test_out/inputs-2020-07/BF-C2DL-HSC/MU-Lux-CZ/...  \n",
       "...                                                 ...  \n",
       "2815  test_out/inputs-2020-07/BF-C2DL-HSC/KIT-Sch-GE...  \n",
       "2816  test_out/inputs-2020-07/BF-C2DL-HSC/KIT-Sch-GE...  \n",
       "2817  test_out/inputs-2020-07/BF-C2DL-HSC/KIT-Sch-GE...  \n",
       "2818  test_out/inputs-2020-07/BF-C2DL-HSC/KIT-Sch-GE...  \n",
       "2819  test_out/inputs-2020-07/BF-C2DL-HSC/KIT-Sch-GE...  \n",
       "\n",
       "[2820 rows x 7 columns]"
      ]
     },
     "execution_count": 5,
     "metadata": {},
     "output_type": "execute_result"
    }
   ],
   "source": [
    "dataframe"
   ]
  },
  {
   "cell_type": "code",
   "execution_count": 24,
   "id": "1ee6bc33-458f-4cdd-b2c5-816903394fb9",
   "metadata": {},
   "outputs": [
    {
     "data": {
      "text/plain": [
       "(2, 1010, 1010)"
      ]
     },
     "execution_count": 24,
     "metadata": {},
     "output_type": "execute_result"
    }
   ],
   "source": [
    "np.array(tifffile.imread(img_path)).shape"
   ]
  },
  {
   "cell_type": "code",
   "execution_count": 31,
   "id": "9756f19a-5834-4a46-930d-c5462ab6ad47",
   "metadata": {},
   "outputs": [],
   "source": [
    "idx=900\n",
    "img_path = dataframe.iloc[idx, -1]\n",
    "image = tifffile.imread(img_path)\n",
    "# if we want to do mapping to values between 0-1, uncomment the following for the scaling\n",
    "#image = np.array(image)/65535.0\n",
    "#image = np.array(image)/1.0\n",
    "# image = Image.fromarray(image)\n",
    "# label = self.dataframe.iloc[idx, -2]\n",
    "# label = torch.tensor(label, dtype=torch.float).reshape(-1, 1)"
   ]
  },
  {
   "cell_type": "code",
   "execution_count": 42,
   "id": "dc3f27c5-2c6f-4293-b5c6-757472af338b",
   "metadata": {},
   "outputs": [],
   "source": [
    "original = image[0]\n",
    "mask = image[1]\n",
    "\n",
    "# Normalize the original image (grayscale values from 0-255 to 0-1)\n",
    "original_normalized = original / 255.0\n",
    "\n",
    "# Ensure mask is binary (0 or 1)\n",
    "mask_binary = (mask > 0).astype(np.float32)\n",
    "\n",
    "# Stack the normalized image and binary mask\n",
    "combined = np.stack([original_normalized, mask_binary], axis=2)\n",
    "\n",
    "# Convert to tensor\n",
    "tensor_transform = transforms.ToTensor()\n",
    "tensor_image = tensor_transform(combined)\n",
    "\n",
    "# Optional: you might want to add channel-wise normalization here\n",
    "# normalize = transforms.Normalize(mean=[0.5, 0.5], std=[0.5, 0.5])\n",
    "# tensor_image = normalize(tensor_image)\n"
   ]
  },
  {
   "cell_type": "code",
   "execution_count": 46,
   "id": "f46d2278-0d1f-4c81-a703-d324c89aa516",
   "metadata": {},
   "outputs": [],
   "source": [
    "import torch"
   ]
  },
  {
   "cell_type": "code",
   "execution_count": 50,
   "id": "71433e77-27ba-4c90-87d9-3f0c618adb40",
   "metadata": {},
   "outputs": [],
   "source": [
    "label = dataframe.iloc[idx, -2]\n",
    "#label = torch.tensor(label, dtype=torch.float).reshape(-1, 1)"
   ]
  },
  {
   "cell_type": "code",
   "execution_count": 51,
   "id": "9f2c3a3b-7ba9-4f37-a778-655892a042d9",
   "metadata": {},
   "outputs": [],
   "source": [
    "jaccard_tensor = torch.tensor(label, dtype=torch.float32)"
   ]
  },
  {
   "cell_type": "code",
   "execution_count": 53,
   "id": "8ae03546-17b2-49de-9705-924ec71da206",
   "metadata": {},
   "outputs": [
    {
     "data": {
      "text/plain": [
       "tensor(0.9177)"
      ]
     },
     "execution_count": 53,
     "metadata": {},
     "output_type": "execute_result"
    }
   ],
   "source": [
    "jaccard_tensor"
   ]
  },
  {
   "cell_type": "code",
   "execution_count": 49,
   "id": "f8ea24cd-6d1a-430e-be6a-e84f11555922",
   "metadata": {},
   "outputs": [
    {
     "data": {
      "text/plain": [
       "tensor([0.9177])"
      ]
     },
     "execution_count": 49,
     "metadata": {},
     "output_type": "execute_result"
    }
   ],
   "source": [
    "label"
   ]
  },
  {
   "cell_type": "code",
   "execution_count": 40,
   "id": "b306e926-c5e4-4813-bd7b-021f25bd6c2f",
   "metadata": {},
   "outputs": [
    {
     "data": {
      "text/plain": [
       "torch.Size([2, 1010, 1010])"
      ]
     },
     "execution_count": 40,
     "metadata": {},
     "output_type": "execute_result"
    }
   ],
   "source": [
    "tensor_image.shape"
   ]
  },
  {
   "cell_type": "code",
   "execution_count": 43,
   "id": "37adf739-8e71-4c62-b115-a26fe09f0d0a",
   "metadata": {},
   "outputs": [
    {
     "data": {
      "text/plain": [
       "tensor([[[0.5098, 0.5137, 0.5176,  ..., 0.4902, 0.4980, 0.4980],\n",
       "         [0.5176, 0.5176, 0.5176,  ..., 0.4902, 0.4980, 0.5020],\n",
       "         [0.5216, 0.5255, 0.5216,  ..., 0.4980, 0.5020, 0.5020],\n",
       "         ...,\n",
       "         [0.5451, 0.5412, 0.5451,  ..., 0.4667, 0.4667, 0.4627],\n",
       "         [0.5490, 0.5451, 0.5451,  ..., 0.4627, 0.4627, 0.4627],\n",
       "         [0.5529, 0.5451, 0.5412,  ..., 0.4627, 0.4588, 0.4588]],\n",
       "\n",
       "        [[0.0000, 0.0000, 0.0000,  ..., 0.0000, 0.0000, 0.0000],\n",
       "         [0.0000, 0.0000, 0.0000,  ..., 0.0000, 0.0000, 0.0000],\n",
       "         [0.0000, 0.0000, 0.0000,  ..., 0.0000, 0.0000, 0.0000],\n",
       "         ...,\n",
       "         [0.0000, 0.0000, 0.0000,  ..., 0.0000, 0.0000, 0.0000],\n",
       "         [0.0000, 0.0000, 0.0000,  ..., 0.0000, 0.0000, 0.0000],\n",
       "         [0.0000, 0.0000, 0.0000,  ..., 0.0000, 0.0000, 0.0000]]],\n",
       "       dtype=torch.float64)"
      ]
     },
     "execution_count": 43,
     "metadata": {},
     "output_type": "execute_result"
    }
   ],
   "source": [
    "tensor_image"
   ]
  },
  {
   "cell_type": "code",
   "execution_count": 34,
   "id": "2cbe3d54-eb32-4dce-8796-d018a3c1cd18",
   "metadata": {},
   "outputs": [
    {
     "data": {
      "text/plain": [
       "array([[0., 0., 0., ..., 0., 0., 0.],\n",
       "       [0., 0., 0., ..., 0., 0., 0.],\n",
       "       [0., 0., 0., ..., 0., 0., 0.],\n",
       "       ...,\n",
       "       [0., 0., 0., ..., 0., 0., 0.],\n",
       "       [0., 0., 0., ..., 0., 0., 0.],\n",
       "       [0., 0., 0., ..., 0., 0., 0.]])"
      ]
     },
     "execution_count": 34,
     "metadata": {},
     "output_type": "execute_result"
    }
   ],
   "source": [
    "image[1]/1.0"
   ]
  },
  {
   "cell_type": "code",
   "execution_count": 33,
   "id": "d116fcd6-9f6c-41a0-b9f6-3632b834791d",
   "metadata": {},
   "outputs": [
    {
     "data": {
      "text/plain": [
       "array([[0.50980392, 0.51372549, 0.51764706, ..., 0.49019608, 0.49803922,\n",
       "        0.49803922],\n",
       "       [0.51764706, 0.51764706, 0.51764706, ..., 0.49019608, 0.49803922,\n",
       "        0.50196078],\n",
       "       [0.52156863, 0.5254902 , 0.52156863, ..., 0.49803922, 0.50196078,\n",
       "        0.50196078],\n",
       "       ...,\n",
       "       [0.54509804, 0.54117647, 0.54509804, ..., 0.46666667, 0.46666667,\n",
       "        0.4627451 ],\n",
       "       [0.54901961, 0.54509804, 0.54509804, ..., 0.4627451 , 0.4627451 ,\n",
       "        0.4627451 ],\n",
       "       [0.55294118, 0.54509804, 0.54117647, ..., 0.4627451 , 0.45882353,\n",
       "        0.45882353]])"
      ]
     },
     "execution_count": 33,
     "metadata": {},
     "output_type": "execute_result"
    }
   ],
   "source": [
    "image[0]/255"
   ]
  },
  {
   "cell_type": "code",
   "execution_count": 10,
   "id": "ee2840d1-7015-476c-bdff-16b0b8763a98",
   "metadata": {},
   "outputs": [
    {
     "data": {
      "text/plain": [
       "<matplotlib.image.AxesImage at 0x7d15aaca6b10>"
      ]
     },
     "execution_count": 10,
     "metadata": {},
     "output_type": "execute_result"
    },
    {
     "data": {
      "image/png": "[encoded data removed]",
      "text/plain": [
       "<Figure size 640x480 with 1 Axes>"
      ]
     },
     "metadata": {},
     "output_type": "display_data"
    }
   ],
   "source": [
    "plt.imshow(image[1])"
   ]
  },
  {
   "cell_type": "code",
   "execution_count": 11,
   "id": "57ea25af-31ab-41d0-9e84-8a2cbd69bbe2",
   "metadata": {},
   "outputs": [
    {
     "data": {
      "text/plain": [
       "<matplotlib.image.AxesImage at 0x7d15aab27390>"
      ]
     },
     "execution_count": 11,
     "metadata": {},
     "output_type": "execute_result"
    },
    {
     "data": {
      "image/png": "[encoded data removed]",
      "text/plain": [
       "<Figure size 640x480 with 1 Axes>"
      ]
     },
     "metadata": {},
     "output_type": "display_data"
    }
   ],
   "source": [
    "plt.imshow(image[0])"
   ]
  },
  {
   "cell_type": "code",
   "execution_count": 5,
   "id": "8675c614-8387-4d82-bcbc-5cf3e01efa14",
   "metadata": {},
   "outputs": [],
   "source": [
    "from torchvision.transforms import functional as TF\n",
    "from torchvision import transforms, datasets"
   ]
  },
  {
   "cell_type": "code",
   "execution_count": 6,
   "id": "81f082d8-bdd0-4c9b-a981-1a9a0f30d675",
   "metadata": {},
   "outputs": [],
   "source": [
    "train_transform = transforms.Compose([\n",
    "            #transforms.Resize((min_width, min_height)),\n",
    "            transforms.ToTensor(),\n",
    "            #transforms.Normalize(mean=mean, std=std)\n",
    "            ])"
   ]
  },
  {
   "cell_type": "code",
   "execution_count": 12,
   "id": "ef8ea666-85be-4bc8-997b-ec9f5e45ea83",
   "metadata": {},
   "outputs": [],
   "source": [
    "transformed_image = train_transform(image)"
   ]
  },
  {
   "cell_type": "code",
   "execution_count": 26,
   "id": "3ebbc55b-b999-4ec6-90e8-b17a358c2074",
   "metadata": {},
   "outputs": [
    {
     "data": {
      "text/plain": [
       "(2, 1010, 1010)"
      ]
     },
     "execution_count": 26,
     "metadata": {},
     "output_type": "execute_result"
    }
   ],
   "source": [
    "image.shape"
   ]
  },
  {
   "cell_type": "code",
   "execution_count": 14,
   "id": "2ccbe2ef-3e2c-49f1-8b44-3c889b2fa99e",
   "metadata": {},
   "outputs": [
    {
     "data": {
      "text/plain": [
       "torch.Size([1010, 2, 1010])"
      ]
     },
     "execution_count": 14,
     "metadata": {},
     "output_type": "execute_result"
    }
   ],
   "source": [
    "transformed_image.shape"
   ]
  },
  {
   "cell_type": "code",
   "execution_count": 41,
   "id": "05fab27b-69d5-4fde-8b5e-4d15f786a210",
   "metadata": {},
   "outputs": [],
   "source": [
    "image = np.array(image)/1.0"
   ]
  },
  {
   "cell_type": "code",
   "execution_count": 18,
   "id": "7b3aec72-c86a-40ac-992f-62db309cb068",
   "metadata": {},
   "outputs": [],
   "source": [
    "bird_image = Image.open('bird.jpg')"
   ]
  },
  {
   "cell_type": "code",
   "execution_count": 23,
   "id": "dbc01946-7fc5-4501-ab25-1b5186ee183a",
   "metadata": {},
   "outputs": [],
   "source": [
    "bird_as_np = np.array(bird_image)"
   ]
  },
  {
   "cell_type": "code",
   "execution_count": 29,
   "id": "363d4179-9d83-4948-8df9-529a1c18206c",
   "metadata": {},
   "outputs": [
    {
     "data": {
      "text/plain": [
       "(427, 640, 3)"
      ]
     },
     "execution_count": 29,
     "metadata": {},
     "output_type": "execute_result"
    }
   ],
   "source": [
    "bird_as_np.shape"
   ]
  },
  {
   "cell_type": "code",
   "execution_count": 24,
   "id": "234baa0d-aeb3-4364-b38c-da20f7dd7f6d",
   "metadata": {},
   "outputs": [],
   "source": [
    "transformed_bird = train_transform(bird_as_np)"
   ]
  },
  {
   "cell_type": "code",
   "execution_count": 25,
   "id": "f4787a7e-7a0d-43f4-9362-cc5bf55f6d92",
   "metadata": {},
   "outputs": [
    {
     "data": {
      "text/plain": [
       "torch.Size([3, 427, 640])"
      ]
     },
     "execution_count": 25,
     "metadata": {},
     "output_type": "execute_result"
    }
   ],
   "source": [
    "transformed_bird.shape"
   ]
  },
  {
   "cell_type": "code",
   "execution_count": 21,
   "id": "d3e8ccc3-14c6-4257-a56b-9b832846dedf",
   "metadata": {},
   "outputs": [
    {
     "ename": "NameError",
     "evalue": "name 'tifffile' is not defined",
     "output_type": "error",
     "traceback": [
      "\u001b[0;31m---------------------------------------------------------------------------\u001b[0m",
      "\u001b[0;31mNameError\u001b[0m                                 Traceback (most recent call last)",
      "Cell \u001b[0;32mIn[21], line 6\u001b[0m\n\u001b[1;32m      4\u001b[0m label \u001b[38;5;241m=\u001b[39m dataframe\u001b[38;5;241m.\u001b[39miloc[idx, \u001b[38;5;241m4\u001b[39m]\n\u001b[1;32m      5\u001b[0m j_value \u001b[38;5;241m=\u001b[39m dataframe\u001b[38;5;241m.\u001b[39miloc[idx, \u001b[38;5;241m5\u001b[39m]\n\u001b[0;32m----> 6\u001b[0m merged_image \u001b[38;5;241m=\u001b[39m \u001b[43mmerge_source_with_mask\u001b[49m\u001b[43m(\u001b[49m\u001b[43mmask_file\u001b[49m\u001b[43m,\u001b[49m\u001b[43m \u001b[49m\u001b[43mgt_source_file\u001b[49m\u001b[43m,\u001b[49m\u001b[43m \u001b[49m\u001b[43mgt_mask_file\u001b[49m\u001b[43m,\u001b[49m\u001b[43m \u001b[49m\u001b[43mlabel\u001b[49m\u001b[43m,\u001b[49m\u001b[43m \u001b[49m\u001b[43mj_value\u001b[49m\u001b[43m)\u001b[49m\n",
      "Cell \u001b[0;32mIn[19], line 2\u001b[0m, in \u001b[0;36mmerge_source_with_mask\u001b[0;34m(mask_file, gt_source_file, gt_mask_file, label, j_value)\u001b[0m\n\u001b[1;32m      1\u001b[0m \u001b[38;5;28;01mdef\u001b[39;00m \u001b[38;5;21mmerge_source_with_mask\u001b[39m(mask_file, gt_source_file, gt_mask_file, label, j_value):\n\u001b[0;32m----> 2\u001b[0m     gt_source \u001b[38;5;241m=\u001b[39m \u001b[43mtifffile\u001b[49m\u001b[38;5;241m.\u001b[39mimread(gt_source_file)\n\u001b[1;32m      3\u001b[0m     gt_masks \u001b[38;5;241m=\u001b[39m tifffile\u001b[38;5;241m.\u001b[39mimread(gt_mask_file)\n\u001b[1;32m      4\u001b[0m     gt_mask \u001b[38;5;241m=\u001b[39m gt_masks \u001b[38;5;241m==\u001b[39m label\n",
      "\u001b[0;31mNameError\u001b[0m: name 'tifffile' is not defined"
     ]
    }
   ],
   "source": [
    "mask_file = dataframe.iloc[idx, 1]\n",
    "gt_source_file = dataframe.iloc[idx, 2]\n",
    "gt_mask_file = dataframe.iloc[idx, 3]\n",
    "label = dataframe.iloc[idx, 4]\n",
    "j_value = dataframe.iloc[idx, 5]\n",
    "merged_image = merge_source_with_mask(mask_file, gt_source_file, gt_mask_file, label, j_value)"
   ]
  },
  {
   "cell_type": "code",
   "execution_count": 15,
   "id": "0a0b1bc6-fd28-4a7b-bd63-2b1e93ec8a3d",
   "metadata": {},
   "outputs": [
    {
     "data": {
      "text/plain": [
       "'test_out/inputs-2020-07/BF-C2DL-HSC/MU-Lux-CZ/01_RES/mask1162_7.tif'"
      ]
     },
     "execution_count": 15,
     "metadata": {},
     "output_type": "execute_result"
    }
   ],
   "source": [
    "img_path"
   ]
  },
  {
   "cell_type": "code",
   "execution_count": 20,
   "id": "01313183-e534-4c5d-9212-9737d7a19911",
   "metadata": {},
   "outputs": [],
   "source": [
    "def get_label_mask(\n",
    "    pred_masks: np.ndarray,\n",
    "    gt_mask: np.ndarray,\n",
    "    label: int,\n",
    "    j_value: float,\n",
    ") -> np.ndarray:\n",
    "    \"\"\"\n",
    "    Get the predicted mask for a specific label.\n",
    "\n",
    "    Args:\n",
    "        pred_masks (np.ndarray): Predicted masks array.\n",
    "        gt_mask (np.ndarray): Ground truth mask array.\n",
    "        label (int): Label to use for masking.\n",
    "        j_value (float): Expected Jaccard score.\n",
    "\n",
    "    Returns:\n",
    "        Tuple[Optional[np.ndarray], Optional[int]]: Predicted mask for the given label and the used label,\n",
    "        or (None, None) if not found.\n",
    "    \"\"\"\n",
    "    unique_mask_labels = np.unique(pred_masks)\n",
    "    # check if the label even has mask\n",
    "    if j_value == 0:\n",
    "        empty_mask = np.zeros_like(pred_masks)\n",
    "        return empty_mask\n",
    "    # Try the given label first\n",
    "    if label in unique_mask_labels:\n",
    "        exp_pred_mask = pred_masks == label\n",
    "        calculated_j_value = np.round(jaccard_score(gt_mask, exp_pred_mask, average=\"micro\"),6)\n",
    "        if calculated_j_value == j_value:\n",
    "            return exp_pred_mask\n",
    "\n",
    "    # If not found, try other labels\n",
    "    for mask_label in unique_mask_labels:\n",
    "        exp_pred_mask = pred_masks == mask_label\n",
    "        calculated_j_value = np.round(jaccard_score(gt_mask, exp_pred_mask, average=\"micro\"),6)\n",
    "        if calculated_j_value == j_value:\n",
    "            return exp_pred_mask\n",
    "\n",
    "    return None"
   ]
  },
  {
   "cell_type": "code",
   "execution_count": 19,
   "id": "721bcccb-e9ed-4e9a-b52e-0a531517fc34",
   "metadata": {},
   "outputs": [],
   "source": [
    "def merge_source_with_mask(mask_file, gt_source_file, gt_mask_file, label, j_value):\n",
    "    gt_source = tifffile.imread(gt_source_file)\n",
    "    gt_masks = tifffile.imread(gt_mask_file)\n",
    "    gt_mask = gt_masks == label\n",
    "    pred_masks = tifffile.imread(mask_file)\n",
    "    pred_mask, used_label = get_label_mask(pred_masks, gt_mask, label, j_value)\n",
    "    if pred_mask is None:\n",
    "        raise Exception(f\"no label mapping found for {mask_file}, with {label}, found\")\n",
    "    else:\n",
    "        return np.stack([gt_source, pred_mask], axis=0), used_label"
   ]
  },
  {
   "cell_type": "code",
   "execution_count": 16,
   "id": "f28e35aa-9208-4ccf-9675-ee756fcacc6b",
   "metadata": {},
   "outputs": [
    {
     "data": {
      "text/plain": [
       "(1010, 1010)"
      ]
     },
     "execution_count": 16,
     "metadata": {},
     "output_type": "execute_result"
    }
   ],
   "source": [
    "np.array(image).shape"
   ]
  },
  {
   "cell_type": "code",
   "execution_count": null,
   "id": "0ea221ee-a334-43a9-b62f-bd85677c9ce9",
   "metadata": {},
   "outputs": [],
   "source": []
  }
 ],
 "metadata": {
  "kernelspec": {
   "display_name": "Python 3 (ipykernel)",
   "language": "python",
   "name": "python3"
  },
  "language_info": {
   "codemirror_mode": {
    "name": "ipython",
    "version": 3
   },
   "file_extension": ".py",
   "mimetype": "text/x-python",
   "name": "python",
   "nbconvert_exporter": "python",
   "pygments_lexer": "ipython3",
   "version": "3.11.5"
  }
 },
 "nbformat": 4,
 "nbformat_minor": 5
}
