{
 "cells": [
  {
   "cell_type": "code",
   "execution_count": 10,
   "id": "a9d6b602-867c-4fda-aeee-bff789a72323",
   "metadata": {},
   "outputs": [],
   "source": [
    "tracking_files_dir = \"../data/inputs-2020-07/BF-C2DL-HSC/01_GT/TRA/*.tif\"\n",
    "gt_files_dir = \"../data/inputs-2020-07/BF-C2DL-HSC/01_GT/SEG/*\""
   ]
  },
  {
   "cell_type": "code",
   "execution_count": 11,
   "id": "ed98e5dd-dca0-43cf-bed3-2c134e298677",
   "metadata": {},
   "outputs": [],
   "source": [
    "# Logic would serve, that comparison between ground truth and tracking markers will be perfect"
   ]
  },
  {
   "cell_type": "code",
   "execution_count": 12,
   "id": "072fcc05-d265-4c87-bf56-541369cf9d6e",
   "metadata": {},
   "outputs": [],
   "source": [
    "from glob import glob"
   ]
  },
  {
   "cell_type": "code",
   "execution_count": 14,
   "id": "c561087a-9b84-445e-839f-3016165fa3d9",
   "metadata": {},
   "outputs": [],
   "source": [
    "tracking_files = glob(tracking_files_dir)"
   ]
  },
  {
   "cell_type": "code",
   "execution_count": null,
   "id": "e4a72793-ec1f-439f-938e-94de33467f68",
   "metadata": {},
   "outputs": [],
   "source": [
    "# we only care about the numbers in the file names. Those should be mapped to each other.\n",
    "tracking_files"
   ]
  },
  {
   "cell_type": "code",
   "execution_count": 18,
   "id": "a1751bfd-201c-43a4-9070-4e7d7a0645c0",
   "metadata": {},
   "outputs": [
    {
     "data": {
      "text/plain": [
       "'../data/inputs-2020-07/BF-C2DL-HSC/01_GT/TRA/man_track1357.tif'"
      ]
     },
     "execution_count": 18,
     "metadata": {},
     "output_type": "execute_result"
    }
   ],
   "source": [
    "tracking_files[0]"
   ]
  },
  {
   "cell_type": "code",
   "execution_count": 20,
   "id": "a1d2a58d-77d3-4128-81a9-b03bfb5ce83a",
   "metadata": {},
   "outputs": [],
   "source": [
    "import pathlib"
   ]
  },
  {
   "cell_type": "code",
   "execution_count": 21,
   "id": "ab28bece-4c1d-4a7d-a542-ae2e89a922e1",
   "metadata": {},
   "outputs": [
    {
     "data": {
      "text/plain": [
       "'man_track1357'"
      ]
     },
     "execution_count": 21,
     "metadata": {},
     "output_type": "execute_result"
    }
   ],
   "source": [
    "pathlib.Path(tracking_files[0]).stem"
   ]
  },
  {
   "cell_type": "code",
   "execution_count": 22,
   "id": "16052fac-229c-4f06-937b-289c8a0c87b9",
   "metadata": {},
   "outputs": [],
   "source": [
    "import re"
   ]
  },
  {
   "cell_type": "code",
   "execution_count": 30,
   "id": "96a55bdc-b4b1-4d31-91f0-912ca673e8d6",
   "metadata": {},
   "outputs": [
    {
     "data": {
      "text/plain": [
       "'1357'"
      ]
     },
     "execution_count": 30,
     "metadata": {},
     "output_type": "execute_result"
    }
   ],
   "source": [
    "re.sub('[\\D\\s]', '', 'man_track1357')"
   ]
  },
  {
   "cell_type": "code",
   "execution_count": 36,
   "id": "6e597c45-0b13-47f1-972b-8ab4eea22589",
   "metadata": {},
   "outputs": [],
   "source": [
    "import tifffile\n",
    "import numpy as np"
   ]
  },
  {
   "cell_type": "code",
   "execution_count": 37,
   "id": "c16e1582-53b6-4a2e-881e-16ba3b1c0c95",
   "metadata": {},
   "outputs": [],
   "source": [
    "track_file = tifffile.imread(tracking_files[0])"
   ]
  },
  {
   "cell_type": "code",
   "execution_count": 38,
   "id": "cea8d009-a2d8-456f-ae19-1f8309bdfd15",
   "metadata": {},
   "outputs": [
    {
     "data": {
      "text/plain": [
       "array([ 0, 26, 27, 31, 33, 34, 36, 57, 59], dtype=uint16)"
      ]
     },
     "execution_count": 38,
     "metadata": {},
     "output_type": "execute_result"
    }
   ],
   "source": [
    "np.unique(track_file)"
   ]
  },
  {
   "cell_type": "code",
   "execution_count": 39,
   "id": "2004daa4-6c59-45a8-8e78-c47bf16c619c",
   "metadata": {},
   "outputs": [],
   "source": [
    "gt_files = glob(gt_files_dir)"
   ]
  },
  {
   "cell_type": "code",
   "execution_count": 42,
   "id": "c9eac17d-2d9b-4cc8-8792-bdd864cc3816",
   "metadata": {},
   "outputs": [],
   "source": [
    "gt_file = tifffile.imread(\"../data/inputs-2020-07/BF-C2DL-HSC/01_GT/SEG/man_seg1357.tif\")"
   ]
  },
  {
   "cell_type": "code",
   "execution_count": 43,
   "id": "744e2096-4d13-4a50-87d5-e0798f542fcb",
   "metadata": {},
   "outputs": [
    {
     "data": {
      "text/plain": [
       "array([0, 1, 2, 3, 4, 5, 6, 7, 8], dtype=uint16)"
      ]
     },
     "execution_count": 43,
     "metadata": {},
     "output_type": "execute_result"
    }
   ],
   "source": [
    "np.unique(gt_file)"
   ]
  },
  {
   "cell_type": "code",
   "execution_count": 45,
   "id": "1a20253d-c45d-4291-be3a-101f29131a8c",
   "metadata": {},
   "outputs": [],
   "source": [
    "gt_file_synced = tifffile.imread(\"../data/inputs-2020-07/BF-C2DL-HSC/01_GT_sync/man_seg1357.tif\")"
   ]
  },
  {
   "cell_type": "code",
   "execution_count": 46,
   "id": "90296aed-7555-4555-bc6f-50a062edc452",
   "metadata": {},
   "outputs": [
    {
     "data": {
      "text/plain": [
       "array([ 0, 26, 27, 31, 33, 34, 36, 57, 59], dtype=uint16)"
      ]
     },
     "execution_count": 46,
     "metadata": {},
     "output_type": "execute_result"
    }
   ],
   "source": [
    "np.unique(gt_file_synced)"
   ]
  },
  {
   "cell_type": "code",
   "execution_count": null,
   "id": "0b3dde66-5fb4-4c76-8d6c-f97c9b616cf5",
   "metadata": {},
   "outputs": [],
   "source": [
    "track_file = tifffile.imread(g[0])"
   ]
  }
 ],
 "metadata": {
  "kernelspec": {
   "display_name": "Python 3 (ipykernel)",
   "language": "python",
   "name": "python3"
  },
  "language_info": {
   "codemirror_mode": {
    "name": "ipython",
    "version": 3
   },
   "file_extension": ".py",
   "mimetype": "text/x-python",
   "name": "python",
   "nbconvert_exporter": "python",
   "pygments_lexer": "ipython3",
   "version": "3.11.9"
  }
 },
 "nbformat": 4,
 "nbformat_minor": 5
}
