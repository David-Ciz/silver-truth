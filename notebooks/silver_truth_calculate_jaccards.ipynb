{
 "cells": [
  {
   "cell_type": "code",
   "execution_count": 4,
   "id": "98cb269a-abc6-42ae-bc18-476c0c0a8869",
   "metadata": {},
   "outputs": [],
   "source": [
    "## we need to calculate jaccard values for every label in GT using the silvertruth masks.\n",
    "## This will give us a good way of comparing it with the competitors"
   ]
  },
  {
   "cell_type": "code",
   "execution_count": 1,
   "id": "53b04c09-42b7-4913-8b2d-579685e4e2c4",
   "metadata": {},
   "outputs": [
    {
     "data": {
      "text/plain": [
       "' steps:\\n1. get all gt_images.\\niterate through them.\\nfor each image:\\n    open image\\n    open corresponding silver_truth\\n    check if value x(1) exists\\n    if yes, calculate jaccard\\n    do until value x does not exist\\n    return list of jaccard values, mapped to x\\n'"
      ]
     },
     "execution_count": 1,
     "metadata": {},
     "output_type": "execute_result"
    }
   ],
   "source": [
    "''' steps:\n",
    "1. get all gt_images.\n",
    "iterate through them.\n",
    "for each image:\n",
    "    open image\n",
    "    open corresponding silver_truth\n",
    "    check if value x(1) exists\n",
    "    if yes, calculate jaccard\n",
    "    do until value x does not exist\n",
    "    return list of jaccard values, mapped to x\n",
    "'''"
   ]
  },
  {
   "cell_type": "code",
   "execution_count": 39,
   "id": "b43fb588-aa3b-46f2-a97b-81b777b4b86c",
   "metadata": {},
   "outputs": [
    {
     "data": {
      "text/plain": [
       "'\\nBad Assumption, the images are not synchronized. Need to synchronize them.\\ndo a test on one image using the fiji synchronization tool\\napply it to the whole folder\\nuse that folder instead of st\\n\\nfuture: headless fiji call, but still, synchronization should be done as a seperate task.\\n'"
      ]
     },
     "execution_count": 39,
     "metadata": {},
     "output_type": "execute_result"
    }
   ],
   "source": [
    "'''\n",
    "Bad Assumption, the images are not synchronized. Need to synchronize them.\n",
    "do a test on one image using the fiji synchronization tool\n",
    "apply it to the whole folder\n",
    "use that folder instead of st\n",
    "\n",
    "future: headless fiji call, but still, synchronization should be done as a seperate task.\n",
    "'''"
   ]
  },
  {
   "cell_type": "code",
   "execution_count": 58,
   "id": "97a153ae-c524-4bbf-8d4e-e22d45a3a976",
   "metadata": {},
   "outputs": [
    {
     "data": {
      "text/plain": [
       "\"\\nAnother problem here is that the ground truth is not synchronized with the tracking markers.\\nneed to synchronize everything. Let's see if the sychronization worked.\\n\""
      ]
     },
     "execution_count": 58,
     "metadata": {},
     "output_type": "execute_result"
    }
   ],
   "source": [
    "'''\n",
    "Another problem here is that the ground truth is not synchronized with the tracking markers.\n",
    "need to synchronize everything. Let's see if the sychronization worked.\n",
    "'''"
   ]
  },
  {
   "cell_type": "code",
   "execution_count": 3,
   "id": "e0d8fb77-c49b-401a-b42b-a5c5b93ea2bc",
   "metadata": {},
   "outputs": [],
   "source": [
    "gt_image = tifffile.imread('inputs-2020-07/BF-C2DL-HSC/02_GT_sync/man_seg0287.tif')\n",
    "track_image = tifffile.imread('inputs-2020-07/BF-C2DL-HSC/02_GT/TRA/man_track0287.tif')\n",
    "comp_image = tifffile.imread('inputs-2020-07/BF-C2DL-HSC/CALT-US/02_RES_sync/mask0287.tif')"
   ]
  },
  {
   "cell_type": "code",
   "execution_count": 4,
   "id": "8ff8ace3-6bf4-4ce6-bc03-9766bb1bba8b",
   "metadata": {},
   "outputs": [],
   "source": [
    "gt_image_old = tifffile.imread('inputs-2020-07/BF-C2DL-HSC/02_GT/SEG/man_seg0287.tif')\n"
   ]
  },
  {
   "cell_type": "code",
   "execution_count": 5,
   "id": "c4abf390-63e9-4455-9e63-13fcae3f7528",
   "metadata": {},
   "outputs": [
    {
     "name": "stdout",
     "output_type": "stream",
     "text": [
      "np.unique(gt_image_old)=array([0, 1, 2, 3, 4], dtype=uint16)\n",
      "np.unique(gt_image)=array([  0,   6,   7, 634, 635], dtype=uint16)\n",
      "np.unique(track_image)=array([  0,   6,   7, 634, 635], dtype=uint16)\n",
      "np.unique(comp_image)=array([  0,   6,   7, 634, 635], dtype=uint16)\n"
     ]
    }
   ],
   "source": [
    "print(f'{np.unique(gt_image_old)=}')\n",
    "print(f'{np.unique(gt_image)=}')\n",
    "print(f'{np.unique(track_image)=}')\n",
    "print(f'{np.unique(comp_image)=}')"
   ]
  },
  {
   "cell_type": "code",
   "execution_count": 14,
   "id": "abf179f0-8681-4007-b0f3-00ebcf0e5fdb",
   "metadata": {},
   "outputs": [],
   "source": [
    "def calculate_jaccard_scores(gt_image, mask_image):\n",
    "    labels = np.unique(gt_image)[1:]\n",
    "    scores = {}\n",
    "    for label in labels:\n",
    "        label_layer = np.zeros_like(gt_image)\n",
    "        label_layer[gt_image == label] = 1\n",
    "        mask_layer = np.zeros_like(mask_image) \n",
    "        mask_layer[mask_image == label] = 1\n",
    "        j = jaccard_score(label_layer, mask_layer, average='micro')\n",
    "        scores[label] = j\n",
    "    return scores\n",
    "    # overall_scores[st_image_path] = scores"
   ]
  },
  {
   "cell_type": "code",
   "execution_count": 15,
   "id": "6495df92-f5af-4963-9330-e0c9b9c60ee4",
   "metadata": {},
   "outputs": [],
   "source": [
    "scores = calculate_jaccard_scores(gt_image, comp_image)"
   ]
  },
  {
   "cell_type": "code",
   "execution_count": 16,
   "id": "4dea3673-54b7-4c58-9ee2-55a22138f968",
   "metadata": {},
   "outputs": [
    {
     "data": {
      "text/plain": [
       "{6: 0.9130434782608695,\n",
       " 7: 0.8681592039800995,\n",
       " 634: 0.8525073746312685,\n",
       " 635: 0.8753387533875339}"
      ]
     },
     "execution_count": 16,
     "metadata": {},
     "output_type": "execute_result"
    }
   ],
   "source": [
    "scores"
   ]
  },
  {
   "cell_type": "code",
   "execution_count": null,
   "id": "4133c719-3e42-424a-a245-8966e56aab48",
   "metadata": {},
   "outputs": [],
   "source": [
    "show_image(gt_image, 'gt_image')"
   ]
  },
  {
   "cell_type": "code",
   "execution_count": null,
   "id": "823e1645-ab3d-497f-b77f-c27e304b4825",
   "metadata": {},
   "outputs": [],
   "source": [
    "result = get_best_phenomena_showcase"
   ]
  },
  {
   "cell_type": "code",
   "execution_count": null,
   "id": "22e4d401-e162-409a-b67d-3dc1476c2289",
   "metadata": {},
   "outputs": [],
   "source": []
  },
  {
   "cell_type": "code",
   "execution_count": 9,
   "id": "b7a2a3f5-5a01-475c-8c58-29aab5ad97bc",
   "metadata": {},
   "outputs": [],
   "source": [
    "import pandas as pd\n",
    "import tifffile\n",
    "import pathlib\n",
    "import numpy as np\n",
    "from sklearn.metrics import jaccard_score\n",
    "import numpy as np\n",
    "import cv2\n",
    "from PIL import Image\n",
    "import tifffile\n",
    "import pathlib\n",
    "import matplotlib.pyplot as plt\n",
    "import matplotlib.colors as mcolors\n",
    "import os\n",
    "from typing import Union, Tuple, List, Optional"
   ]
  },
  {
   "cell_type": "code",
   "execution_count": 20,
   "id": "9bb5e708-3834-4767-8e13-26f6d8874ebb",
   "metadata": {},
   "outputs": [],
   "source": [
    "df = pd.read_csv('dataset.csv')"
   ]
  },
  {
   "cell_type": "code",
   "execution_count": 21,
   "id": "ea0a6c15-f576-4e9e-9175-07da7df10ef6",
   "metadata": {},
   "outputs": [
    {
     "data": {
      "text/plain": [
       "0       inputs-2020-07/BF-C2DL-HSC/02_GT/SEG/man_seg00...\n",
       "1       inputs-2020-07/BF-C2DL-HSC/02_GT/SEG/man_seg00...\n",
       "2       inputs-2020-07/BF-C2DL-HSC/02_GT/SEG/man_seg00...\n",
       "3       inputs-2020-07/BF-C2DL-HSC/02_GT/SEG/man_seg00...\n",
       "4       inputs-2020-07/BF-C2DL-HSC/02_GT/SEG/man_seg02...\n",
       "                              ...                        \n",
       "2815    inputs-2020-07/BF-C2DL-HSC/01_GT/SEG/man_seg17...\n",
       "2816    inputs-2020-07/BF-C2DL-HSC/01_GT/SEG/man_seg17...\n",
       "2817    inputs-2020-07/BF-C2DL-HSC/01_GT/SEG/man_seg17...\n",
       "2818    inputs-2020-07/BF-C2DL-HSC/01_GT/SEG/man_seg17...\n",
       "2819    inputs-2020-07/BF-C2DL-HSC/01_GT/SEG/man_seg17...\n",
       "Name: Gt_mask_file, Length: 2820, dtype: object"
      ]
     },
     "execution_count": 21,
     "metadata": {},
     "output_type": "execute_result"
    }
   ],
   "source": [
    "df['Gt_mask_file']"
   ]
  },
  {
   "cell_type": "code",
   "execution_count": 22,
   "id": "b39be5ed-055f-46e5-acf4-5be538549537",
   "metadata": {},
   "outputs": [],
   "source": [
    "gt_source_files = list(df.drop_duplicates(subset=['Gt_mask_file'])['Gt_mask_file'])"
   ]
  },
  {
   "cell_type": "code",
   "execution_count": 24,
   "id": "cf67deed-3573-4251-91f8-452cb5a1f35f",
   "metadata": {},
   "outputs": [],
   "source": [
    "# open corresponding silvertruth:\n",
    "def find_silvertruth_image(gt_image_path: str) -> str:\n",
    "    input_folder, dataset, inner_split, seg, filename = gt_image_path.split('/')\n",
    "    silvertruth_image_path = pathlib.Path(input_folder, dataset, f\"{inner_split.replace('G', 'S')}_sync\", seg, filename)\n",
    "    return str(silvertruth_image_path)"
   ]
  },
  {
   "cell_type": "code",
   "execution_count": 25,
   "id": "adb82077-ec57-4f68-b3db-4714853d4d61",
   "metadata": {},
   "outputs": [],
   "source": [
    "# due to the synchronization, the images need to be taken from the sync folder. Since I only haave\n",
    "# a quarter of a brain, I'm just going to rename it here.\n",
    "\n",
    "def find_gt_image(gt_image_path: str) -> str:\n",
    "    input_folder, dataset, inner_split, seg, filename = gt_image_path.split('/')\n",
    "    synced_gt_image_path = pathlib.Path(input_folder, dataset, f\"{inner_split}_sync\", filename)\n",
    "    return str(synced_gt_image_path)"
   ]
  },
  {
   "cell_type": "code",
   "execution_count": 26,
   "id": "26b37ddf-506c-4a4f-a170-b9e896914409",
   "metadata": {},
   "outputs": [],
   "source": [
    "from tqdm import tqdm"
   ]
  },
  {
   "cell_type": "code",
   "execution_count": 29,
   "id": "e5e05cf1-320d-4513-a89c-924555cd1061",
   "metadata": {},
   "outputs": [
    {
     "name": "stderr",
     "output_type": "stream",
     "text": [
      "100%|███████████████████████████████████████████| 57/57 [00:18<00:00,  3.16it/s]\n"
     ]
    }
   ],
   "source": [
    "overall_scores = {}\n",
    "for gt_image_path in tqdm(gt_source_files):\n",
    "    synced_gt_image_path = find_gt_image(gt_image_path)\n",
    "    gt_image = tifffile.imread(synced_gt_image_path)\n",
    "    st_image_path = find_silvertruth_image(gt_image_path)\n",
    "    st_image = tifffile.imread(st_image_path)\n",
    "    #print(gt_image_path)\n",
    "    labels = np.unique(gt_image)[1:]\n",
    "    scores = {}\n",
    "    for label in labels:\n",
    "        label_layer = np.zeros_like(gt_image)\n",
    "        label_layer[gt_image == label] = 1\n",
    "        mask_layer = np.zeros_like(st_image) \n",
    "        mask_layer[st_image == label] = 1\n",
    "        j = jaccard_score(label_layer, mask_layer, average='micro')\n",
    "        scores[label] = j\n",
    "    overall_scores[st_image_path] = scores\n",
    "    "
   ]
  },
  {
   "cell_type": "code",
   "execution_count": 30,
   "id": "f7548316-fc29-495e-8917-562d042417f3",
   "metadata": {},
   "outputs": [
    {
     "data": {
      "text/plain": [
       "{'inputs-2020-07/BF-C2DL-HSC/02_ST_sync/SEG/man_seg0046.tif': {1: 0.8839779005524862,\n",
       "  5: 0.9276139410187667},\n",
       " 'inputs-2020-07/BF-C2DL-HSC/02_ST_sync/SEG/man_seg0056.tif': {1: 0.8125,\n",
       "  5: 0.7891737891737892},\n",
       " 'inputs-2020-07/BF-C2DL-HSC/02_ST_sync/SEG/man_seg0287.tif': {6: 0.8786279683377308,\n",
       "  7: 0.8733850129198967,\n",
       "  634: 0.8601823708206687,\n",
       "  635: 0.8825136612021858},\n",
       " 'inputs-2020-07/BF-C2DL-HSC/02_ST_sync/SEG/man_seg0448.tif': {4: 0.8559322033898306,\n",
       "  10: 0.805921052631579,\n",
       "  11: 0.7710144927536232,\n",
       "  13: 0.8645833333333334,\n",
       "  14: 0.6993006993006993,\n",
       "  16: 0.812,\n",
       "  17: 0.7925311203319502,\n",
       "  592: 0.8592375366568915},\n",
       " 'inputs-2020-07/BF-C2DL-HSC/02_ST_sync/SEG/man_seg0799.tif': {19: 0.8980891719745223,\n",
       "  20: 0.8612099644128114,\n",
       "  22: 0.8684931506849315,\n",
       "  24: 0.8956521739130435,\n",
       "  27: 0.931740614334471,\n",
       "  28: 0.9036144578313253,\n",
       "  29: 0.898876404494382,\n",
       "  30: 0.8858858858858859,\n",
       "  32: 0.8515151515151516,\n",
       "  33: 0.8263888888888888,\n",
       "  34: 0.8797653958944281,\n",
       "  36: 0.9065420560747663,\n",
       "  42: 0.8753894080996885,\n",
       "  44: 0.8743455497382199,\n",
       "  45: 0.8154362416107382,\n",
       "  46: 0.8892128279883382},\n",
       " 'inputs-2020-07/BF-C2DL-HSC/02_ST_sync/SEG/man_seg0879.tif': {19: 0.9730639730639731,\n",
       "  20: 0.932,\n",
       "  22: 0.9129554655870445,\n",
       "  24: 0.8676844783715013,\n",
       "  27: 0.9037900874635568,\n",
       "  28: 0.8788732394366198,\n",
       "  29: 0.882494004796163,\n",
       "  30: 0.8783068783068783,\n",
       "  32: 0.9329446064139941,\n",
       "  33: 0.9178470254957507,\n",
       "  34: 0.9083333333333333,\n",
       "  36: 0.883248730964467,\n",
       "  42: 0.9075144508670521,\n",
       "  44: 0.8903394255874674,\n",
       "  45: 0.8888888888888888,\n",
       "  46: 0.8746268656716418},\n",
       " 'inputs-2020-07/BF-C2DL-HSC/02_ST_sync/SEG/man_seg1585.tif': {85: 0.6862745098039216,\n",
       "  113: 0.897196261682243,\n",
       "  132: 0.8157894736842105,\n",
       "  137: 0.8704318936877077,\n",
       "  153: 0.8977272727272727,\n",
       "  177: 0.9119170984455959,\n",
       "  184: 0.8888888888888888,\n",
       "  186: 0.8817567567567568,\n",
       "  197: 0.8644986449864499,\n",
       "  198: 0.8861047835990888,\n",
       "  200: 0.9230769230769231,\n",
       "  206: 0.804953560371517,\n",
       "  208: 0.8536585365853658,\n",
       "  220: 0.8881987577639752,\n",
       "  221: 0.8810679611650486,\n",
       "  223: 0.8928571428571429,\n",
       "  224: 0.8584615384615385,\n",
       "  228: 0.8136094674556213,\n",
       "  230: 0.7949438202247191,\n",
       "  231: 0.8645320197044335,\n",
       "  232: 0.8970976253298153,\n",
       "  234: 0.8931116389548693,\n",
       "  235: 0.8804347826086957,\n",
       "  238: 0.839541547277937,\n",
       "  239: 0.8360655737704918,\n",
       "  241: 0.8814016172506739,\n",
       "  242: 0.8590078328981723,\n",
       "  244: 0.8711656441717791,\n",
       "  245: 0.8721804511278195,\n",
       "  247: 0.9242902208201893,\n",
       "  248: 0.8592375366568915,\n",
       "  250: 0.9039735099337748,\n",
       "  251: 0.864951768488746,\n",
       "  253: 0.7741935483870968,\n",
       "  254: 0.8708010335917312,\n",
       "  255: 0.9096045197740112,\n",
       "  257: 0.8325688073394495,\n",
       "  259: 0.8839779005524862,\n",
       "  260: 0.8508771929824561,\n",
       "  262: 0.8415584415584415,\n",
       "  263: 0.9206730769230769,\n",
       "  270: 0.8554913294797688,\n",
       "  272: 0.8652291105121294,\n",
       "  273: 0.8154981549815498,\n",
       "  275: 0.8464285714285714,\n",
       "  277: 0.7337883959044369,\n",
       "  278: 0.8983050847457628,\n",
       "  280: 0.8398791540785498,\n",
       "  281: 0.8885542168674698,\n",
       "  283: 0.7879518072289157,\n",
       "  284: 0.8674033149171271,\n",
       "  286: 0.8575581395348837,\n",
       "  287: 0.8443271767810027,\n",
       "  293: 0.8259860788863109,\n",
       "  294: 0.8765743073047859,\n",
       "  296: 0.8274647887323944,\n",
       "  297: 0.8738738738738738,\n",
       "  299: 0.8785310734463276,\n",
       "  300: 0.8136094674556213,\n",
       "  302: 0.8695652173913043,\n",
       "  303: 0.8454258675078864,\n",
       "  315: 0.7954545454545454,\n",
       "  316: 0.8781362007168458,\n",
       "  320: 0.8591954022988506,\n",
       "  321: 0.8557993730407524,\n",
       "  322: 0.8603174603174604,\n",
       "  323: 0.8417910447761194,\n",
       "  325: 0.8271276595744681,\n",
       "  326: 0.8629737609329446,\n",
       "  328: 0.8284182305630027,\n",
       "  329: 0.861198738170347,\n",
       "  330: 0.864963503649635,\n",
       "  332: 0.7516129032258064,\n",
       "  333: 0.8327868852459016,\n",
       "  338: 0.8269896193771626,\n",
       "  345: 0.8426229508196721,\n",
       "  346: 0.8328767123287671,\n",
       "  349: 0.855457227138643,\n",
       "  350: 0.7245508982035929,\n",
       "  352: 0.7737704918032787,\n",
       "  353: 0.9122257053291536,\n",
       "  355: 0.8466898954703833,\n",
       "  356: 0.8067632850241546,\n",
       "  358: 0.8288973384030418,\n",
       "  359: 0.8543307086614174,\n",
       "  363: 0.8246153846153846,\n",
       "  364: 0.844311377245509,\n",
       "  367: 0.8737201365187713,\n",
       "  368: 0.89419795221843,\n",
       "  370: 0.8515151515151516,\n",
       "  371: 0.8808777429467085,\n",
       "  372: 0.8976109215017065,\n",
       "  374: 0.8865979381443299,\n",
       "  375: 0.8773946360153256,\n",
       "  377: 0.8795620437956204,\n",
       "  379: 0.8651685393258427,\n",
       "  380: 0.850909090909091,\n",
       "  381: 0.775974025974026,\n",
       "  382: 0.9301470588235294,\n",
       "  384: 0.832089552238806,\n",
       "  386: 0.8436363636363636,\n",
       "  387: 0.7322033898305085,\n",
       "  389: 0.8515901060070671,\n",
       "  612: 0.8979591836734694,\n",
       "  613: 0.8637873754152824},\n",
       " 'inputs-2020-07/BF-C2DL-HSC/02_ST_sync/SEG/man_seg1748.tif': {85: 0.7323943661971831,\n",
       "  250: 0.8723958333333334,\n",
       "  251: 0.9308641975308642,\n",
       "  273: 0.8566176470588235,\n",
       "  275: 0.8697318007662835,\n",
       "  277: 0.8685897435897436,\n",
       "  278: 0.8698412698412699,\n",
       "  296: 0.8545918367346939,\n",
       "  297: 0.9136490250696379,\n",
       "  302: 0.8458333333333333,\n",
       "  315: 0.8547215496368039,\n",
       "  316: 0.9086294416243654,\n",
       "  320: 0.8795180722891566,\n",
       "  321: 0.8255528255528255,\n",
       "  322: 0.9207650273224044,\n",
       "  323: 0.8789473684210526,\n",
       "  325: 0.8852459016393442,\n",
       "  326: 0.8652482269503546,\n",
       "  328: 0.8382352941176471,\n",
       "  329: 0.8242894056847545,\n",
       "  330: 0.7775,\n",
       "  332: 0.839142091152815,\n",
       "  333: 0.7301980198019802,\n",
       "  338: 0.7421203438395415,\n",
       "  345: 0.8347578347578347,\n",
       "  346: 0.872,\n",
       "  349: 0.6878980891719745,\n",
       "  350: 0.9050925925925926,\n",
       "  352: 0.8628841607565012,\n",
       "  353: 0.884090909090909,\n",
       "  355: 0.7958477508650519,\n",
       "  356: 0.9351535836177475,\n",
       "  358: 0.8065326633165829,\n",
       "  359: 0.8756476683937824,\n",
       "  363: 0.8786885245901639,\n",
       "  364: 0.8613333333333333,\n",
       "  367: 0.7763713080168776,\n",
       "  368: 0.8108695652173913,\n",
       "  370: 0.7908847184986595,\n",
       "  371: 0.850415512465374,\n",
       "  372: 0.8463541666666666,\n",
       "  374: 0.8402366863905325,\n",
       "  375: 0.8583106267029973,\n",
       "  377: 0.875,\n",
       "  379: 0.8193979933110368,\n",
       "  380: 0.7885985748218527,\n",
       "  381: 0.7947214076246334,\n",
       "  382: 0.8425925925925926,\n",
       "  384: 0.8080495356037152,\n",
       "  386: 0.8599348534201955,\n",
       "  387: 0.8412698412698413,\n",
       "  389: 0.8651315789473685,\n",
       "  391: 0.8853503184713376,\n",
       "  392: 0.8466257668711656,\n",
       "  394: 0.8686567164179104,\n",
       "  395: 0.9033232628398792,\n",
       "  397: 0.8207792207792208,\n",
       "  398: 0.9130434782608695,\n",
       "  399: 0.8055555555555556,\n",
       "  401: 0.8567251461988304,\n",
       "  402: 0.865625,\n",
       "  404: 0.8746928746928747,\n",
       "  406: 0.8851851851851852,\n",
       "  407: 0.847682119205298,\n",
       "  411: 0.8588709677419355,\n",
       "  412: 0.8158995815899581,\n",
       "  413: 0.8262108262108262,\n",
       "  415: 0.8643067846607669,\n",
       "  417: 0.8940568475452196,\n",
       "  418: 0.7558139534883721,\n",
       "  432: 0.8657718120805369,\n",
       "  433: 0.8390092879256966,\n",
       "  447: 0.8648648648648649,\n",
       "  448: 0.7879656160458453,\n",
       "  450: 0.7827476038338658,\n",
       "  451: 0.8227146814404432,\n",
       "  453: 0.7793103448275862,\n",
       "  454: 0.9079497907949791,\n",
       "  456: 0.8802395209580839,\n",
       "  457: 0.879245283018868,\n",
       "  460: 0.8720626631853786,\n",
       "  461: 0.803921568627451,\n",
       "  462: 0.8624161073825504,\n",
       "  463: 0.8338762214983714,\n",
       "  465: 0.8679245283018868,\n",
       "  466: 0.8446969696969697,\n",
       "  468: 0.8409893992932862,\n",
       "  469: 0.839041095890411,\n",
       "  471: 0.9075342465753424,\n",
       "  472: 0.8461538461538461,\n",
       "  473: 0.8885245901639345,\n",
       "  475: 0.8338028169014085,\n",
       "  476: 0.8853658536585366,\n",
       "  478: 0.8262195121951219,\n",
       "  479: 0.8650793650793651,\n",
       "  481: 0.8558282208588958,\n",
       "  483: 0.8287937743190662,\n",
       "  484: 0.8395522388059702,\n",
       "  488: 0.8634686346863468,\n",
       "  489: 0.8581081081081081,\n",
       "  491: 0.8505747126436781,\n",
       "  492: 0.8880866425992779,\n",
       "  493: 0.8466666666666667,\n",
       "  495: 0.9216300940438872,\n",
       "  497: 0.825503355704698,\n",
       "  498: 0.9020172910662824,\n",
       "  499: 0.8607142857142858,\n",
       "  501: 0.8018867924528302,\n",
       "  503: 0.8592814371257484,\n",
       "  504: 0.7737226277372263,\n",
       "  506: 0.8833333333333333,\n",
       "  507: 0.8153310104529616,\n",
       "  509: 0.8346153846153846,\n",
       "  510: 0.8954703832752613,\n",
       "  512: 0.8513011152416357,\n",
       "  513: 0.7827586206896552,\n",
       "  514: 0.7955182072829131,\n",
       "  516: 0.821917808219178,\n",
       "  518: 0.7701149425287356,\n",
       "  519: 0.8427672955974843,\n",
       "  521: 0.8641975308641975,\n",
       "  522: 0.813953488372093,\n",
       "  524: 0.8607594936708861,\n",
       "  525: 0.88,\n",
       "  527: 0.8643410852713178,\n",
       "  528: 0.8089887640449438,\n",
       "  530: 0.8106312292358804,\n",
       "  531: 0.8753387533875339,\n",
       "  534: 0.7966101694915254,\n",
       "  536: 0.851145038167939,\n",
       "  540: 0.8060109289617486,\n",
       "  542: 0.8363636363636363,\n",
       "  548: 0.8398268398268398,\n",
       "  549: 0.8849206349206349,\n",
       "  550: 0.8975265017667845,\n",
       "  552: 0.8438538205980066,\n",
       "  554: 0.8618181818181818,\n",
       "  555: 0.8235294117647058,\n",
       "  556: 0.8380566801619433,\n",
       "  558: 0.635483870967742,\n",
       "  560: 0.9087947882736156,\n",
       "  561: 0.8970099667774086,\n",
       "  563: 0.8825503355704698,\n",
       "  564: 0.9111842105263158,\n",
       "  566: 0.7918088737201365,\n",
       "  567: 0.8491228070175438,\n",
       "  570: 0.8116438356164384,\n",
       "  571: 0.8819188191881919,\n",
       "  572: 0.8927038626609443,\n",
       "  574: 0.8300395256916996,\n",
       "  578: 0.8599221789883269,\n",
       "  579: 0.8604651162790697,\n",
       "  606: 0.8796296296296297,\n",
       "  607: 0.9022082018927445,\n",
       "  612: 0.8307291666666666,\n",
       "  613: 0.8903803131991052},\n",
       " 'inputs-2020-07/BF-C2DL-HSC/01_ST_sync/SEG/man_seg0058.tif': {1: 0.9472361809045227},\n",
       " 'inputs-2020-07/BF-C2DL-HSC/01_ST_sync/SEG/man_seg0108.tif': {1: 0.9279538904899135},\n",
       " 'inputs-2020-07/BF-C2DL-HSC/01_ST_sync/SEG/man_seg0126.tif': {1: 0.9140127388535032},\n",
       " 'inputs-2020-07/BF-C2DL-HSC/01_ST_sync/SEG/man_seg0175.tif': {1: 0.9434889434889435},\n",
       " 'inputs-2020-07/BF-C2DL-HSC/01_ST_sync/SEG/man_seg0183.tif': {1: 0.9453125},\n",
       " 'inputs-2020-07/BF-C2DL-HSC/01_ST_sync/SEG/man_seg0218.tif': {15: 0.8811475409836066,\n",
       "  16: 0.902127659574468},\n",
       " 'inputs-2020-07/BF-C2DL-HSC/01_ST_sync/SEG/man_seg0332.tif': {15: 0.8997772828507795,\n",
       "  16: 0.9061032863849765},\n",
       " 'inputs-2020-07/BF-C2DL-HSC/01_ST_sync/SEG/man_seg0347.tif': {15: 0.9269406392694064,\n",
       "  16: 0.9166666666666666},\n",
       " 'inputs-2020-07/BF-C2DL-HSC/01_ST_sync/SEG/man_seg0359.tif': {15: 0.9069264069264069,\n",
       "  16: 0.9270588235294117},\n",
       " 'inputs-2020-07/BF-C2DL-HSC/01_ST_sync/SEG/man_seg0402.tif': {15: 0.9211711711711712,\n",
       "  16: 0.914572864321608},\n",
       " 'inputs-2020-07/BF-C2DL-HSC/01_ST_sync/SEG/man_seg0473.tif': {15: 0.9185667752442996,\n",
       "  16: 0.8725701943844493},\n",
       " 'inputs-2020-07/BF-C2DL-HSC/01_ST_sync/SEG/man_seg0475.tif': {15: 0.907185628742515,\n",
       "  16: 0.8806584362139918},\n",
       " 'inputs-2020-07/BF-C2DL-HSC/01_ST_sync/SEG/man_seg0528.tif': {15: 0.9316239316239316,\n",
       "  16: 0.9181141439205955},\n",
       " 'inputs-2020-07/BF-C2DL-HSC/01_ST_sync/SEG/man_seg0659.tif': {16: 0.5046511627906977,\n",
       "  20: 0.927536231884058,\n",
       "  21: 0.944206008583691},\n",
       " 'inputs-2020-07/BF-C2DL-HSC/01_ST_sync/SEG/man_seg0701.tif': {20: 0.9101123595505618,\n",
       "  21: 0.8952380952380953,\n",
       "  51: 0.8126984126984127,\n",
       "  52: 0.8853754940711462},\n",
       " 'inputs-2020-07/BF-C2DL-HSC/01_ST_sync/SEG/man_seg0713.tif': {20: 0.9296482412060302,\n",
       "  21: 0.9096045197740112,\n",
       "  51: 0.91,\n",
       "  52: 0.9209486166007905},\n",
       " 'inputs-2020-07/BF-C2DL-HSC/01_ST_sync/SEG/man_seg0731.tif': {20: 0.8726708074534162,\n",
       "  21: 0.9340659340659341,\n",
       "  51: 0.889589905362776,\n",
       "  52: 0.8465909090909091},\n",
       " 'inputs-2020-07/BF-C2DL-HSC/01_ST_sync/SEG/man_seg0760.tif': {20: 0.9280575539568345,\n",
       "  21: 0.8387096774193549,\n",
       "  51: 0.8780487804878049,\n",
       "  52: 0.8888888888888888},\n",
       " 'inputs-2020-07/BF-C2DL-HSC/01_ST_sync/SEG/man_seg0806.tif': {20: 0.8808864265927978,\n",
       "  21: 0.9371584699453552,\n",
       "  51: 0.6988304093567251,\n",
       "  52: 0.7765567765567766},\n",
       " 'inputs-2020-07/BF-C2DL-HSC/01_ST_sync/SEG/man_seg0838.tif': {20: 0.8100558659217877,\n",
       "  21: 0.935656836461126,\n",
       "  51: 0.8713910761154856,\n",
       "  52: 0.8637532133676092},\n",
       " 'inputs-2020-07/BF-C2DL-HSC/01_ST_sync/SEG/man_seg0868.tif': {20: 0.8744588744588745,\n",
       "  21: 0.9081364829396326,\n",
       "  51: 0.9046153846153846,\n",
       "  52: 0.9041095890410958},\n",
       " 'inputs-2020-07/BF-C2DL-HSC/01_ST_sync/SEG/man_seg0871.tif': {20: 0.9407582938388626,\n",
       "  21: 0.8722358722358723,\n",
       "  51: 0.8826530612244898,\n",
       "  52: 0.8656716417910447},\n",
       " 'inputs-2020-07/BF-C2DL-HSC/01_ST_sync/SEG/man_seg0902.tif': {20: 0.8911917098445595,\n",
       "  21: 0.8807588075880759,\n",
       "  51: 0.9251700680272109,\n",
       "  52: 0.9029126213592233},\n",
       " 'inputs-2020-07/BF-C2DL-HSC/01_ST_sync/SEG/man_seg0930.tif': {20: 0.8959276018099548,\n",
       "  21: 0.8821656050955414,\n",
       "  51: 0.8733509234828496,\n",
       "  52: 0.9116883116883117},\n",
       " 'inputs-2020-07/BF-C2DL-HSC/01_ST_sync/SEG/man_seg0932.tif': {20: 0.9201030927835051,\n",
       "  21: 0.7649880095923262,\n",
       "  51: 0.7357512953367875,\n",
       "  52: 0.9575070821529745},\n",
       " 'inputs-2020-07/BF-C2DL-HSC/01_ST_sync/SEG/man_seg0965.tif': {20: 0.9240837696335078,\n",
       "  21: 0.9132947976878613,\n",
       "  51: 0.9205020920502092,\n",
       "  52: 0.8794326241134752},\n",
       " 'inputs-2020-07/BF-C2DL-HSC/01_ST_sync/SEG/man_seg0988.tif': {20: 0.8952879581151832,\n",
       "  21: 0.9155555555555556,\n",
       "  51: 0.9398907103825137,\n",
       "  52: 0.9154228855721394},\n",
       " 'inputs-2020-07/BF-C2DL-HSC/01_ST_sync/SEG/man_seg0990.tif': {20: 0.9283276450511946,\n",
       "  21: 0.940149625935162,\n",
       "  51: 0.900990099009901,\n",
       "  52: 0.9070904645476773},\n",
       " 'inputs-2020-07/BF-C2DL-HSC/01_ST_sync/SEG/man_seg1122.tif': {20: 0.9123287671232877,\n",
       "  26: 0.921875,\n",
       "  27: 0.9262295081967213,\n",
       "  51: 0.9347258485639687,\n",
       "  52: 0.8942857142857142},\n",
       " 'inputs-2020-07/BF-C2DL-HSC/01_ST_sync/SEG/man_seg1162.tif': {26: 0.9431438127090301,\n",
       "  27: 0.940677966101695,\n",
       "  31: 0.8166666666666667,\n",
       "  33: 0.8708708708708709,\n",
       "  52: 0.9273255813953488,\n",
       "  57: 0.9318181818181818,\n",
       "  59: 0.8793774319066148},\n",
       " 'inputs-2020-07/BF-C2DL-HSC/01_ST_sync/SEG/man_seg1170.tif': {26: 0.9411764705882353,\n",
       "  27: 0.9259259259259259,\n",
       "  31: 0.8996960486322189,\n",
       "  33: 0.8494318181818182,\n",
       "  52: 0.9301675977653632,\n",
       "  57: 0.9395017793594306,\n",
       "  59: 0.8918918918918919},\n",
       " 'inputs-2020-07/BF-C2DL-HSC/01_ST_sync/SEG/man_seg1199.tif': {26: 0.9392857142857143,\n",
       "  27: 0.8903743315508021,\n",
       "  31: 0.884375,\n",
       "  33: 0.8679245283018868,\n",
       "  34: 0.896551724137931,\n",
       "  36: 0.8327402135231317,\n",
       "  57: 0.8780487804878049,\n",
       "  59: 0.9},\n",
       " 'inputs-2020-07/BF-C2DL-HSC/01_ST_sync/SEG/man_seg1219.tif': {26: 0.9228723404255319,\n",
       "  27: 0.8900804289544236,\n",
       "  31: 0.9277456647398844,\n",
       "  33: 0.797583081570997,\n",
       "  34: 0.8229508196721311,\n",
       "  36: 0.9506172839506173,\n",
       "  57: 0.9347826086956522,\n",
       "  59: 0.9222972972972973},\n",
       " 'inputs-2020-07/BF-C2DL-HSC/01_ST_sync/SEG/man_seg1357.tif': {26: 0.8730650154798761,\n",
       "  27: 0.9068627450980392,\n",
       "  31: 0.9115479115479116,\n",
       "  33: 0.9127659574468086,\n",
       "  34: 0.8432601880877743,\n",
       "  36: 0.7864406779661017,\n",
       "  57: 0.91,\n",
       "  59: 0.9007352941176471},\n",
       " 'inputs-2020-07/BF-C2DL-HSC/01_ST_sync/SEG/man_seg1369.tif': {26: 0.9206349206349206,\n",
       "  27: 0.9207650273224044,\n",
       "  31: 0.9209039548022598,\n",
       "  33: 0.9180327868852459,\n",
       "  34: 0.9233226837060703,\n",
       "  36: 0.7919254658385093,\n",
       "  57: 0.7647058823529411,\n",
       "  59: 0.909433962264151},\n",
       " 'inputs-2020-07/BF-C2DL-HSC/01_ST_sync/SEG/man_seg1397.tif': {26: 0.839344262295082,\n",
       "  27: 0.8322981366459627,\n",
       "  31: 0.8860759493670886,\n",
       "  33: 0.9255952380952381,\n",
       "  34: 0.8765432098765432,\n",
       "  36: 0.89375,\n",
       "  57: 0.8953488372093024,\n",
       "  59: 0.8953068592057761},\n",
       " 'inputs-2020-07/BF-C2DL-HSC/01_ST_sync/SEG/man_seg1460.tif': {26: 0.9047619047619048,\n",
       "  27: 0.9104859335038363,\n",
       "  31: 0.9245283018867925,\n",
       "  33: 0.9329268292682927,\n",
       "  34: 0.8897849462365591,\n",
       "  36: 0.9077669902912622,\n",
       "  57: 0.8975741239892183,\n",
       "  59: 0.9230769230769231},\n",
       " 'inputs-2020-07/BF-C2DL-HSC/01_ST_sync/SEG/man_seg1468.tif': {26: 0.9005102040816326,\n",
       "  27: 0.9263959390862944,\n",
       "  31: 0.9032258064516129,\n",
       "  33: 0.9590643274853801,\n",
       "  34: 0.8979057591623036,\n",
       "  36: 0.9166666666666666,\n",
       "  57: 0.8808139534883721,\n",
       "  59: 0.9185393258426966},\n",
       " 'inputs-2020-07/BF-C2DL-HSC/01_ST_sync/SEG/man_seg1471.tif': {26: 0.8870056497175142,\n",
       "  27: 0.8582677165354331,\n",
       "  31: 0.9175531914893617,\n",
       "  33: 0.9292307692307692,\n",
       "  34: 0.9118457300275482,\n",
       "  36: 0.9480122324159022,\n",
       "  57: 0.9415807560137457,\n",
       "  59: 0.906060606060606},\n",
       " 'inputs-2020-07/BF-C2DL-HSC/01_ST_sync/SEG/man_seg1476.tif': {26: 0.9315476190476191,\n",
       "  27: 0.8682170542635659,\n",
       "  31: 0.9099099099099099,\n",
       "  33: 0.8801089918256131,\n",
       "  34: 0.9051490514905149,\n",
       "  36: 0.9273255813953488,\n",
       "  57: 0.8898809523809523,\n",
       "  59: 0.9030470914127424},\n",
       " 'inputs-2020-07/BF-C2DL-HSC/01_ST_sync/SEG/man_seg1489.tif': {26: 0.939799331103679,\n",
       "  27: 0.918552036199095,\n",
       "  31: 0.8859060402684564,\n",
       "  33: 0.9551282051282052,\n",
       "  34: 0.9134078212290503,\n",
       "  36: 0.9097222222222222,\n",
       "  57: 0.9300911854103343,\n",
       "  59: 0.9253333333333333},\n",
       " 'inputs-2020-07/BF-C2DL-HSC/01_ST_sync/SEG/man_seg1490.tif': {26: 0.8942598187311178,\n",
       "  27: 0.8725212464589235,\n",
       "  31: 0.8693009118541033,\n",
       "  33: 0.9093567251461988,\n",
       "  34: 0.9480874316939891,\n",
       "  36: 0.8509316770186336,\n",
       "  57: 0.941717791411043,\n",
       "  59: 0.9193083573487032},\n",
       " 'inputs-2020-07/BF-C2DL-HSC/01_ST_sync/SEG/man_seg1528.tif': {26: 0.9186991869918699,\n",
       "  27: 0.9422110552763819,\n",
       "  31: 0.9457142857142857,\n",
       "  33: 0.9101123595505618,\n",
       "  34: 0.7863777089783281,\n",
       "  36: 0.9057142857142857,\n",
       "  57: 0.9146005509641874,\n",
       "  59: 0.9207161125319693},\n",
       " 'inputs-2020-07/BF-C2DL-HSC/01_ST_sync/SEG/man_seg1558.tif': {26: 0.9326923076923077,\n",
       "  27: 0.9333333333333333,\n",
       "  31: 0.8421052631578947,\n",
       "  33: 0.9220055710306406,\n",
       "  34: 0.9216710182767625,\n",
       "  36: 0.8440860215053764,\n",
       "  57: 0.9052369077306733,\n",
       "  59: 0.7796143250688705},\n",
       " 'inputs-2020-07/BF-C2DL-HSC/01_ST_sync/SEG/man_seg1567.tif': {26: 0.9220183486238532,\n",
       "  31: 0.9463276836158192,\n",
       "  33: 0.9035812672176309,\n",
       "  34: 0.9129287598944591,\n",
       "  36: 0.9128205128205128,\n",
       "  39: 0.8976377952755905,\n",
       "  40: 0.8711111111111111,\n",
       "  57: 0.9117647058823529,\n",
       "  59: 0.9037974683544304},\n",
       " 'inputs-2020-07/BF-C2DL-HSC/01_ST_sync/SEG/man_seg1583.tif': {26: 0.9158163265306123,\n",
       "  31: 0.9494047619047619,\n",
       "  33: 0.9378531073446328,\n",
       "  34: 0.9310344827586207,\n",
       "  36: 0.8935643564356436,\n",
       "  39: 0.9456521739130435,\n",
       "  40: 0.9490196078431372,\n",
       "  57: 0.9263157894736842,\n",
       "  59: 0.7561728395061729},\n",
       " 'inputs-2020-07/BF-C2DL-HSC/01_ST_sync/SEG/man_seg1618.tif': {31: 0.9438202247191011,\n",
       "  33: 0.9448818897637795,\n",
       "  34: 0.9352112676056338,\n",
       "  36: 0.9392857142857143,\n",
       "  39: 0.9120234604105572,\n",
       "  40: 0.9169139465875371,\n",
       "  54: 0.9504504504504504,\n",
       "  56: 0.8893617021276595,\n",
       "  57: 0.8690176322418136,\n",
       "  59: 0.9066666666666666},\n",
       " 'inputs-2020-07/BF-C2DL-HSC/01_ST_sync/SEG/man_seg1707.tif': {34: 0.921146953405018,\n",
       "  36: 0.8959731543624161,\n",
       "  39: 0.85,\n",
       "  40: 0.8875,\n",
       "  46: 0.8575949367088608,\n",
       "  47: 0.9282700421940928,\n",
       "  54: 0.8939393939393939,\n",
       "  56: 0.9027777777777778,\n",
       "  57: 0.9114754098360656,\n",
       "  59: 0.8915254237288136,\n",
       "  61: 0.9421487603305785,\n",
       "  62: 0.87109375},\n",
       " 'inputs-2020-07/BF-C2DL-HSC/01_ST_sync/SEG/man_seg1743.tif': {34: 0.9354838709677419,\n",
       "  36: 0.899135446685879,\n",
       "  39: 0.9033149171270718,\n",
       "  40: 0.8697788697788698,\n",
       "  46: 0.839572192513369,\n",
       "  47: 0.86328125,\n",
       "  54: 0.8362068965517241,\n",
       "  56: 0.8805970149253731,\n",
       "  57: 0.9171779141104295,\n",
       "  59: 0.9101796407185628,\n",
       "  61: 0.8914728682170543,\n",
       "  62: 0.8638888888888889}}"
      ]
     },
     "execution_count": 30,
     "metadata": {},
     "output_type": "execute_result"
    }
   ],
   "source": [
    "overall_scores"
   ]
  },
  {
   "cell_type": "code",
   "execution_count": null,
   "id": "86914313-8a6e-46a3-ac03-8e4486578caa",
   "metadata": {},
   "outputs": [],
   "source": [
    "### test = 'test'"
   ]
  },
  {
   "cell_type": "code",
   "execution_count": 10,
   "id": "d1a2095e-6fd2-4b79-90d7-14145c1a3437",
   "metadata": {},
   "outputs": [
    {
     "data": {
      "text/plain": [
       "'tast'"
      ]
     },
     "execution_count": 10,
     "metadata": {},
     "output_type": "execute_result"
    }
   ],
   "source": [
    "test.replace('e', 'a')"
   ]
  },
  {
   "cell_type": "code",
   "execution_count": 55,
   "id": "3b205ffd-056d-4b8e-a500-0b070cf7ba9b",
   "metadata": {},
   "outputs": [],
   "source": [
    "test_im = tifffile.imread('inputs-2020-07/BF-C2DL-HSC/02_GT/SEG/man_seg0287.tif')"
   ]
  },
  {
   "cell_type": "code",
   "execution_count": 56,
   "id": "c276bba8-33a2-4a12-880d-b911cfa142bb",
   "metadata": {},
   "outputs": [
    {
     "data": {
      "text/plain": [
       "array([0, 1, 2, 3, 4], dtype=uint16)"
      ]
     },
     "execution_count": 56,
     "metadata": {},
     "output_type": "execute_result"
    }
   ],
   "source": [
    "np.unique(test_im)"
   ]
  },
  {
   "cell_type": "code",
   "execution_count": 32,
   "id": "aad766a1-8cd9-4cfb-9dee-42a8a588b903",
   "metadata": {},
   "outputs": [],
   "source": [
    "import numpy as np\n",
    "import cv2\n",
    "from PIL import Image\n",
    "import tifffile\n",
    "import pathlib\n",
    "import matplotlib.pyplot as plt\n",
    "import matplotlib.colors as mcolors\n",
    "import os\n",
    "from typing import Union, Tuple, List, Optional"
   ]
  },
  {
   "cell_type": "code",
   "execution_count": 46,
   "id": "a31133af-766b-40da-ba9f-5f46e1588f81",
   "metadata": {},
   "outputs": [],
   "source": [
    "st_im = tifffile.imread('inputs-2020-07/BF-C2DL-HSC/02_ST_sync/SEG/man_seg0287.tif')"
   ]
  },
  {
   "cell_type": "code",
   "execution_count": 53,
   "id": "e809316e-998b-42df-8e6c-9c1c1b42ce06",
   "metadata": {},
   "outputs": [
    {
     "data": {
      "image/png": "[encoded data removed]",
      "text/plain": [
       "<Figure size 800x800 with 2 Axes>"
      ]
     },
     "metadata": {},
     "output_type": "display_data"
    }
   ],
   "source": [
    "show_image(test_im, 'gt')"
   ]
  },
  {
   "cell_type": "code",
   "execution_count": 47,
   "id": "d0203aaa-7c9b-45a8-8540-99e43f83bba2",
   "metadata": {},
   "outputs": [
    {
     "data": {
      "image/png": "[encoded data removed]",
      "text/plain": [
       "<Figure size 800x800 with 2 Axes>"
      ]
     },
     "metadata": {},
     "output_type": "display_data"
    }
   ],
   "source": [
    "show_image(st_im, 'st_im')"
   ]
  },
  {
   "cell_type": "code",
   "execution_count": 52,
   "id": "0ed604fb-8d88-44e7-a968-347e8e0d002a",
   "metadata": {},
   "outputs": [
    {
     "data": {
      "text/plain": [
       "array([  0,   6,   7, 634, 635], dtype=uint16)"
      ]
     },
     "execution_count": 52,
     "metadata": {},
     "output_type": "execute_result"
    }
   ],
   "source": [
    "np.unique(st_im)"
   ]
  },
  {
   "cell_type": "code",
   "execution_count": 50,
   "id": "83dd9000-5d02-4e0e-97ee-c7dce98de943",
   "metadata": {},
   "outputs": [],
   "source": [
    "st_im = tifffile.imread('inputs-2020-07/BF-C2DL-HSC/02_GT/TRA/man_track0287.tif')"
   ]
  },
  {
   "cell_type": "code",
   "execution_count": null,
   "id": "cd0daff0-996d-417e-a973-3dcaff9cf901",
   "metadata": {},
   "outputs": [],
   "source": [
    "overall_scores"
   ]
  },
  {
   "cell_type": "code",
   "execution_count": 6,
   "id": "fdeef10e-0964-4a66-b45d-5b5eced3e5ba",
   "metadata": {},
   "outputs": [],
   "source": [
    "def show_image(img, name):\n",
    "    # Define fixed colors for each value (0 to 9)\n",
    "    colors = [\n",
    "        'white',      # 0: background\n",
    "        'red',        # 1: first square\n",
    "        'blue',       # 2: second square\n",
    "        'green',      # 3: third square\n",
    "        'purple',     # 4: fourth square\n",
    "        'orange',     # 5: fifth square\n",
    "        'brown',      # 6: sixth square\n",
    "        'pink',       # 7: seventh square\n",
    "        'gray',       # 8: eighth square\n",
    "        'yellow'      # 9: ninth square\n",
    "    ]\n",
    "    \n",
    "    # Create a colormap with fixed boundaries\n",
    "    cmap = mcolors.ListedColormap(colors)\n",
    "    \n",
    "    # Create proper normalization\n",
    "    bounds = np.arange(-0.5, len(colors) + 0.5, 1)\n",
    "    norm = mcolors.BoundaryNorm(bounds, cmap.N)\n",
    "    \n",
    "    plt.figure(figsize=(8, 8))\n",
    "    plt.imshow(img, cmap=cmap, norm=norm)\n",
    "    plt.colorbar(label='Square Values', ticks=range(len(colors)))\n",
    "    plt.title(f'{name}')\n",
    "    plt.show()"
   ]
  }
 ],
 "metadata": {
  "kernelspec": {
   "display_name": "Python 3 (ipykernel)",
   "language": "python",
   "name": "python3"
  },
  "language_info": {
   "codemirror_mode": {
    "name": "ipython",
    "version": 3
   },
   "file_extension": ".py",
   "mimetype": "text/x-python",
   "name": "python",
   "nbconvert_exporter": "python",
   "pygments_lexer": "ipython3",
   "version": "3.11.5"
  }
 },
 "nbformat": 4,
 "nbformat_minor": 5
}
