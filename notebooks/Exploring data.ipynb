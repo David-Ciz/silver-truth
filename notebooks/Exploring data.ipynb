{
 "cells": [
  {
   "cell_type": "markdown",
   "id": "8d0c49bc-4e3b-4c44-bf73-2aa5749d2107",
   "metadata": {},
   "source": [
    "# How many ground truths in each dataset?"
   ]
  },
  {
   "cell_type": "code",
   "execution_count": 1,
   "id": "aae646e1-0bcb-438b-bfc9-bc7194336b85",
   "metadata": {},
   "outputs": [],
   "source": [
    "import tifffile\n",
    "import numpy as np\n",
    "import matplotlib.pyplot as plt"
   ]
  },
  {
   "cell_type": "code",
   "execution_count": 2,
   "id": "25791efb-ea73-445b-aca1-1845cd998c44",
   "metadata": {},
   "outputs": [],
   "source": [
    "dataset_path = \"inputs-2020-07/BF-C2DL-HSC/\""
   ]
  },
  {
   "cell_type": "code",
   "execution_count": 3,
   "id": "e63bec1b-d64e-4937-a79e-da7ce32cfd8e",
   "metadata": {},
   "outputs": [],
   "source": [
    "sample_image = \"inputs-2020-07/BF-C2DL-HSC/01_GT/SEG/man_seg1369.tif\""
   ]
  },
  {
   "cell_type": "code",
   "execution_count": 11,
   "id": "9cbe421b-ed34-4016-aaec-71b5c6385f9e",
   "metadata": {},
   "outputs": [],
   "source": [
    "sample_image = \"../data/inputs-2020-07/Fluo-C3DH-A549/01_GT/SEG/man_seg015.tif\""
   ]
  },
  {
   "cell_type": "code",
   "execution_count": 12,
   "id": "9f4f1350-e53b-4fed-8791-9a58f54e7ba9",
   "metadata": {},
   "outputs": [
    {
     "data": {
      "text/plain": [
       "'../data/inputs-2020-07/Fluo-C3DH-A549/01_GT/SEG/man_seg015.tif'"
      ]
     },
     "execution_count": 12,
     "metadata": {},
     "output_type": "execute_result"
    }
   ],
   "source": [
    "sample_image"
   ]
  },
  {
   "cell_type": "code",
   "execution_count": 20,
   "id": "f1bb70c3-b2db-43af-a520-a59d641286ee",
   "metadata": {},
   "outputs": [],
   "source": [
    "img = tifffile.imread(sample_image)"
   ]
  },
  {
   "cell_type": "code",
   "execution_count": 21,
   "id": "2c4867c0-c59f-41fb-b956-cb806e4b9c24",
   "metadata": {},
   "outputs": [
    {
     "data": {
      "text/plain": [
       "(29, 300, 350)"
      ]
     },
     "execution_count": 21,
     "metadata": {},
     "output_type": "execute_result"
    }
   ],
   "source": [
    "img.shape"
   ]
  },
  {
   "cell_type": "code",
   "execution_count": 22,
   "id": "f4281847-228e-478f-8ce0-8674b67a5f79",
   "metadata": {},
   "outputs": [
    {
     "data": {
      "text/plain": [
       "array([[0, 0, 0, ..., 0, 0, 0],\n",
       "       [0, 0, 0, ..., 0, 0, 0],\n",
       "       [0, 0, 0, ..., 0, 0, 0],\n",
       "       ...,\n",
       "       [0, 0, 0, ..., 0, 0, 0],\n",
       "       [0, 0, 0, ..., 0, 0, 0],\n",
       "       [0, 0, 0, ..., 0, 0, 0]], shape=(300, 350), dtype=uint16)"
      ]
     },
     "execution_count": 22,
     "metadata": {},
     "output_type": "execute_result"
    }
   ],
   "source": [
    "img[0]"
   ]
  },
  {
   "cell_type": "code",
   "execution_count": 28,
   "id": "e906621c-4fb6-41b6-bff2-faf21a25299d",
   "metadata": {},
   "outputs": [
    {
     "data": {
      "text/plain": [
       "<matplotlib.image.AxesImage at 0x1169e8590>"
      ]
     },
     "execution_count": 28,
     "metadata": {},
     "output_type": "execute_result"
    },
    {
     "data": {
      "image/png": "[encoded data removed]",
      "text/plain": [
       "<Figure size 640x480 with 1 Axes>"
      ]
     },
     "metadata": {},
     "output_type": "display_data"
    }
   ],
   "source": [
    "plt.imshow(img[23])"
   ]
  },
  {
   "cell_type": "code",
   "execution_count": 4,
   "id": "6d6797fd-2de0-4c96-a1cc-1205548692cc",
   "metadata": {},
   "outputs": [],
   "source": [
    "def get_instance_bounding_boxes(segmentation_image):\n",
    "    if segmentation_image.dtype != np.int32:\n",
    "        segmentation_image = segmentation_image.astype(np.int32)\n",
    "    \n",
    "    instance_ids = np.unique(segmentation_image)\n",
    "    instance_ids = instance_ids[instance_ids != 0]\n",
    "    \n",
    "    bounding_boxes = {}\n",
    "    \n",
    "    for instance_id in instance_ids:\n",
    "        coords = np.argwhere(segmentation_image == instance_id)\n",
    "        \n",
    "        if coords.size > 0:\n",
    "            min_y, min_x = coords.min(axis=0)\n",
    "            max_y, max_x = coords.max(axis=0)\n",
    "            \n",
    "            bounding_boxes[instance_id] = (min_x, min_y, max_x, max_y)\n",
    "    \n",
    "    return bounding_boxes"
   ]
  },
  {
   "cell_type": "code",
   "execution_count": 5,
   "id": "1458747f-dacc-46f5-aef4-ee650db5c85d",
   "metadata": {},
   "outputs": [],
   "source": [
    "def get_image_segmentations_statistics(tiff_image):\n",
    "    segmentation_image = tifffile.imread(tiff_image)\n",
    "    instance_ids = np.unique(segmentation_image)\n",
    "    instance_ids = instance_ids[instance_ids != 0]\n",
    "    bounding_boxes = {}\n",
    "    for instance_id in instance_ids:\n",
    "        coords = np.argwhere(segmentation_image == instance_id)\n",
    "        \n",
    "        if coords.size > 0:\n",
    "            min_y, min_x = coords.min(axis=0)\n",
    "            max_y, max_x = coords.max(axis=0)\n",
    "            \n",
    "            bounding_boxes[instance_id] = (min_x, min_y, max_x, max_y)\n",
    "    return len(instance_ids), bounding_boxes, np.shape(segmentation_image)"
   ]
  },
  {
   "cell_type": "code",
   "execution_count": 6,
   "id": "2ebd04da-ff05-4ccb-9864-bc2b4801980b",
   "metadata": {},
   "outputs": [],
   "source": [
    "from glob import glob"
   ]
  },
  {
   "cell_type": "code",
   "execution_count": 10,
   "id": "8eb97a2a-c93d-4a8e-823c-9dac294c1f52",
   "metadata": {},
   "outputs": [],
   "source": [
    "box_info_large = {\n",
    "                \"box_id\": 0,\n",
    "                \"x_length\": 0,\n",
    "                \"y_length\": 0,\n",
    "                \"square_size\": 0\n",
    "            }"
   ]
  },
  {
   "cell_type": "code",
   "execution_count": 7,
   "id": "ebff726f-b04e-44af-a481-27bfa4776b99",
   "metadata": {},
   "outputs": [],
   "source": [
    "def analyze_bounding_boxes(all_bounding_boxes):\n",
    "    analysis_results = []\n",
    "    all_squares = []\n",
    "    \n",
    "    for image_idx, image_boxes in enumerate(all_bounding_boxes):\n",
    "        image_analysis = {\n",
    "            \"boxes\": [],\n",
    "            \"largest_square\": box_info_large\n",
    "            \"smallest_square\": float('inf'),\n",
    "        }\n",
    "\n",
    "        for box_id, box in image_boxes.items():\n",
    "            x_length = box[2] - box[0]\n",
    "            y_length = box[3] - box[1]\n",
    "            square_size = x_length * y_length\n",
    "\n",
    "            box_info = {\n",
    "                \"box_id\": box_id,\n",
    "                \"x_length\": x_length,\n",
    "                \"y_length\": y_length,\n",
    "                \"square_size\": square_size\n",
    "            }\n",
    "\n",
    "            image_analysis[\"boxes\"].append(box_info)\n",
    "            all_squares.append(square_size)\n",
    "\n",
    "            # Update image-specific statistics\n",
    "            if square_size > image_analysis[\"largest_square\"]['square_size']:\n",
    "                image_analysis[\"largest_square\"] = box_info\n",
    "            if square_size < image_analysis[\"smallest_square\"]['square_size']:\n",
    "                image_analysis[\"smallest_square\"] = box_info\n",
    "            image_analysis[\"smallest_square\"] = min(image_analysis[\"smallest_square\"], square_size)\n",
    "        analysis_results.append(image_analysis)\n",
    "\n",
    "    # Calculate overall statistics\n",
    "    overall_stats = {\n",
    "        \"total_boxes\": sum(len(image[\"boxes\"]) for image in analysis_results),\n",
    "        \"overall_largest_square\": max(all_squares),\n",
    "        \"overall_smallest_square\": min(all_squares),\n",
    "    }\n",
    "\n",
    "    return overall_stats\n",
    "            "
   ]
  },
  {
   "cell_type": "code",
   "execution_count": 8,
   "id": "185d6944-2e8a-42dd-a0a8-fbff579507e9",
   "metadata": {},
   "outputs": [
    {
     "name": "stdout",
     "output_type": "stream",
     "text": [
      "{'total_boxes': 564, 'overall_largest_square': 792, 'overall_smallest_square': 221}\n",
      "564\n",
      "[1010]\n",
      "(1010, 1010)\n"
     ]
    }
   ],
   "source": [
    "ground_truths = glob(f\"{dataset_path}/01_GT/SEG/*\") + glob(f\"{dataset_path}/02_GT/SEG/*\")\n",
    "total_amount_of_segmentation_ground_truths = 0\n",
    "all_bounding_boxes = []\n",
    "image_sizes = []\n",
    "for tiff_image in ground_truths:\n",
    "    n_segmentations, bounding_boxes, image_size = get_image_segmentations_statistics(tiff_image)\n",
    "    total_amount_of_segmentation_ground_truths += n_segmentations\n",
    "    all_bounding_boxes.append(bounding_boxes)\n",
    "    image_sizes.append(image_size)\n",
    "print(analyze_bounding_boxes(all_bounding_boxes))\n",
    "print(total_amount_of_segmentation_ground_truths)\n",
    "print(np.unique(image_sizes))\n",
    "print(image_size)"
   ]
  },
  {
   "cell_type": "code",
   "execution_count": 20,
   "id": "93a1e66b-e246-4f03-8b6a-48b76ac56109",
   "metadata": {},
   "outputs": [],
   "source": [
    "img = tifffile.imread(sample_image)"
   ]
  },
  {
   "cell_type": "code",
   "execution_count": 21,
   "id": "ac22668d-06cf-4c74-a40a-f3b1805c0545",
   "metadata": {},
   "outputs": [
    {
     "data": {
      "text/plain": [
       "<matplotlib.image.AxesImage at 0x72e1120301d0>"
      ]
     },
     "execution_count": 21,
     "metadata": {},
     "output_type": "execute_result"
    },
    {
     "data": {
      "image/png": "[encoded data removed]",
      "text/plain": [
       "<Figure size 640x480 with 1 Axes>"
      ]
     },
     "metadata": {},
     "output_type": "display_data"
    }
   ],
   "source": [
    "plt.imshow(img)"
   ]
  },
  {
   "cell_type": "code",
   "execution_count": 46,
   "id": "c1c430f5-db44-4123-904f-662291e70df1",
   "metadata": {},
   "outputs": [
    {
     "data": {
      "text/plain": [
       "(array([0, 1, 2, 3, 4, 5, 6, 7, 8], dtype=uint16),\n",
       " array([1017472,     296,     360,     348,     403,     302,     295,\n",
       "            377,     247]))"
      ]
     },
     "execution_count": 46,
     "metadata": {},
     "output_type": "execute_result"
    }
   ],
   "source": [
    "np.unique(img, return_counts=True)"
   ]
  },
  {
   "cell_type": "code",
   "execution_count": null,
   "id": "10f3d056-d909-47b3-ad1e-8f0c92383f5b",
   "metadata": {},
   "outputs": [],
   "source": []
  },
  {
   "cell_type": "markdown",
   "id": "9e966407-9511-4c0e-875b-aaf631478519",
   "metadata": {},
   "source": [
    "# RAW DATA DISTRIBUTION"
   ]
  },
  {
   "cell_type": "code",
   "execution_count": 20,
   "id": "2928d526-0d2b-4f76-b648-78e731f8a012",
   "metadata": {},
   "outputs": [],
   "source": [
    "import pathlib\n",
    "import tifffile"
   ]
  },
  {
   "cell_type": "code",
   "execution_count": 19,
   "id": "04fa592d-8618-4e22-9ebe-a8031bb7e9cb",
   "metadata": {},
   "outputs": [],
   "source": [
    "random_raw_image_path = pathlib.Path(\"inputs-2020-07/BF-C2DL-HSC/01/t0000.tif\")"
   ]
  },
  {
   "cell_type": "code",
   "execution_count": 21,
   "id": "b4899ccb-517d-432c-89ba-8a7daca6685e",
   "metadata": {},
   "outputs": [],
   "source": [
    "raw_image = tifffile.imread(random_raw_image_path)"
   ]
  },
  {
   "cell_type": "code",
   "execution_count": 24,
   "id": "20b4d43c-53d7-4eb7-8b06-618fa08d044e",
   "metadata": {},
   "outputs": [
    {
     "data": {
      "text/plain": [
       "254"
      ]
     },
     "execution_count": 24,
     "metadata": {},
     "output_type": "execute_result"
    }
   ],
   "source": [
    "np.max(raw_image)"
   ]
  }
 ],
 "metadata": {
  "kernelspec": {
   "display_name": "Python 3 (ipykernel)",
   "language": "python",
   "name": "python3"
  },
  "language_info": {
   "codemirror_mode": {
    "name": "ipython",
    "version": 3
   },
   "file_extension": ".py",
   "mimetype": "text/x-python",
   "name": "python",
   "nbconvert_exporter": "python",
   "pygments_lexer": "ipython3",
   "version": "3.11.9"
  }
 },
 "nbformat": 4,
 "nbformat_minor": 5
}
