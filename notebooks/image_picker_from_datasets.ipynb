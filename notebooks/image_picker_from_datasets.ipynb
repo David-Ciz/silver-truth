{
 "cells": [
  {
   "cell_type": "code",
   "execution_count": null,
   "id": "3e2e8b7d-40ce-46f8-907e-da5c340cb0af",
   "metadata": {},
   "outputs": [],
   "source": [
    "# we need a way to sample just a few images for testing purposes. Let's do it here."
   ]
  },
  {
   "cell_type": "code",
   "execution_count": 1,
   "id": "ba456b1a-454c-422a-ab24-dd3ea0785b9d",
   "metadata": {},
   "outputs": [],
   "source": [
    "import pandas as pd"
   ]
  },
  {
   "cell_type": "code",
   "execution_count": 2,
   "id": "deca9f9f-3f0e-4b81-a032-67a1ea90060f",
   "metadata": {},
   "outputs": [],
   "source": [
    "df = pd.read_csv('preprocessed_dataset.csv')"
   ]
  },
  {
   "cell_type": "code",
   "execution_count": 4,
   "id": "f19ca776-ced2-4a9d-a15f-9c7bb312f6a1",
   "metadata": {},
   "outputs": [
    {
     "data": {
      "text/plain": [
       "'inputs-2020-07/BF-C2DL-HSC/MU-Lux-CZ/02_RES/mask0046.tif'"
      ]
     },
     "execution_count": 4,
     "metadata": {},
     "output_type": "execute_result"
    }
   ],
   "source": [
    "df['Mask_file'].at[0]"
   ]
  },
  {
   "cell_type": "code",
   "execution_count": 15,
   "id": "49261743-f81c-4c14-9a9f-61bf13d4048d",
   "metadata": {},
   "outputs": [],
   "source": [
    "label_agnostic_selection = df.drop_duplicates(\"Mask_file\")"
   ]
  },
  {
   "cell_type": "code",
   "execution_count": 18,
   "id": "db15e671-c998-420c-9cfd-8029b15d750b",
   "metadata": {},
   "outputs": [
    {
     "data": {
      "text/plain": [
       "'inputs-2020-07/BF-C2DL-HSC/MU-Lux-CZ/02_RES/mask0046.tif'"
      ]
     },
     "execution_count": 18,
     "metadata": {},
     "output_type": "execute_result"
    }
   ],
   "source": [
    "label_agnostic_selection['Mask_file'].at[0]"
   ]
  },
  {
   "cell_type": "code",
   "execution_count": null,
   "id": "56872835-c61b-4bf7-bb06-007cf03009ee",
   "metadata": {},
   "outputs": [],
   "source": []
  }
 ],
 "metadata": {
  "kernelspec": {
   "display_name": "Python 3 (ipykernel)",
   "language": "python",
   "name": "python3"
  },
  "language_info": {
   "codemirror_mode": {
    "name": "ipython",
    "version": 3
   },
   "file_extension": ".py",
   "mimetype": "text/x-python",
   "name": "python",
   "nbconvert_exporter": "python",
   "pygments_lexer": "ipython3",
   "version": "3.11.5"
  }
 },
 "nbformat": 4,
 "nbformat_minor": 5
}
