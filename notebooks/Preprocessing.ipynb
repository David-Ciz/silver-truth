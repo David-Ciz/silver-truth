{
 "cells": [
  {
   "cell_type": "code",
   "execution_count": 1,
   "id": "c1ed5277-ec63-4157-8f3e-a6272d3dc197",
   "metadata": {},
   "outputs": [],
   "source": [
    "import tifffile\n",
    "import numpy as np\n",
    "import matplotlib.pyplot as plt"
   ]
  },
  {
   "cell_type": "code",
   "execution_count": 2,
   "id": "b14c43c0-99ab-4ec4-9ccc-d88a773e9094",
   "metadata": {},
   "outputs": [],
   "source": [
    "import re\n",
    "from collections import defaultdict"
   ]
  },
  {
   "cell_type": "code",
   "execution_count": 3,
   "id": "071144e1-3d0a-4c1a-9475-7563dfa7b376",
   "metadata": {},
   "outputs": [],
   "source": [
    "import pathlib\n",
    "from pathlib import Path\n",
    "import pandas as pd"
   ]
  },
  {
   "cell_type": "code",
   "execution_count": 12,
   "id": "98f55c5d-74f9-4856-b7cb-d4c3786e591e",
   "metadata": {},
   "outputs": [],
   "source": [
    "df = pd.read_csv('preprocessed_dataset.csv')"
   ]
  },
  {
   "cell_type": "code",
   "execution_count": 9,
   "id": "41f789a4-7b1c-4fbb-81c4-5d52b73a9c7c",
   "metadata": {},
   "outputs": [
    {
     "data": {
      "text/plain": [
       "Unnamed: 0            309\n",
       "Mask_file             285\n",
       "Gt_source_file         57\n",
       "Gt_mask_file           57\n",
       "Label                 156\n",
       "J_value              2443\n",
       "merged_image_path    2820\n",
       "dtype: int64"
      ]
     },
     "execution_count": 9,
     "metadata": {},
     "output_type": "execute_result"
    }
   ],
   "source": [
    "preprocessed_dataset.nunique()"
   ]
  },
  {
   "cell_type": "code",
   "execution_count": 17,
   "id": "f0fdc74e-a942-496e-91ff-b087ccd34a60",
   "metadata": {},
   "outputs": [
    {
     "data": {
      "text/html": [
       "<div>\n",
       "<style scoped>\n",
       "    .dataframe tbody tr th:only-of-type {\n",
       "        vertical-align: middle;\n",
       "    }\n",
       "\n",
       "    .dataframe tbody tr th {\n",
       "        vertical-align: top;\n",
       "    }\n",
       "\n",
       "    .dataframe thead th {\n",
       "        text-align: right;\n",
       "    }\n",
       "</style>\n",
       "<table border=\"1\" class=\"dataframe\">\n",
       "  <thead>\n",
       "    <tr style=\"text-align: right;\">\n",
       "      <th></th>\n",
       "      <th>Unnamed: 0</th>\n",
       "      <th>Mask_file</th>\n",
       "      <th>Gt_source_file</th>\n",
       "      <th>Gt_mask_file</th>\n",
       "      <th>Label</th>\n",
       "      <th>J_value</th>\n",
       "      <th>merged_image_path</th>\n",
       "    </tr>\n",
       "  </thead>\n",
       "  <tbody>\n",
       "    <tr>\n",
       "      <th>130</th>\n",
       "      <td>130</td>\n",
       "      <td>inputs-2020-07/BF-C2DL-HSC/MU-Lux-CZ/02_RES/ma...</td>\n",
       "      <td>inputs-2020-07/BF-C2DL-HSC/02/t1585.tif</td>\n",
       "      <td>inputs-2020-07/BF-C2DL-HSC/02_GT/SEG/man_seg15...</td>\n",
       "      <td>83</td>\n",
       "      <td>0.0</td>\n",
       "      <td>test_out/inputs-2020-07/BF-C2DL-HSC/MU-Lux-CZ/...</td>\n",
       "    </tr>\n",
       "    <tr>\n",
       "      <th>292</th>\n",
       "      <td>292</td>\n",
       "      <td>inputs-2020-07/BF-C2DL-HSC/MU-Lux-CZ/02_RES/ma...</td>\n",
       "      <td>inputs-2020-07/BF-C2DL-HSC/02/t1748.tif</td>\n",
       "      <td>inputs-2020-07/BF-C2DL-HSC/02_GT/SEG/man_seg17...</td>\n",
       "      <td>140</td>\n",
       "      <td>0.0</td>\n",
       "      <td>test_out/inputs-2020-07/BF-C2DL-HSC/MU-Lux-CZ/...</td>\n",
       "    </tr>\n",
       "    <tr>\n",
       "      <th>1130</th>\n",
       "      <td>2</td>\n",
       "      <td>inputs-2020-07/BF-C2DL-HSC/DREX-US/02_RES/mask...</td>\n",
       "      <td>inputs-2020-07/BF-C2DL-HSC/02/t0056.tif</td>\n",
       "      <td>inputs-2020-07/BF-C2DL-HSC/02_GT/SEG/man_seg00...</td>\n",
       "      <td>1</td>\n",
       "      <td>0.0</td>\n",
       "      <td>test_out/inputs-2020-07/BF-C2DL-HSC/DREX-US/02...</td>\n",
       "    </tr>\n",
       "    <tr>\n",
       "      <th>1136</th>\n",
       "      <td>8</td>\n",
       "      <td>inputs-2020-07/BF-C2DL-HSC/DREX-US/02_RES/mask...</td>\n",
       "      <td>inputs-2020-07/BF-C2DL-HSC/02/t0448.tif</td>\n",
       "      <td>inputs-2020-07/BF-C2DL-HSC/02_GT/SEG/man_seg04...</td>\n",
       "      <td>1</td>\n",
       "      <td>0.0</td>\n",
       "      <td>test_out/inputs-2020-07/BF-C2DL-HSC/DREX-US/02...</td>\n",
       "    </tr>\n",
       "    <tr>\n",
       "      <th>1137</th>\n",
       "      <td>9</td>\n",
       "      <td>inputs-2020-07/BF-C2DL-HSC/DREX-US/02_RES/mask...</td>\n",
       "      <td>inputs-2020-07/BF-C2DL-HSC/02/t0448.tif</td>\n",
       "      <td>inputs-2020-07/BF-C2DL-HSC/02_GT/SEG/man_seg04...</td>\n",
       "      <td>2</td>\n",
       "      <td>0.0</td>\n",
       "      <td>test_out/inputs-2020-07/BF-C2DL-HSC/DREX-US/02...</td>\n",
       "    </tr>\n",
       "    <tr>\n",
       "      <th>...</th>\n",
       "      <td>...</td>\n",
       "      <td>...</td>\n",
       "      <td>...</td>\n",
       "      <td>...</td>\n",
       "      <td>...</td>\n",
       "      <td>...</td>\n",
       "      <td>...</td>\n",
       "    </tr>\n",
       "    <tr>\n",
       "      <th>2251</th>\n",
       "      <td>250</td>\n",
       "      <td>inputs-2020-07/BF-C2DL-HSC/KTH-SE (5)/01_RES/m...</td>\n",
       "      <td>inputs-2020-07/BF-C2DL-HSC/01/t1743.tif</td>\n",
       "      <td>inputs-2020-07/BF-C2DL-HSC/01_GT/SEG/man_seg17...</td>\n",
       "      <td>8</td>\n",
       "      <td>0.0</td>\n",
       "      <td>test_out/inputs-2020-07/BF-C2DL-HSC/KTH-SE (5)...</td>\n",
       "    </tr>\n",
       "    <tr>\n",
       "      <th>2252</th>\n",
       "      <td>251</td>\n",
       "      <td>inputs-2020-07/BF-C2DL-HSC/KTH-SE (5)/01_RES/m...</td>\n",
       "      <td>inputs-2020-07/BF-C2DL-HSC/01/t1743.tif</td>\n",
       "      <td>inputs-2020-07/BF-C2DL-HSC/01_GT/SEG/man_seg17...</td>\n",
       "      <td>9</td>\n",
       "      <td>0.0</td>\n",
       "      <td>test_out/inputs-2020-07/BF-C2DL-HSC/KTH-SE (5)...</td>\n",
       "    </tr>\n",
       "    <tr>\n",
       "      <th>2255</th>\n",
       "      <td>254</td>\n",
       "      <td>inputs-2020-07/BF-C2DL-HSC/KTH-SE (5)/01_RES/m...</td>\n",
       "      <td>inputs-2020-07/BF-C2DL-HSC/01/t1743.tif</td>\n",
       "      <td>inputs-2020-07/BF-C2DL-HSC/01_GT/SEG/man_seg17...</td>\n",
       "      <td>12</td>\n",
       "      <td>0.0</td>\n",
       "      <td>test_out/inputs-2020-07/BF-C2DL-HSC/KTH-SE (5)...</td>\n",
       "    </tr>\n",
       "    <tr>\n",
       "      <th>2586</th>\n",
       "      <td>21</td>\n",
       "      <td>inputs-2020-07/BF-C2DL-HSC/KIT-Sch-GE/01_RES/m...</td>\n",
       "      <td>inputs-2020-07/BF-C2DL-HSC/01/t0659.tif</td>\n",
       "      <td>inputs-2020-07/BF-C2DL-HSC/01_GT/SEG/man_seg06...</td>\n",
       "      <td>1</td>\n",
       "      <td>0.0</td>\n",
       "      <td>test_out/inputs-2020-07/BF-C2DL-HSC/KIT-Sch-GE...</td>\n",
       "    </tr>\n",
       "    <tr>\n",
       "      <th>2734</th>\n",
       "      <td>169</td>\n",
       "      <td>inputs-2020-07/BF-C2DL-HSC/KIT-Sch-GE/01_RES/m...</td>\n",
       "      <td>inputs-2020-07/BF-C2DL-HSC/01/t1476.tif</td>\n",
       "      <td>inputs-2020-07/BF-C2DL-HSC/01_GT/SEG/man_seg14...</td>\n",
       "      <td>7</td>\n",
       "      <td>0.0</td>\n",
       "      <td>test_out/inputs-2020-07/BF-C2DL-HSC/KIT-Sch-GE...</td>\n",
       "    </tr>\n",
       "  </tbody>\n",
       "</table>\n",
       "<p>93 rows × 7 columns</p>\n",
       "</div>"
      ],
      "text/plain": [
       "      Unnamed: 0                                          Mask_file  \\\n",
       "130          130  inputs-2020-07/BF-C2DL-HSC/MU-Lux-CZ/02_RES/ma...   \n",
       "292          292  inputs-2020-07/BF-C2DL-HSC/MU-Lux-CZ/02_RES/ma...   \n",
       "1130           2  inputs-2020-07/BF-C2DL-HSC/DREX-US/02_RES/mask...   \n",
       "1136           8  inputs-2020-07/BF-C2DL-HSC/DREX-US/02_RES/mask...   \n",
       "1137           9  inputs-2020-07/BF-C2DL-HSC/DREX-US/02_RES/mask...   \n",
       "...          ...                                                ...   \n",
       "2251         250  inputs-2020-07/BF-C2DL-HSC/KTH-SE (5)/01_RES/m...   \n",
       "2252         251  inputs-2020-07/BF-C2DL-HSC/KTH-SE (5)/01_RES/m...   \n",
       "2255         254  inputs-2020-07/BF-C2DL-HSC/KTH-SE (5)/01_RES/m...   \n",
       "2586          21  inputs-2020-07/BF-C2DL-HSC/KIT-Sch-GE/01_RES/m...   \n",
       "2734         169  inputs-2020-07/BF-C2DL-HSC/KIT-Sch-GE/01_RES/m...   \n",
       "\n",
       "                               Gt_source_file  \\\n",
       "130   inputs-2020-07/BF-C2DL-HSC/02/t1585.tif   \n",
       "292   inputs-2020-07/BF-C2DL-HSC/02/t1748.tif   \n",
       "1130  inputs-2020-07/BF-C2DL-HSC/02/t0056.tif   \n",
       "1136  inputs-2020-07/BF-C2DL-HSC/02/t0448.tif   \n",
       "1137  inputs-2020-07/BF-C2DL-HSC/02/t0448.tif   \n",
       "...                                       ...   \n",
       "2251  inputs-2020-07/BF-C2DL-HSC/01/t1743.tif   \n",
       "2252  inputs-2020-07/BF-C2DL-HSC/01/t1743.tif   \n",
       "2255  inputs-2020-07/BF-C2DL-HSC/01/t1743.tif   \n",
       "2586  inputs-2020-07/BF-C2DL-HSC/01/t0659.tif   \n",
       "2734  inputs-2020-07/BF-C2DL-HSC/01/t1476.tif   \n",
       "\n",
       "                                           Gt_mask_file  Label  J_value  \\\n",
       "130   inputs-2020-07/BF-C2DL-HSC/02_GT/SEG/man_seg15...     83      0.0   \n",
       "292   inputs-2020-07/BF-C2DL-HSC/02_GT/SEG/man_seg17...    140      0.0   \n",
       "1130  inputs-2020-07/BF-C2DL-HSC/02_GT/SEG/man_seg00...      1      0.0   \n",
       "1136  inputs-2020-07/BF-C2DL-HSC/02_GT/SEG/man_seg04...      1      0.0   \n",
       "1137  inputs-2020-07/BF-C2DL-HSC/02_GT/SEG/man_seg04...      2      0.0   \n",
       "...                                                 ...    ...      ...   \n",
       "2251  inputs-2020-07/BF-C2DL-HSC/01_GT/SEG/man_seg17...      8      0.0   \n",
       "2252  inputs-2020-07/BF-C2DL-HSC/01_GT/SEG/man_seg17...      9      0.0   \n",
       "2255  inputs-2020-07/BF-C2DL-HSC/01_GT/SEG/man_seg17...     12      0.0   \n",
       "2586  inputs-2020-07/BF-C2DL-HSC/01_GT/SEG/man_seg06...      1      0.0   \n",
       "2734  inputs-2020-07/BF-C2DL-HSC/01_GT/SEG/man_seg14...      7      0.0   \n",
       "\n",
       "                                      merged_image_path  \n",
       "130   test_out/inputs-2020-07/BF-C2DL-HSC/MU-Lux-CZ/...  \n",
       "292   test_out/inputs-2020-07/BF-C2DL-HSC/MU-Lux-CZ/...  \n",
       "1130  test_out/inputs-2020-07/BF-C2DL-HSC/DREX-US/02...  \n",
       "1136  test_out/inputs-2020-07/BF-C2DL-HSC/DREX-US/02...  \n",
       "1137  test_out/inputs-2020-07/BF-C2DL-HSC/DREX-US/02...  \n",
       "...                                                 ...  \n",
       "2251  test_out/inputs-2020-07/BF-C2DL-HSC/KTH-SE (5)...  \n",
       "2252  test_out/inputs-2020-07/BF-C2DL-HSC/KTH-SE (5)...  \n",
       "2255  test_out/inputs-2020-07/BF-C2DL-HSC/KTH-SE (5)...  \n",
       "2586  test_out/inputs-2020-07/BF-C2DL-HSC/KIT-Sch-GE...  \n",
       "2734  test_out/inputs-2020-07/BF-C2DL-HSC/KIT-Sch-GE...  \n",
       "\n",
       "[93 rows x 7 columns]"
      ]
     },
     "execution_count": 17,
     "metadata": {},
     "output_type": "execute_result"
    }
   ],
   "source": [
    "preprocessed_dataset[preprocessed_dataset.J_value ==0]"
   ]
  },
  {
   "cell_type": "code",
   "execution_count": 22,
   "id": "ee16216f-1e38-4fa0-88d1-cc063c320578",
   "metadata": {},
   "outputs": [
    {
     "data": {
      "text/plain": [
       "'test_out/inputs-2020-07/BF-C2DL-HSC/MU-Lux-CZ/02_RES/mask1748_140.tif'"
      ]
     },
     "execution_count": 22,
     "metadata": {},
     "output_type": "execute_result"
    }
   ],
   "source": [
    "preprocessed_dataset.loc[292].merged_image_path"
   ]
  },
  {
   "cell_type": "code",
   "execution_count": 14,
   "id": "bca60c99-188f-46d7-a31b-0ec9501f6386",
   "metadata": {},
   "outputs": [
    {
     "name": "stdout",
     "output_type": "stream",
     "text": [
      "Original DataFrame shape: (2820, 7)\n",
      "Training set shape: (2285, 7)\n",
      "Validation set shape: (535, 7)\n",
      "Number of Gt_source_file in both sets: 0\n",
      "Training set: 81.03%\n",
      "Validation set: 18.97%\n"
     ]
    }
   ],
   "source": [
    "import pandas as pd\n",
    "import numpy as np\n",
    "\n",
    "# Assuming your DataFrame is named 'df'\n",
    "\n",
    "# Step 1: Count the number of rows for each Gt_source_file\n",
    "file_counts = df['Gt_source_file'].value_counts().reset_index()\n",
    "file_counts.columns = ['Gt_source_file', 'count']\n",
    "\n",
    "# Step 2: Calculate the target number of rows for the training set (80%)\n",
    "target_train_rows = int(len(df) * 0.8)\n",
    "\n",
    "# Step 3: Initialize lists for train and val\n",
    "train_files = []\n",
    "val_files = []\n",
    "current_train_rows = 0\n",
    "\n",
    "# Step 4: Distribute files to train and val sets\n",
    "for _, row in file_counts.iterrows():\n",
    "    if current_train_rows < target_train_rows:\n",
    "        train_files.append(row['Gt_source_file'])\n",
    "        current_train_rows += row['count']\n",
    "    else:\n",
    "        val_files.append(row['Gt_source_file'])\n",
    "\n",
    "# Step 5: Split the DataFrame\n",
    "train_df = df[df['Gt_source_file'].isin(train_files)]\n",
    "val_df = df[df['Gt_source_file'].isin(val_files)]\n",
    "\n",
    "# Print the shapes to verify\n",
    "print(f\"Original DataFrame shape: {df.shape}\")\n",
    "print(f\"Training set shape: {train_df.shape}\")\n",
    "print(f\"Validation set shape: {val_df.shape}\")\n",
    "\n",
    "# Verify that Gt_source_file is not in both sets\n",
    "train_files_set = set(train_df['Gt_source_file'].unique())\n",
    "val_files_set = set(val_df['Gt_source_file'].unique())\n",
    "common_files = train_files_set.intersection(val_files_set)\n",
    "print(f\"Number of Gt_source_file in both sets: {len(common_files)}\")\n",
    "\n",
    "# Calculate split percentages\n",
    "train_percentage = len(train_df) / len(df) * 100\n",
    "val_percentage = len(val_df) / len(df) * 100\n",
    "print(f\"Training set: {train_percentage:.2f}%\")\n",
    "print(f\"Validation set: {val_percentage:.2f}%\")"
   ]
  },
  {
   "cell_type": "code",
   "execution_count": 11,
   "id": "0b60387e-2268-461a-a461-8b3dc3c37d97",
   "metadata": {},
   "outputs": [
    {
     "data": {
      "text/html": [
       "<div>\n",
       "<style scoped>\n",
       "    .dataframe tbody tr th:only-of-type {\n",
       "        vertical-align: middle;\n",
       "    }\n",
       "\n",
       "    .dataframe tbody tr th {\n",
       "        vertical-align: top;\n",
       "    }\n",
       "\n",
       "    .dataframe thead th {\n",
       "        text-align: right;\n",
       "    }\n",
       "</style>\n",
       "<table border=\"1\" class=\"dataframe\">\n",
       "  <thead>\n",
       "    <tr style=\"text-align: right;\">\n",
       "      <th></th>\n",
       "      <th>Unnamed: 0</th>\n",
       "      <th>Mask_file</th>\n",
       "      <th>Gt_source_file</th>\n",
       "      <th>Gt_mask_file</th>\n",
       "      <th>Label</th>\n",
       "      <th>J_value</th>\n",
       "      <th>merged_image_path</th>\n",
       "      <th>split</th>\n",
       "    </tr>\n",
       "  </thead>\n",
       "  <tbody>\n",
       "    <tr>\n",
       "      <th>0</th>\n",
       "      <td>0</td>\n",
       "      <td>inputs-2020-07/BF-C2DL-HSC/MU-Lux-CZ/02_RES/ma...</td>\n",
       "      <td>inputs-2020-07/BF-C2DL-HSC/02/t0046.tif</td>\n",
       "      <td>inputs-2020-07/BF-C2DL-HSC/02_GT/SEG/man_seg00...</td>\n",
       "      <td>1</td>\n",
       "      <td>0.861789</td>\n",
       "      <td>test_out/inputs-2020-07/BF-C2DL-HSC/MU-Lux-CZ/...</td>\n",
       "      <td>train</td>\n",
       "    </tr>\n",
       "    <tr>\n",
       "      <th>1</th>\n",
       "      <td>1</td>\n",
       "      <td>inputs-2020-07/BF-C2DL-HSC/MU-Lux-CZ/02_RES/ma...</td>\n",
       "      <td>inputs-2020-07/BF-C2DL-HSC/02/t0046.tif</td>\n",
       "      <td>inputs-2020-07/BF-C2DL-HSC/02_GT/SEG/man_seg00...</td>\n",
       "      <td>2</td>\n",
       "      <td>0.830097</td>\n",
       "      <td>test_out/inputs-2020-07/BF-C2DL-HSC/MU-Lux-CZ/...</td>\n",
       "      <td>train</td>\n",
       "    </tr>\n",
       "    <tr>\n",
       "      <th>2</th>\n",
       "      <td>2</td>\n",
       "      <td>inputs-2020-07/BF-C2DL-HSC/MU-Lux-CZ/02_RES/ma...</td>\n",
       "      <td>inputs-2020-07/BF-C2DL-HSC/02/t0056.tif</td>\n",
       "      <td>inputs-2020-07/BF-C2DL-HSC/02_GT/SEG/man_seg00...</td>\n",
       "      <td>1</td>\n",
       "      <td>0.780928</td>\n",
       "      <td>test_out/inputs-2020-07/BF-C2DL-HSC/MU-Lux-CZ/...</td>\n",
       "      <td>train</td>\n",
       "    </tr>\n",
       "    <tr>\n",
       "      <th>3</th>\n",
       "      <td>3</td>\n",
       "      <td>inputs-2020-07/BF-C2DL-HSC/MU-Lux-CZ/02_RES/ma...</td>\n",
       "      <td>inputs-2020-07/BF-C2DL-HSC/02/t0056.tif</td>\n",
       "      <td>inputs-2020-07/BF-C2DL-HSC/02_GT/SEG/man_seg00...</td>\n",
       "      <td>2</td>\n",
       "      <td>0.720430</td>\n",
       "      <td>test_out/inputs-2020-07/BF-C2DL-HSC/MU-Lux-CZ/...</td>\n",
       "      <td>train</td>\n",
       "    </tr>\n",
       "    <tr>\n",
       "      <th>4</th>\n",
       "      <td>4</td>\n",
       "      <td>inputs-2020-07/BF-C2DL-HSC/MU-Lux-CZ/02_RES/ma...</td>\n",
       "      <td>inputs-2020-07/BF-C2DL-HSC/02/t0287.tif</td>\n",
       "      <td>inputs-2020-07/BF-C2DL-HSC/02_GT/SEG/man_seg02...</td>\n",
       "      <td>1</td>\n",
       "      <td>0.863874</td>\n",
       "      <td>test_out/inputs-2020-07/BF-C2DL-HSC/MU-Lux-CZ/...</td>\n",
       "      <td>train</td>\n",
       "    </tr>\n",
       "    <tr>\n",
       "      <th>...</th>\n",
       "      <td>...</td>\n",
       "      <td>...</td>\n",
       "      <td>...</td>\n",
       "      <td>...</td>\n",
       "      <td>...</td>\n",
       "      <td>...</td>\n",
       "      <td>...</td>\n",
       "      <td>...</td>\n",
       "    </tr>\n",
       "    <tr>\n",
       "      <th>2815</th>\n",
       "      <td>250</td>\n",
       "      <td>inputs-2020-07/BF-C2DL-HSC/KIT-Sch-GE/01_RES/m...</td>\n",
       "      <td>inputs-2020-07/BF-C2DL-HSC/01/t1743.tif</td>\n",
       "      <td>inputs-2020-07/BF-C2DL-HSC/01_GT/SEG/man_seg17...</td>\n",
       "      <td>8</td>\n",
       "      <td>0.849624</td>\n",
       "      <td>test_out/inputs-2020-07/BF-C2DL-HSC/KIT-Sch-GE...</td>\n",
       "      <td>val</td>\n",
       "    </tr>\n",
       "    <tr>\n",
       "      <th>2816</th>\n",
       "      <td>251</td>\n",
       "      <td>inputs-2020-07/BF-C2DL-HSC/KIT-Sch-GE/01_RES/m...</td>\n",
       "      <td>inputs-2020-07/BF-C2DL-HSC/01/t1743.tif</td>\n",
       "      <td>inputs-2020-07/BF-C2DL-HSC/01_GT/SEG/man_seg17...</td>\n",
       "      <td>9</td>\n",
       "      <td>0.820433</td>\n",
       "      <td>test_out/inputs-2020-07/BF-C2DL-HSC/KIT-Sch-GE...</td>\n",
       "      <td>val</td>\n",
       "    </tr>\n",
       "    <tr>\n",
       "      <th>2817</th>\n",
       "      <td>252</td>\n",
       "      <td>inputs-2020-07/BF-C2DL-HSC/KIT-Sch-GE/01_RES/m...</td>\n",
       "      <td>inputs-2020-07/BF-C2DL-HSC/01/t1743.tif</td>\n",
       "      <td>inputs-2020-07/BF-C2DL-HSC/01_GT/SEG/man_seg17...</td>\n",
       "      <td>10</td>\n",
       "      <td>0.863222</td>\n",
       "      <td>test_out/inputs-2020-07/BF-C2DL-HSC/KIT-Sch-GE...</td>\n",
       "      <td>val</td>\n",
       "    </tr>\n",
       "    <tr>\n",
       "      <th>2818</th>\n",
       "      <td>253</td>\n",
       "      <td>inputs-2020-07/BF-C2DL-HSC/KIT-Sch-GE/01_RES/m...</td>\n",
       "      <td>inputs-2020-07/BF-C2DL-HSC/01/t1743.tif</td>\n",
       "      <td>inputs-2020-07/BF-C2DL-HSC/01_GT/SEG/man_seg17...</td>\n",
       "      <td>11</td>\n",
       "      <td>0.865385</td>\n",
       "      <td>test_out/inputs-2020-07/BF-C2DL-HSC/KIT-Sch-GE...</td>\n",
       "      <td>val</td>\n",
       "    </tr>\n",
       "    <tr>\n",
       "      <th>2819</th>\n",
       "      <td>254</td>\n",
       "      <td>inputs-2020-07/BF-C2DL-HSC/KIT-Sch-GE/01_RES/m...</td>\n",
       "      <td>inputs-2020-07/BF-C2DL-HSC/01/t1743.tif</td>\n",
       "      <td>inputs-2020-07/BF-C2DL-HSC/01_GT/SEG/man_seg17...</td>\n",
       "      <td>12</td>\n",
       "      <td>0.747423</td>\n",
       "      <td>test_out/inputs-2020-07/BF-C2DL-HSC/KIT-Sch-GE...</td>\n",
       "      <td>val</td>\n",
       "    </tr>\n",
       "  </tbody>\n",
       "</table>\n",
       "<p>2820 rows × 8 columns</p>\n",
       "</div>"
      ],
      "text/plain": [
       "      Unnamed: 0                                          Mask_file  \\\n",
       "0              0  inputs-2020-07/BF-C2DL-HSC/MU-Lux-CZ/02_RES/ma...   \n",
       "1              1  inputs-2020-07/BF-C2DL-HSC/MU-Lux-CZ/02_RES/ma...   \n",
       "2              2  inputs-2020-07/BF-C2DL-HSC/MU-Lux-CZ/02_RES/ma...   \n",
       "3              3  inputs-2020-07/BF-C2DL-HSC/MU-Lux-CZ/02_RES/ma...   \n",
       "4              4  inputs-2020-07/BF-C2DL-HSC/MU-Lux-CZ/02_RES/ma...   \n",
       "...          ...                                                ...   \n",
       "2815         250  inputs-2020-07/BF-C2DL-HSC/KIT-Sch-GE/01_RES/m...   \n",
       "2816         251  inputs-2020-07/BF-C2DL-HSC/KIT-Sch-GE/01_RES/m...   \n",
       "2817         252  inputs-2020-07/BF-C2DL-HSC/KIT-Sch-GE/01_RES/m...   \n",
       "2818         253  inputs-2020-07/BF-C2DL-HSC/KIT-Sch-GE/01_RES/m...   \n",
       "2819         254  inputs-2020-07/BF-C2DL-HSC/KIT-Sch-GE/01_RES/m...   \n",
       "\n",
       "                               Gt_source_file  \\\n",
       "0     inputs-2020-07/BF-C2DL-HSC/02/t0046.tif   \n",
       "1     inputs-2020-07/BF-C2DL-HSC/02/t0046.tif   \n",
       "2     inputs-2020-07/BF-C2DL-HSC/02/t0056.tif   \n",
       "3     inputs-2020-07/BF-C2DL-HSC/02/t0056.tif   \n",
       "4     inputs-2020-07/BF-C2DL-HSC/02/t0287.tif   \n",
       "...                                       ...   \n",
       "2815  inputs-2020-07/BF-C2DL-HSC/01/t1743.tif   \n",
       "2816  inputs-2020-07/BF-C2DL-HSC/01/t1743.tif   \n",
       "2817  inputs-2020-07/BF-C2DL-HSC/01/t1743.tif   \n",
       "2818  inputs-2020-07/BF-C2DL-HSC/01/t1743.tif   \n",
       "2819  inputs-2020-07/BF-C2DL-HSC/01/t1743.tif   \n",
       "\n",
       "                                           Gt_mask_file  Label   J_value  \\\n",
       "0     inputs-2020-07/BF-C2DL-HSC/02_GT/SEG/man_seg00...      1  0.861789   \n",
       "1     inputs-2020-07/BF-C2DL-HSC/02_GT/SEG/man_seg00...      2  0.830097   \n",
       "2     inputs-2020-07/BF-C2DL-HSC/02_GT/SEG/man_seg00...      1  0.780928   \n",
       "3     inputs-2020-07/BF-C2DL-HSC/02_GT/SEG/man_seg00...      2  0.720430   \n",
       "4     inputs-2020-07/BF-C2DL-HSC/02_GT/SEG/man_seg02...      1  0.863874   \n",
       "...                                                 ...    ...       ...   \n",
       "2815  inputs-2020-07/BF-C2DL-HSC/01_GT/SEG/man_seg17...      8  0.849624   \n",
       "2816  inputs-2020-07/BF-C2DL-HSC/01_GT/SEG/man_seg17...      9  0.820433   \n",
       "2817  inputs-2020-07/BF-C2DL-HSC/01_GT/SEG/man_seg17...     10  0.863222   \n",
       "2818  inputs-2020-07/BF-C2DL-HSC/01_GT/SEG/man_seg17...     11  0.865385   \n",
       "2819  inputs-2020-07/BF-C2DL-HSC/01_GT/SEG/man_seg17...     12  0.747423   \n",
       "\n",
       "                                      merged_image_path  split  \n",
       "0     test_out/inputs-2020-07/BF-C2DL-HSC/MU-Lux-CZ/...  train  \n",
       "1     test_out/inputs-2020-07/BF-C2DL-HSC/MU-Lux-CZ/...  train  \n",
       "2     test_out/inputs-2020-07/BF-C2DL-HSC/MU-Lux-CZ/...  train  \n",
       "3     test_out/inputs-2020-07/BF-C2DL-HSC/MU-Lux-CZ/...  train  \n",
       "4     test_out/inputs-2020-07/BF-C2DL-HSC/MU-Lux-CZ/...  train  \n",
       "...                                                 ...    ...  \n",
       "2815  test_out/inputs-2020-07/BF-C2DL-HSC/KIT-Sch-GE...    val  \n",
       "2816  test_out/inputs-2020-07/BF-C2DL-HSC/KIT-Sch-GE...    val  \n",
       "2817  test_out/inputs-2020-07/BF-C2DL-HSC/KIT-Sch-GE...    val  \n",
       "2818  test_out/inputs-2020-07/BF-C2DL-HSC/KIT-Sch-GE...    val  \n",
       "2819  test_out/inputs-2020-07/BF-C2DL-HSC/KIT-Sch-GE...    val  \n",
       "\n",
       "[2820 rows x 8 columns]"
      ]
     },
     "execution_count": 11,
     "metadata": {},
     "output_type": "execute_result"
    }
   ],
   "source": [
    "df"
   ]
  },
  {
   "cell_type": "code",
   "execution_count": 2,
   "id": "6044df67-3536-457a-b3fc-ce095b0deedf",
   "metadata": {},
   "outputs": [],
   "source": [
    "# For every dataset, look into every competitor folder, open their SEG_log.txt, parse it, read the image, extract label dimension and save it seperately, extract J value, add to dataset json. "
   ]
  },
  {
   "cell_type": "code",
   "execution_count": null,
   "id": "5a10be26-86f8-4d3e-937c-1f9f64dea851",
   "metadata": {},
   "outputs": [],
   "source": [
    "# No practical differences in 01 and 02 datasets, merge them in the end."
   ]
  },
  {
   "cell_type": "code",
   "execution_count": 4,
   "id": "314bce40-cb52-427f-be07-8074f1609591",
   "metadata": {},
   "outputs": [],
   "source": [
    "dataset_path = pathlib.Path(\"inputs-2020-07/BF-C2DL-HSC/\")\n",
    "gt_dir_path = pathlib.Path(\"inputs-2020-07/BF-C2DL-HSC/\")\n",
    "def create_dataset_csv(dataset_path):\n",
    "    dataset_dfs = []\n",
    "    competitor_folders = [x for x in dataset_path.iterdir() if x.is_dir() and x.name not in ('01_GT', '02_GT', '01')]\n",
    "    for competitor_folder in competitor_folders:\n",
    "        segmentation_logs = list(competitor_folder.glob(\"**/*.txt\"))\n",
    "        for segmentation_log in segmentation_logs:\n",
    "            dataset_df = parse_segmentation_data(segmentation_log, gt_dir_path)\n",
    "            dataset_dfs.append(dataset_df)\n",
    "    dataset_df = pd.concat(dataset_dfs)\n",
    "    return dataset_df"
   ]
  },
  {
   "cell_type": "code",
   "execution_count": 5,
   "id": "791afec3-bc7f-43bd-9fd7-4655578f3d69",
   "metadata": {},
   "outputs": [
    {
     "ename": "NameError",
     "evalue": "name 'parse_segmentation_data' is not defined",
     "output_type": "error",
     "traceback": [
      "\u001b[0;31m---------------------------------------------------------------------------\u001b[0m",
      "\u001b[0;31mNameError\u001b[0m                                 Traceback (most recent call last)",
      "Cell \u001b[0;32mIn[5], line 1\u001b[0m\n\u001b[0;32m----> 1\u001b[0m dataset_df \u001b[38;5;241m=\u001b[39m \u001b[43mcreate_dataset_csv\u001b[49m\u001b[43m(\u001b[49m\u001b[43mdataset_path\u001b[49m\u001b[43m)\u001b[49m\n",
      "Cell \u001b[0;32mIn[4], line 9\u001b[0m, in \u001b[0;36mcreate_dataset_csv\u001b[0;34m(dataset_path)\u001b[0m\n\u001b[1;32m      7\u001b[0m     segmentation_logs \u001b[38;5;241m=\u001b[39m \u001b[38;5;28mlist\u001b[39m(competitor_folder\u001b[38;5;241m.\u001b[39mglob(\u001b[38;5;124m\"\u001b[39m\u001b[38;5;124m**/*.txt\u001b[39m\u001b[38;5;124m\"\u001b[39m))\n\u001b[1;32m      8\u001b[0m     \u001b[38;5;28;01mfor\u001b[39;00m segmentation_log \u001b[38;5;129;01min\u001b[39;00m segmentation_logs:\n\u001b[0;32m----> 9\u001b[0m         dataset_df \u001b[38;5;241m=\u001b[39m \u001b[43mparse_segmentation_data\u001b[49m(segmentation_log, gt_dir_path)\n\u001b[1;32m     10\u001b[0m         dataset_dfs\u001b[38;5;241m.\u001b[39mappend(dataset_df)\n\u001b[1;32m     11\u001b[0m dataset_df \u001b[38;5;241m=\u001b[39m pd\u001b[38;5;241m.\u001b[39mconcat(dataset_dfs)\n",
      "\u001b[0;31mNameError\u001b[0m: name 'parse_segmentation_data' is not defined"
     ]
    }
   ],
   "source": [
    "dataset_df = create_dataset_csv(dataset_path)"
   ]
  },
  {
   "cell_type": "code",
   "execution_count": 226,
   "id": "95d68806-1ff2-44f7-95a5-de83c32a94ea",
   "metadata": {
    "scrolled": true
   },
   "outputs": [
    {
     "data": {
      "text/html": [
       "<div>\n",
       "<style scoped>\n",
       "    .dataframe tbody tr th:only-of-type {\n",
       "        vertical-align: middle;\n",
       "    }\n",
       "\n",
       "    .dataframe tbody tr th {\n",
       "        vertical-align: top;\n",
       "    }\n",
       "\n",
       "    .dataframe thead th {\n",
       "        text-align: right;\n",
       "    }\n",
       "</style>\n",
       "<table border=\"1\" class=\"dataframe\">\n",
       "  <thead>\n",
       "    <tr style=\"text-align: right;\">\n",
       "      <th></th>\n",
       "      <th>Mask_file</th>\n",
       "      <th>Gt_source_file</th>\n",
       "      <th>Gt_mask_file</th>\n",
       "      <th>Label</th>\n",
       "      <th>J_value</th>\n",
       "    </tr>\n",
       "  </thead>\n",
       "  <tbody>\n",
       "    <tr>\n",
       "      <th>0</th>\n",
       "      <td>inputs-2020-07/BF-C2DL-HSC/MU-Lux-CZ/02_RES/ma...</td>\n",
       "      <td>inputs-2020-07/BF-C2DL-HSC/02/t0046.tif</td>\n",
       "      <td>inputs-2020-07/BF-C2DL-HSC/02_GT/SEG/man_seg00...</td>\n",
       "      <td>1</td>\n",
       "      <td>0.861789</td>\n",
       "    </tr>\n",
       "    <tr>\n",
       "      <th>1</th>\n",
       "      <td>inputs-2020-07/BF-C2DL-HSC/MU-Lux-CZ/02_RES/ma...</td>\n",
       "      <td>inputs-2020-07/BF-C2DL-HSC/02/t0046.tif</td>\n",
       "      <td>inputs-2020-07/BF-C2DL-HSC/02_GT/SEG/man_seg00...</td>\n",
       "      <td>2</td>\n",
       "      <td>0.830097</td>\n",
       "    </tr>\n",
       "    <tr>\n",
       "      <th>2</th>\n",
       "      <td>inputs-2020-07/BF-C2DL-HSC/MU-Lux-CZ/02_RES/ma...</td>\n",
       "      <td>inputs-2020-07/BF-C2DL-HSC/02/t0056.tif</td>\n",
       "      <td>inputs-2020-07/BF-C2DL-HSC/02_GT/SEG/man_seg00...</td>\n",
       "      <td>1</td>\n",
       "      <td>0.780928</td>\n",
       "    </tr>\n",
       "    <tr>\n",
       "      <th>3</th>\n",
       "      <td>inputs-2020-07/BF-C2DL-HSC/MU-Lux-CZ/02_RES/ma...</td>\n",
       "      <td>inputs-2020-07/BF-C2DL-HSC/02/t0056.tif</td>\n",
       "      <td>inputs-2020-07/BF-C2DL-HSC/02_GT/SEG/man_seg00...</td>\n",
       "      <td>2</td>\n",
       "      <td>0.720430</td>\n",
       "    </tr>\n",
       "    <tr>\n",
       "      <th>4</th>\n",
       "      <td>inputs-2020-07/BF-C2DL-HSC/MU-Lux-CZ/02_RES/ma...</td>\n",
       "      <td>inputs-2020-07/BF-C2DL-HSC/02/t0287.tif</td>\n",
       "      <td>inputs-2020-07/BF-C2DL-HSC/02_GT/SEG/man_seg02...</td>\n",
       "      <td>1</td>\n",
       "      <td>0.863874</td>\n",
       "    </tr>\n",
       "    <tr>\n",
       "      <th>...</th>\n",
       "      <td>...</td>\n",
       "      <td>...</td>\n",
       "      <td>...</td>\n",
       "      <td>...</td>\n",
       "      <td>...</td>\n",
       "    </tr>\n",
       "    <tr>\n",
       "      <th>250</th>\n",
       "      <td>inputs-2020-07/BF-C2DL-HSC/KIT-Sch-GE/01_RES/m...</td>\n",
       "      <td>inputs-2020-07/BF-C2DL-HSC/01/t1743.tif</td>\n",
       "      <td>inputs-2020-07/BF-C2DL-HSC/01_GT/SEG/man_seg17...</td>\n",
       "      <td>8</td>\n",
       "      <td>0.849624</td>\n",
       "    </tr>\n",
       "    <tr>\n",
       "      <th>251</th>\n",
       "      <td>inputs-2020-07/BF-C2DL-HSC/KIT-Sch-GE/01_RES/m...</td>\n",
       "      <td>inputs-2020-07/BF-C2DL-HSC/01/t1743.tif</td>\n",
       "      <td>inputs-2020-07/BF-C2DL-HSC/01_GT/SEG/man_seg17...</td>\n",
       "      <td>9</td>\n",
       "      <td>0.820433</td>\n",
       "    </tr>\n",
       "    <tr>\n",
       "      <th>252</th>\n",
       "      <td>inputs-2020-07/BF-C2DL-HSC/KIT-Sch-GE/01_RES/m...</td>\n",
       "      <td>inputs-2020-07/BF-C2DL-HSC/01/t1743.tif</td>\n",
       "      <td>inputs-2020-07/BF-C2DL-HSC/01_GT/SEG/man_seg17...</td>\n",
       "      <td>10</td>\n",
       "      <td>0.863222</td>\n",
       "    </tr>\n",
       "    <tr>\n",
       "      <th>253</th>\n",
       "      <td>inputs-2020-07/BF-C2DL-HSC/KIT-Sch-GE/01_RES/m...</td>\n",
       "      <td>inputs-2020-07/BF-C2DL-HSC/01/t1743.tif</td>\n",
       "      <td>inputs-2020-07/BF-C2DL-HSC/01_GT/SEG/man_seg17...</td>\n",
       "      <td>11</td>\n",
       "      <td>0.865385</td>\n",
       "    </tr>\n",
       "    <tr>\n",
       "      <th>254</th>\n",
       "      <td>inputs-2020-07/BF-C2DL-HSC/KIT-Sch-GE/01_RES/m...</td>\n",
       "      <td>inputs-2020-07/BF-C2DL-HSC/01/t1743.tif</td>\n",
       "      <td>inputs-2020-07/BF-C2DL-HSC/01_GT/SEG/man_seg17...</td>\n",
       "      <td>12</td>\n",
       "      <td>0.747423</td>\n",
       "    </tr>\n",
       "  </tbody>\n",
       "</table>\n",
       "<p>2820 rows × 5 columns</p>\n",
       "</div>"
      ],
      "text/plain": [
       "                                             Mask_file  \\\n",
       "0    inputs-2020-07/BF-C2DL-HSC/MU-Lux-CZ/02_RES/ma...   \n",
       "1    inputs-2020-07/BF-C2DL-HSC/MU-Lux-CZ/02_RES/ma...   \n",
       "2    inputs-2020-07/BF-C2DL-HSC/MU-Lux-CZ/02_RES/ma...   \n",
       "3    inputs-2020-07/BF-C2DL-HSC/MU-Lux-CZ/02_RES/ma...   \n",
       "4    inputs-2020-07/BF-C2DL-HSC/MU-Lux-CZ/02_RES/ma...   \n",
       "..                                                 ...   \n",
       "250  inputs-2020-07/BF-C2DL-HSC/KIT-Sch-GE/01_RES/m...   \n",
       "251  inputs-2020-07/BF-C2DL-HSC/KIT-Sch-GE/01_RES/m...   \n",
       "252  inputs-2020-07/BF-C2DL-HSC/KIT-Sch-GE/01_RES/m...   \n",
       "253  inputs-2020-07/BF-C2DL-HSC/KIT-Sch-GE/01_RES/m...   \n",
       "254  inputs-2020-07/BF-C2DL-HSC/KIT-Sch-GE/01_RES/m...   \n",
       "\n",
       "                              Gt_source_file  \\\n",
       "0    inputs-2020-07/BF-C2DL-HSC/02/t0046.tif   \n",
       "1    inputs-2020-07/BF-C2DL-HSC/02/t0046.tif   \n",
       "2    inputs-2020-07/BF-C2DL-HSC/02/t0056.tif   \n",
       "3    inputs-2020-07/BF-C2DL-HSC/02/t0056.tif   \n",
       "4    inputs-2020-07/BF-C2DL-HSC/02/t0287.tif   \n",
       "..                                       ...   \n",
       "250  inputs-2020-07/BF-C2DL-HSC/01/t1743.tif   \n",
       "251  inputs-2020-07/BF-C2DL-HSC/01/t1743.tif   \n",
       "252  inputs-2020-07/BF-C2DL-HSC/01/t1743.tif   \n",
       "253  inputs-2020-07/BF-C2DL-HSC/01/t1743.tif   \n",
       "254  inputs-2020-07/BF-C2DL-HSC/01/t1743.tif   \n",
       "\n",
       "                                          Gt_mask_file  Label   J_value  \n",
       "0    inputs-2020-07/BF-C2DL-HSC/02_GT/SEG/man_seg00...      1  0.861789  \n",
       "1    inputs-2020-07/BF-C2DL-HSC/02_GT/SEG/man_seg00...      2  0.830097  \n",
       "2    inputs-2020-07/BF-C2DL-HSC/02_GT/SEG/man_seg00...      1  0.780928  \n",
       "3    inputs-2020-07/BF-C2DL-HSC/02_GT/SEG/man_seg00...      2  0.720430  \n",
       "4    inputs-2020-07/BF-C2DL-HSC/02_GT/SEG/man_seg02...      1  0.863874  \n",
       "..                                                 ...    ...       ...  \n",
       "250  inputs-2020-07/BF-C2DL-HSC/01_GT/SEG/man_seg17...      8  0.849624  \n",
       "251  inputs-2020-07/BF-C2DL-HSC/01_GT/SEG/man_seg17...      9  0.820433  \n",
       "252  inputs-2020-07/BF-C2DL-HSC/01_GT/SEG/man_seg17...     10  0.863222  \n",
       "253  inputs-2020-07/BF-C2DL-HSC/01_GT/SEG/man_seg17...     11  0.865385  \n",
       "254  inputs-2020-07/BF-C2DL-HSC/01_GT/SEG/man_seg17...     12  0.747423  \n",
       "\n",
       "[2820 rows x 5 columns]"
      ]
     },
     "execution_count": 226,
     "metadata": {},
     "output_type": "execute_result"
    }
   ],
   "source": [
    "dataset_df"
   ]
  },
  {
   "cell_type": "code",
   "execution_count": 26,
   "id": "0e6a06d5-99c4-4268-8f9d-792176cd7034",
   "metadata": {},
   "outputs": [],
   "source": [
    "def merge_source_with_mask(mask_file, gt_source_file, gt_mask_file, label, j_value):\n",
    "    gt_source = tifffile.imread(gt_source_file)\n",
    "    gt_masks = tifffile.imread(gt_mask_file)\n",
    "    gt_mask = gt_masks == label\n",
    "    pred_masks = tifffile.imread(mask_file)\n",
    "    pred_mask, used_label = get_label_mask(pred_masks, gt_mask, label, j_value)\n",
    "    if pred_mask is None:\n",
    "        raise Exception(f\"no label mapping found for {mask_file}, with {label}, found\")\n",
    "    else:\n",
    "        return np.stack([gt_source, pred_mask], axis=0), used_label\n",
    "        "
   ]
  },
  {
   "cell_type": "code",
   "execution_count": 41,
   "id": "e050eb2b-db7a-4d94-9709-3244f176d8a4",
   "metadata": {},
   "outputs": [],
   "source": [
    "def merge_source_with_mask(pred_masks, gt_source, gt_mask, label, j_value, used_labels):\n",
    "    pred_mask, used_label = get_label_mask(pred_masks, gt_mask, label, j_value, used_labels)\n",
    "    if pred_mask is None:\n",
    "        raise Exception(f\"no label mapping found for {mask_file}, with {label}, found\")\n",
    "    else:\n",
    "        return np.stack([gt_source, pred_mask], axis=0), used_label\n",
    "        "
   ]
  },
  {
   "cell_type": "code",
   "execution_count": 466,
   "id": "391230f5-f351-4a16-a3d4-6bb4d38bd030",
   "metadata": {},
   "outputs": [],
   "source": [
    "merge_time = 0"
   ]
  },
  {
   "cell_type": "code",
   "execution_count": 470,
   "id": "bfd6fae9-4652-4070-8ec0-f43c58a96d2f",
   "metadata": {},
   "outputs": [
    {
     "data": {
      "text/plain": [
       "114.20251499999995"
      ]
     },
     "execution_count": 470,
     "metadata": {},
     "output_type": "execute_result"
    }
   ],
   "source": [
    "merge_time"
   ]
  },
  {
   "cell_type": "code",
   "execution_count": 212,
   "id": "9f3ad531-9a25-4753-b3ef-d782770f7030",
   "metadata": {},
   "outputs": [],
   "source": [
    "# def get_label_mask(pred_masks, gt_mask, label, j_value, used_labels):\n",
    "#     # try if the masks are sorted correctly\n",
    "#     unique_mask_labels = np.unique(pred_masks)\n",
    "#     unique_mask_labels = list(set(unique_mask_labels) - used_labels)\n",
    "#     if j_value == 0:\n",
    "#         print(\"BANG!\")\n",
    "#         empty_mask = np.zeros_like(pred_masks)\n",
    "#         return empty_mask, np.inf\n",
    "#     if label in unique_mask_labels:\n",
    "#         exp_pred_mask = pred_masks == label\n",
    "#         calculated_j_value = np.round(jaccard_score(gt_mask, exp_pred_mask, average=\"micro\"),6)\n",
    "#         if calculated_j_value == j_value:\n",
    "#             return exp_pred_mask, label\n",
    "#     # if the masks are not sorted correctly, we try every mask\n",
    "#     for mask_label in unique_mask_labels[1:]:\n",
    "#         exp_pred_mask = pred_masks == mask_label\n",
    "#         calculated_j_value = np.round(jaccard_score(gt_mask, exp_pred_mask, average=\"micro\"),6)\n",
    "#         if calculated_j_value == j_value:\n",
    "#             return exp_pred_mask, mask_label\n",
    "#         else:\n",
    "#             continue\n",
    "#     return None"
   ]
  },
  {
   "cell_type": "code",
   "execution_count": 209,
   "id": "730a838f-4f6b-4685-baf9-90c5eeb7b1bf",
   "metadata": {},
   "outputs": [],
   "source": [
    "# def get_label_mask(pred_masks, gt_mask, label, j_value, used_labels):\n",
    "#     unique_mask_labels = np.unique(pred_masks)\n",
    "#     unique_mask_labels = np.setdiff1d(unique_mask_labels, list(used_labels))\n",
    "#     if j_value == 0:\n",
    "#         print(\"BANG!\")\n",
    "#         empty_mask = np.zeros_like(pred_masks)\n",
    "#         return empty_mask, np.inf\n",
    "#     # Try the given label first\n",
    "#     if label in unique_mask_labels:\n",
    "#         exp_pred_mask = pred_masks == label\n",
    "#         calculated_j_value = jaccard_score(gt_mask, exp_pred_mask, average=\"micro\")\n",
    "#         if np.isclose(calculated_j_value, j_value, rtol=1e-6):\n",
    "#             return exp_pred_mask, label\n",
    "    \n",
    "#     # If not found, try other labels\n",
    "#     for mask_label in unique_mask_labels[unique_mask_labels != 0]:\n",
    "#         exp_pred_mask = pred_masks == mask_label\n",
    "#         calculated_j_value = jaccard_score(gt_mask, exp_pred_mask, average=\"micro\")\n",
    "#         if np.isclose(calculated_j_value, j_value, rtol=1e-6):\n",
    "#             return exp_pred_mask, mask_label\n",
    "    \n",
    "#     return None"
   ]
  },
  {
   "cell_type": "code",
   "execution_count": 27,
   "id": "6b07dbb6-4aba-4bb3-8b5b-6558ff0f71c1",
   "metadata": {},
   "outputs": [],
   "source": [
    "def get_label_mask(pred_masks, gt_mask, label, j_value, tolerance=1e-6):\n",
    "    unique_mask_labels = np.unique(pred_masks)\n",
    "    \n",
    "    # Quick check for label presence\n",
    "    if label not in unique_mask_labels:\n",
    "        unique_mask_labels = unique_mask_labels[1:]  # Exclude background\n",
    "    else:\n",
    "        mask_label = unique_mask_labels[label]\n",
    "        exp_pred_mask = pred_masks == mask_label\n",
    "        calculated_j_value = jaccard_score(gt_mask.ravel(), exp_pred_mask.ravel(), average=\"micro\")\n",
    "        if np.isclose(calculated_j_value, j_value, atol=tolerance):\n",
    "            return exp_pred_mask\n",
    "    \n",
    "    # Vectorized operation for all labels\n",
    "    mask_stack = pred_masks[:, :, None] == unique_mask_labels[None, None, :]\n",
    "    print(len(mask_stack))\n",
    "    j_scores = np.array([jaccard_score(gt_mask.ravel(), mask.ravel(), average=\"micro\") \n",
    "                         for mask in mask_stack.reshape(-1, mask_stack.shape[-1]).T])\n",
    "    print(j_scores)\n",
    "    # Find the closest match\n",
    "    closest_index = np.argmin(np.abs(j_scores - j_value))\n",
    "    if np.isclose(j_scores[closest_index], j_value, atol=tolerance):\n",
    "        return pred_masks == unique_mask_labels[closest_index]\n",
    "    \n",
    "    print(f\"No matching mask found. Closest j_value: {j_scores[closest_index]}\")\n",
    "    return None"
   ]
  },
  {
   "cell_type": "code",
   "execution_count": null,
   "id": "0bcb0c54-77de-4438-a41f-3d0cddece19c",
   "metadata": {},
   "outputs": [],
   "source": []
  },
  {
   "cell_type": "code",
   "execution_count": 247,
   "id": "a1f6f066-2df7-4fe5-a7b2-abd89ad2786e",
   "metadata": {},
   "outputs": [
    {
     "ename": "TypeError",
     "evalue": "'PosixPath' object is not subscriptable",
     "output_type": "error",
     "traceback": [
      "\u001b[0;31m---------------------------------------------------------------------------\u001b[0m",
      "\u001b[0;31mTypeError\u001b[0m                                 Traceback (most recent call last)",
      "Cell \u001b[0;32mIn[247], line 1\u001b[0m\n\u001b[0;32m----> 1\u001b[0m \u001b[43mpathlib\u001b[49m\u001b[38;5;241;43m.\u001b[39;49m\u001b[43mPath\u001b[49m\u001b[43m(\u001b[49m\u001b[38;5;124;43m\"\u001b[39;49m\u001b[38;5;124;43msome/path/image.jpg\u001b[39;49m\u001b[38;5;124;43m\"\u001b[39;49m\u001b[43m)\u001b[49m\u001b[43m[\u001b[49m\u001b[43m:\u001b[49m\u001b[38;5;241;43m-\u001b[39;49m\u001b[38;5;241;43m4\u001b[39;49m\u001b[43m]\u001b[49m\n",
      "\u001b[0;31mTypeError\u001b[0m: 'PosixPath' object is not subscriptable"
     ]
    }
   ],
   "source": [
    "pathlib.Path(\"some/path/image.jpg\")."
   ]
  },
  {
   "cell_type": "code",
   "execution_count": 16,
   "id": "354687df-5050-48b1-8399-742726ef4c24",
   "metadata": {},
   "outputs": [],
   "source": [
    "from datetime import datetime"
   ]
  },
  {
   "cell_type": "code",
   "execution_count": 28,
   "id": "0a744bab-beb7-47af-84f4-91bf95489ddf",
   "metadata": {},
   "outputs": [],
   "source": [
    "def preprocess_dataset(dataset_df_path, merged_images_out_dir):\n",
    "    merged_images_paths = []\n",
    "    start = datetime.now()\n",
    "    for row in tqdm.tqdm(dataset_df[:100].itertuples(),total=len(dataset_df)):\n",
    "        \n",
    "        merged_gt_image = merge_source_with_mask(row.Mask_file, row.Gt_source_file, row.Gt_mask_file, row.Label, row.J_value)\n",
    "        merged_image_path = modify_file_path(row.Mask_file, row.Label, merged_images_out_dir)\n",
    "        pathlib.Path(merged_image_path).parent.mkdir(parents=True, exist_ok=True)\n",
    "        tifffile.imwrite(merged_image_path, merged_gt_image)\n",
    "        merged_images_paths.append(merged_image_path)\n",
    "    end = datetime.now()\n",
    "    print(f\"elapsed time is: {end-start}\")\n",
    "    # dataset_df['merged_image_path'] = merged_images_paths\n",
    "    # dataset_df.to_csv('preprocessed_dataset.csv')"
   ]
  },
  {
   "cell_type": "code",
   "execution_count": 226,
   "id": "98acc90d-216d-4307-8a22-8a0c76503af2",
   "metadata": {},
   "outputs": [],
   "source": [
    "used_labels_check = []"
   ]
  },
  {
   "cell_type": "code",
   "execution_count": 227,
   "id": "8cc92f02-a255-4976-81ae-97228ca5363c",
   "metadata": {},
   "outputs": [],
   "source": [
    "def preprocess_dataset(dataset_df_path, merged_images_out_dir):\n",
    "    merged_images_paths = []\n",
    "    current_mask_file = None\n",
    "    current_gt_source_file = None\n",
    "    current_gt_mask_file = None\n",
    "    label = None\n",
    "    j_value = None\n",
    "    used_labels = set()\n",
    "    start = datetime.now()\n",
    "    for row in tqdm.tqdm(dataset_df[2304:2408].itertuples(),total=len(dataset_df)):\n",
    "        mask_file, gt_source_file, gt_mask_file, label, j_value = row.Mask_file, row.Gt_source_file, row.Gt_mask_file, row.Label, row.J_value\n",
    "        if current_mask_file != mask_file:\n",
    "            pred_masks = tifffile.imread(mask_file)\n",
    "            current_mask_file = mask_file\n",
    "        if current_gt_source_file != gt_source_file:\n",
    "            gt_source = tifffile.imread(gt_source_file)\n",
    "            current_gt_source_file = gt_source_file\n",
    "        if current_gt_mask_file != gt_mask_file:\n",
    "            gt_masks = tifffile.imread(gt_mask_file)\n",
    "            current_gt_mask_file = gt_mask_file\n",
    "            used_labels = set()\n",
    "        gt_mask = gt_masks == label\n",
    "        merged_gt_image, used_label = merge_source_with_mask(pred_masks, gt_source, gt_mask, label, j_value, used_labels)\n",
    "        global used_labels_check\n",
    "        used_labels_check.append([label,used_label, j_value])\n",
    "        #used_labels.add(used_label)\n",
    "        merged_image_path = modify_file_path(mask_file, label, merged_images_out_dir)\n",
    "        pathlib.Path(merged_image_path).parent.mkdir(parents=True, exist_ok=True)\n",
    "        tifffile.imwrite(merged_image_path, merged_gt_image)\n",
    "        merged_images_paths.append(merged_image_path)\n",
    "    end = datetime.now()\n",
    "    print(f\"elapsed time is: {end-start}\")\n",
    "    # dataset_df['merged_image_path'] = merged_images_paths\n",
    "    # dataset_df.to_csv('preprocessed_dataset.csv')"
   ]
  },
  {
   "cell_type": "code",
   "execution_count": 123,
   "id": "23712ff6-ae09-489c-8990-0cadfb9c1211",
   "metadata": {},
   "outputs": [
    {
     "data": {
      "text/plain": [
       "(array([0.      , 0.501695, 0.560748, 0.648903, 0.681818, 0.700535,\n",
       "        0.701493, 0.701987, 0.715625, 0.717532, 0.718833, 0.72118 ,\n",
       "        0.721485, 0.72434 , 0.726619, 0.726727, 0.731415, 0.735294,\n",
       "        0.735669, 0.738506, 0.73913 , 0.739583, 0.742169, 0.745283,\n",
       "        0.74744 , 0.751634, 0.751656, 0.751773, 0.760274, 0.7625  ,\n",
       "        0.765957, 0.766892, 0.771084, 0.771331, 0.772388, 0.773163,\n",
       "        0.778082, 0.779006, 0.786885, 0.790368, 0.790476, 0.791209,\n",
       "        0.793413, 0.79397 , 0.795107, 0.795396, 0.796364, 0.797059,\n",
       "        0.797872, 0.80112 , 0.801676, 0.80212 , 0.804416, 0.80826 ,\n",
       "        0.809392, 0.809412, 0.810298, 0.811671, 0.812298, 0.814249,\n",
       "        0.815476, 0.816054, 0.817629, 0.817891, 0.819549, 0.820423,\n",
       "        0.820442, 0.824219, 0.825926, 0.827586, 0.827692, 0.828125,\n",
       "        0.82971 , 0.830189, 0.831063, 0.831832, 0.832714, 0.832765,\n",
       "        0.833333, 0.833898, 0.835165, 0.835267, 0.835616, 0.839009,\n",
       "        0.842491, 0.84345 , 0.845238, 0.845588, 0.848739, 0.851485,\n",
       "        0.853723, 0.854701, 0.856734, 0.858182, 0.859107, 0.87067 ,\n",
       "        0.875354, 0.87538 , 0.881119, 0.889571, 0.89313 , 0.893372,\n",
       "        0.902564, 0.91958 , 0.956731]),\n",
       " array([1, 1, 1, 1, 1, 1, 1, 1, 1, 1, 1, 1, 1, 1, 1, 1, 1, 1, 1, 1, 1, 1,\n",
       "        1, 1, 1, 1, 1, 1, 1, 1, 1, 1, 1, 1, 1, 1, 1, 1, 1, 1, 1, 1, 1, 1,\n",
       "        1, 1, 1, 1, 1, 1, 1, 1, 1, 1, 1, 1, 1, 1, 1, 1, 1, 1, 1, 1, 1, 1,\n",
       "        1, 1, 1, 1, 1, 1, 1, 1, 1, 1, 1, 1, 2, 1, 1, 1, 1, 1, 1, 1, 1, 1,\n",
       "        1, 1, 1, 1, 1, 1, 1, 1, 1, 1, 1, 1, 1, 1, 1, 1, 1]))"
      ]
     },
     "execution_count": 123,
     "metadata": {},
     "output_type": "execute_result"
    }
   ],
   "source": [
    "np.unique(dataset_df.iloc[47:153].J_value, return_counts=True)"
   ]
  },
  {
   "cell_type": "code",
   "execution_count": 130,
   "id": "5c099735-07f9-4c49-9cbd-2891ad292a29",
   "metadata": {},
   "outputs": [
    {
     "data": {
      "text/plain": [
       "array([0.815476, 0.80112 , 0.833333, 0.791209, 0.812298, 0.854701,\n",
       "       0.853723, 0.786885, 0.715625, 0.893372, 0.87067 , 0.797872,\n",
       "       0.859107, 0.74744 , 0.73913 , 0.742169, 0.817629, 0.804416,\n",
       "       0.793413, 0.801676, 0.795396, 0.833333, 0.835267, 0.835165,\n",
       "       0.831832, 0.810298, 0.831063, 0.721485, 0.87538 , 0.79397 ,\n",
       "       0.827586, 0.726727, 0.816054, 0.827692, 0.72118 , 0.718833,\n",
       "       0.848739, 0.681818, 0.875354, 0.771084, 0.731415, 0.956731,\n",
       "       0.738506, 0.809392, 0.796364, 0.80212 , 0.648903, 0.766892,\n",
       "       0.765957, 0.889571, 0.735294, 0.778082, 0.80826 , 0.811671,\n",
       "       0.809412, 0.814249, 0.819549, 0.817891, 0.779006, 0.84345 ,\n",
       "       0.790368, 0.701987, 0.751656, 0.751773, 0.820442, 0.851485,\n",
       "       0.830189, 0.797059, 0.700535, 0.828125, 0.835616, 0.745283,\n",
       "       0.825926, 0.717532, 0.751634, 0.89313 , 0.773163, 0.856734,\n",
       "       0.72434 , 0.701493, 0.760274, 0.795107, 0.735669, 0.      ,\n",
       "       0.824219, 0.726619, 0.790476, 0.845238, 0.832765, 0.833898,\n",
       "       0.839009, 0.7625  , 0.91958 , 0.881119, 0.560748, 0.820423,\n",
       "       0.858182, 0.842491, 0.82971 , 0.832714, 0.772388, 0.739583,\n",
       "       0.501695, 0.845588, 0.902564, 0.771331])"
      ]
     },
     "execution_count": 130,
     "metadata": {},
     "output_type": "execute_result"
    }
   ],
   "source": [
    "np.array(dataset_df.iloc[47:153].J_value)"
   ]
  },
  {
   "cell_type": "code",
   "execution_count": 132,
   "id": "39035e3f-209c-42cd-8311-2c7e98f1fd46",
   "metadata": {},
   "outputs": [
    {
     "data": {
      "text/plain": [
       "Unnamed: 0                                                          49\n",
       "Mask_file            inputs-2020-07/BF-C2DL-HSC/MU-Lux-CZ/02_RES/ma...\n",
       "Gt_source_file                 inputs-2020-07/BF-C2DL-HSC/02/t1585.tif\n",
       "Gt_mask_file         inputs-2020-07/BF-C2DL-HSC/02_GT/SEG/man_seg15...\n",
       "Label                                                                2\n",
       "J_value                                                       0.833333\n",
       "merged_image_path    test_out/inputs-2020-07/BF-C2DL-HSC/MU-Lux-CZ/...\n",
       "Name: 49, dtype: object"
      ]
     },
     "execution_count": 132,
     "metadata": {},
     "output_type": "execute_result"
    }
   ],
   "source": [
    "dataset_df.iloc[49]"
   ]
  },
  {
   "cell_type": "code",
   "execution_count": 198,
   "id": "34f4f18c-e2a4-4b11-9fa9-e5da7c67dd7b",
   "metadata": {},
   "outputs": [
    {
     "data": {
      "text/plain": [
       "'inputs-2020-07/BF-C2DL-HSC/MU-Lux-CZ/02_RES/mask1585.tif'"
      ]
     },
     "execution_count": 198,
     "metadata": {},
     "output_type": "execute_result"
    }
   ],
   "source": [
    "dataset_df.iloc[68].Mask_file"
   ]
  },
  {
   "cell_type": "code",
   "execution_count": 127,
   "id": "5b00565c-27b9-4707-b6e0-d39ea6233e01",
   "metadata": {},
   "outputs": [
    {
     "name": "stdout",
     "output_type": "stream",
     "text": [
      "0.833333\n"
     ]
    }
   ],
   "source": [
    "uniques = []\n",
    "for i in np.array(dataset_df.iloc[47:153].J_value):\n",
    "    if i in uniques:\n",
    "        print(i)\n",
    "    \n",
    "    uniques.append(i)"
   ]
  },
  {
   "cell_type": "code",
   "execution_count": 149,
   "id": "30be1b14-695a-44f6-b371-95ead84da470",
   "metadata": {},
   "outputs": [
    {
     "name": "stdout",
     "output_type": "stream",
     "text": [
      "1025\n"
     ]
    }
   ],
   "source": [
    "uniques = []\n",
    "for i in np.array(used_labels_check):\n",
    "    if i in uniques:\n",
    "        print(i)\n",
    "    \n",
    "    uniques.append(i)"
   ]
  },
  {
   "cell_type": "code",
   "execution_count": null,
   "id": "77899143-beac-4e07-b689-6c36ffecbe36",
   "metadata": {},
   "outputs": [],
   "source": [
    "48 do 152"
   ]
  },
  {
   "cell_type": "code",
   "execution_count": 407,
   "id": "34cb43f5-b83a-444f-bfa9-e46ed91675d6",
   "metadata": {},
   "outputs": [],
   "source": [
    "a = set()"
   ]
  },
  {
   "cell_type": "code",
   "execution_count": 456,
   "id": "01a22519-ab90-4f8c-9427-072aae8da480",
   "metadata": {},
   "outputs": [],
   "source": [
    "a.add(8)"
   ]
  },
  {
   "cell_type": "code",
   "execution_count": 457,
   "id": "be271554-d4db-4c52-865b-9ca0875b7c90",
   "metadata": {},
   "outputs": [
    {
     "data": {
      "text/plain": [
       "{1, 8}"
      ]
     },
     "execution_count": 457,
     "metadata": {},
     "output_type": "execute_result"
    }
   ],
   "source": [
    "a"
   ]
  },
  {
   "cell_type": "code",
   "execution_count": 49,
   "id": "453e4fbe-29b3-4f1c-802c-1917062a8ef8",
   "metadata": {},
   "outputs": [],
   "source": [
    "unique_mask_labels = [0, 1, 2, 3 ,4,5,6 ,7]"
   ]
  },
  {
   "cell_type": "code",
   "execution_count": 114,
   "id": "aa86010b-a3c3-407a-9605-28d2edebdb1f",
   "metadata": {},
   "outputs": [],
   "source": [
    "used_labels = set([2,6,1, np.inf])"
   ]
  },
  {
   "cell_type": "code",
   "execution_count": 115,
   "id": "75d4f0a0-147c-46bd-b048-84e3966796d2",
   "metadata": {},
   "outputs": [
    {
     "data": {
      "text/plain": [
       "array([0, 3, 4, 5, 7])"
      ]
     },
     "execution_count": 115,
     "metadata": {},
     "output_type": "execute_result"
    }
   ],
   "source": [
    "np.setdiff1d(unique_mask_labels, list(used_labels))"
   ]
  },
  {
   "cell_type": "code",
   "execution_count": 337,
   "id": "b6cddda1-14d9-4ff2-8696-03838f18014f",
   "metadata": {},
   "outputs": [],
   "source": [
    "import tqdm"
   ]
  },
  {
   "cell_type": "code",
   "execution_count": 19,
   "id": "19c0df53-a126-44bb-b6c0-a677dde4660e",
   "metadata": {},
   "outputs": [],
   "source": [
    "dataset_df = pd.read_csv('dataset.csv')"
   ]
  },
  {
   "cell_type": "code",
   "execution_count": 228,
   "id": "57705c3a-60ec-4f78-a7aa-4cf1cb55ee5e",
   "metadata": {},
   "outputs": [
    {
     "name": "stderr",
     "output_type": "stream",
     "text": [
      "  4%|████                                                                                                         | 104/2820 [02:29<1:04:54,  1.43s/it]"
     ]
    },
    {
     "name": "stdout",
     "output_type": "stream",
     "text": [
      "elapsed time is: 0:02:29.145430\n"
     ]
    },
    {
     "name": "stderr",
     "output_type": "stream",
     "text": [
      "\n"
     ]
    }
   ],
   "source": [
    "preprocess_dataset(dataset_df, 'test_out_fast')"
   ]
  },
  {
   "cell_type": "code",
   "execution_count": 235,
   "id": "87369453-4171-4ad4-980b-0343ae6907d3",
   "metadata": {},
   "outputs": [
    {
     "data": {
      "text/plain": [
       "(array([  0.268405,   0.451292,   0.589649,   0.637097,   0.705357,\n",
       "          0.708475,   0.721212,   0.722488,   0.724518,   0.756545,\n",
       "          0.758333,   0.765043,   0.767313,   0.768194,   0.77458 ,\n",
       "          0.774648,   0.776812,   0.778146,   0.783333,   0.79096 ,\n",
       "          0.792244,   0.792746,   0.794721,   0.796721,   0.797428,\n",
       "          0.798054,   0.798107,   0.798295,   0.800752,   0.801223,\n",
       "          0.803714,   0.806878,   0.809524,   0.810502,   0.812274,\n",
       "          0.814385,   0.816393,   0.817175,   0.819398,   0.821212,\n",
       "          0.821333,   0.821596,   0.822888,   0.823362,   0.823394,\n",
       "          0.825215,   0.825826,   0.827044,   0.82767 ,   0.831579,\n",
       "          0.831658,   0.832947,   0.833333,   0.835938,   0.837278,\n",
       "          0.837696,   0.839474,   0.839695,   0.84058 ,   0.840841,\n",
       "          0.841499,   0.842365,   0.843318,   0.844633,   0.845638,\n",
       "          0.845921,   0.849057,   0.849105,   0.849432,   0.850163,\n",
       "          0.851852,   0.851986,   0.853147,   0.85422 ,   0.854911,\n",
       "          0.856369,   0.857143,   0.86    ,   0.86165 ,   0.862205,\n",
       "          0.862687,   0.863095,   0.863481,   0.864198,   0.865942,\n",
       "          0.867403,   0.868354,   0.870027,   0.871069,   0.871345,\n",
       "          0.874317,   0.878419,   0.88    ,   0.88417 ,   0.887195,\n",
       "          0.889197,   0.890173,   0.892157,   0.893993,   0.89426 ,\n",
       "          0.89769 ,   0.903333,   0.91029 ,   1.      ,   2.      ,\n",
       "          3.      ,   4.      ,   5.      ,   6.      ,   7.      ,\n",
       "          8.      ,   9.      ,  10.      ,  11.      ,  12.      ,\n",
       "         13.      ,  14.      ,  15.      ,  16.      ,  17.      ,\n",
       "         18.      ,  19.      ,  20.      ,  21.      ,  22.      ,\n",
       "         23.      ,  24.      ,  25.      ,  26.      ,  27.      ,\n",
       "         28.      ,  29.      ,  30.      ,  31.      ,  32.      ,\n",
       "         33.      ,  34.      ,  35.      ,  36.      ,  37.      ,\n",
       "         38.      ,  39.      ,  40.      ,  41.      ,  42.      ,\n",
       "         43.      ,  44.      ,  45.      ,  46.      ,  47.      ,\n",
       "         48.      ,  49.      ,  50.      ,  51.      ,  52.      ,\n",
       "         53.      ,  54.      ,  55.      ,  56.      ,  57.      ,\n",
       "         58.      ,  59.      ,  60.      ,  61.      ,  62.      ,\n",
       "         63.      ,  64.      ,  65.      ,  66.      ,  67.      ,\n",
       "         68.      ,  69.      ,  70.      ,  71.      ,  72.      ,\n",
       "         73.      ,  74.      ,  75.      ,  76.      ,  77.      ,\n",
       "         78.      ,  79.      ,  80.      ,  81.      ,  82.      ,\n",
       "         83.      ,  84.      ,  85.      ,  86.      ,  87.      ,\n",
       "         88.      ,  89.      ,  90.      ,  91.      ,  92.      ,\n",
       "         93.      ,  94.      ,  95.      ,  96.      ,  97.      ,\n",
       "         98.      ,  99.      , 100.      , 101.      , 102.      ,\n",
       "        103.      , 104.      , 105.      , 106.      , 107.      ,\n",
       "        108.      , 109.      , 110.      , 112.      , 113.      ,\n",
       "        114.      , 115.      , 116.      , 117.      , 118.      ,\n",
       "        119.      , 121.      , 122.      , 125.      , 126.      ,\n",
       "        127.      , 128.      , 129.      , 130.      , 131.      ,\n",
       "        132.      , 133.      , 134.      , 135.      , 137.      ,\n",
       "        138.      , 139.      , 140.      , 141.      , 142.      ,\n",
       "        143.      , 144.      , 145.      , 146.      , 147.      ,\n",
       "        148.      , 149.      , 150.      , 151.      , 152.      ,\n",
       "        153.      ]),\n",
       " array([1, 1, 1, 1, 1, 1, 1, 1, 1, 1, 1, 1, 1, 1, 1, 1, 1, 1, 1, 1, 1, 1,\n",
       "        1, 1, 1, 1, 1, 1, 1, 1, 1, 1, 1, 1, 1, 1, 1, 1, 1, 1, 1, 1, 1, 1,\n",
       "        1, 1, 1, 1, 1, 1, 1, 1, 1, 1, 1, 1, 1, 1, 1, 1, 1, 1, 1, 1, 1, 1,\n",
       "        1, 1, 1, 1, 1, 1, 1, 1, 1, 1, 1, 1, 1, 1, 1, 1, 2, 1, 1, 1, 1, 1,\n",
       "        1, 1, 1, 1, 1, 1, 1, 1, 1, 1, 1, 1, 1, 1, 1, 1, 1, 1, 1, 2, 1, 1,\n",
       "        2, 1, 1, 1, 1, 1, 1, 1, 2, 1, 2, 2, 1, 1, 1, 1, 1, 2, 1, 1, 2, 1,\n",
       "        1, 1, 1, 2, 2, 2, 2, 2, 1, 2, 1, 1, 2, 2, 2, 2, 2, 2, 2, 2, 2, 2,\n",
       "        2, 2, 2, 2, 1, 1, 2, 1, 2, 2, 2, 2, 2, 2, 2, 2, 2, 1, 1, 1, 2, 1,\n",
       "        1, 2, 2, 1, 1, 2, 2, 1, 2, 2, 2, 1, 2, 2, 2, 1, 2, 1, 2, 1, 2, 2,\n",
       "        1, 2, 2, 2, 2, 2, 2, 2, 1, 1, 1, 1, 1, 1, 1, 1, 1, 1, 1, 1, 1, 1,\n",
       "        1, 1, 1, 1, 1, 1, 1, 1, 1, 1, 1, 1, 1, 1, 1, 1, 1, 1, 1, 1, 1, 1,\n",
       "        1, 1, 1, 1, 1, 2, 1, 1, 1]))"
      ]
     },
     "execution_count": 235,
     "metadata": {},
     "output_type": "execute_result"
    }
   ],
   "source": [
    "np.unique(used_labels_check, return_counts=True)"
   ]
  },
  {
   "cell_type": "code",
   "execution_count": 236,
   "id": "6c479fee-5180-4365-9a1b-55f47c219324",
   "metadata": {},
   "outputs": [
    {
     "data": {
      "text/plain": [
       "[[1, np.uint16(150), 0.268405],\n",
       " [2, np.uint16(48), 0.862687],\n",
       " [3, np.uint16(62), 0.77458],\n",
       " [4, np.uint16(46), 0.851852],\n",
       " [5, np.uint16(119), 0.867403],\n",
       " [6, np.uint16(47), 0.868354],\n",
       " [7, np.uint16(64), 0.89769],\n",
       " [8, np.uint16(130), 0.850163],\n",
       " [9, np.uint16(133), 0.589649],\n",
       " [10, np.uint16(138), 0.854911],\n",
       " [11, np.uint16(55), 0.823394],\n",
       " [12, np.uint16(49), 0.724518],\n",
       " [13, np.uint16(72), 0.853147],\n",
       " [14, np.uint16(92), 0.878419],\n",
       " [15, np.uint16(58), 0.86165],\n",
       " [16, np.uint16(33), 0.89426],\n",
       " [17, np.uint16(105), 0.840841],\n",
       " [18, np.uint16(34), 0.758333],\n",
       " [19, np.uint16(137), 0.823362],\n",
       " [20, np.uint16(127), 0.821596],\n",
       " [21, np.uint16(153), 0.91029],\n",
       " [22, np.uint16(54), 0.843318],\n",
       " [23, np.uint16(143), 0.870027],\n",
       " [24, np.uint16(122), 0.817175],\n",
       " [25, np.uint16(35), 0.821333],\n",
       " [26, np.uint16(79), 0.798054],\n",
       " [27, np.uint16(51), 0.831658],\n",
       " [28, np.uint16(60), 0.821212],\n",
       " [29, np.uint16(102), 0.864198],\n",
       " [30, np.uint16(146), 0.863095],\n",
       " [31, np.uint16(117), 0.803714],\n",
       " [32, np.uint16(19), 0.892157],\n",
       " [33, np.uint16(61), 0.88],\n",
       " [34, np.uint16(97), 0.756545],\n",
       " [35, np.uint16(75), 0.842365],\n",
       " [36, np.uint16(116), 0.889197],\n",
       " [37, np.uint16(42), 0.833333],\n",
       " [38, np.uint16(36), 0.837696],\n",
       " [39, np.uint16(106), 0.809524],\n",
       " [40, np.uint16(65), 0.835938],\n",
       " [41, np.uint16(118), 0.82767],\n",
       " [42, np.uint16(39), 0.856369],\n",
       " [43, np.uint16(68), 0.839695],\n",
       " [44, np.uint16(132), 0.851986],\n",
       " [45, np.uint16(121), 0.819398],\n",
       " [46, np.uint16(109), 0.797428],\n",
       " [47, np.uint16(99), 0.903333],\n",
       " [48, np.uint16(129), 0.768194],\n",
       " [49, np.uint16(95), 0.849432],\n",
       " [50, np.uint16(140), 0.832947],\n",
       " [51, np.uint16(101), 0.85422],\n",
       " [52, np.uint16(125), 0.890173],\n",
       " [53, np.uint16(8), 0.792746],\n",
       " [54, np.uint16(87), 0.810502],\n",
       " [55, np.uint16(131), 0.814385],\n",
       " [56, np.uint16(134), 0.721212],\n",
       " [57, np.uint16(107), 0.841499],\n",
       " [58, np.uint16(114), 0.874317],\n",
       " [59, np.uint16(16), 0.774648],\n",
       " [60, np.uint16(113), 0.871345],\n",
       " [61, np.uint16(67), 0.845921],\n",
       " [62, np.uint16(142), 0.801223],\n",
       " [63, np.uint16(128), 0.863481],\n",
       " [64, np.uint16(66), 0.822888],\n",
       " [65, np.uint16(139), 0.794721],\n",
       " [66, np.uint16(149), 0.767313],\n",
       " [67, np.uint16(50), 0.79096],\n",
       " [68, np.uint16(110), 0.849105],\n",
       " [69, np.uint16(86), 0.844633],\n",
       " [70, np.uint16(82), 0.839474],\n",
       " [71, np.uint16(112), 0.825826],\n",
       " [72, np.uint16(76), 0.783333],\n",
       " [73, np.uint16(45), 0.796721],\n",
       " [74, np.uint16(108), 0.798107],\n",
       " [75, np.uint16(25), 0.637097],\n",
       " [76, np.uint16(100), 0.765043],\n",
       " [77, np.uint16(37), 0.806878],\n",
       " [78, np.uint16(28), 0.825215],\n",
       " [79, np.uint16(44), 0.798295],\n",
       " [80, np.uint16(88), 0.816393],\n",
       " [81, np.uint16(90), 0.887195],\n",
       " [82, np.uint16(147), 0.827044],\n",
       " [83, np.uint16(148), 0.84058],\n",
       " [84, np.uint16(5), 0.800752],\n",
       " [85, np.uint16(18), 0.862205],\n",
       " [86, np.uint16(84), 0.776812],\n",
       " [87, np.uint16(141), 0.837278],\n",
       " [88, np.uint16(115), 0.86],\n",
       " [89, np.uint16(103), 0.845638],\n",
       " [90, np.uint16(53), 0.792244],\n",
       " [91, np.uint16(126), 0.871069],\n",
       " [92, np.uint16(52), 0.857143],\n",
       " [93, np.uint16(145), 0.863481],\n",
       " [94, np.uint16(135), 0.88417],\n",
       " [95, np.uint16(152), 0.831579],\n",
       " [96, np.uint16(63), 0.849057],\n",
       " [97, np.uint16(150), 0.451292],\n",
       " [98, np.uint16(83), 0.778146],\n",
       " [99, np.uint16(94), 0.893993],\n",
       " [100, np.uint16(144), 0.812274],\n",
       " [101, np.uint16(80), 0.865942],\n",
       " [102, np.uint16(43), 0.708475],\n",
       " [103, np.uint16(151), 0.705357],\n",
       " [104, np.uint16(98), 0.722488]]"
      ]
     },
     "execution_count": 236,
     "metadata": {},
     "output_type": "execute_result"
    }
   ],
   "source": [
    "used_labels_check"
   ]
  },
  {
   "cell_type": "code",
   "execution_count": 178,
   "id": "244f2bbe-4acc-4577-b9be-c4416988c6fd",
   "metadata": {},
   "outputs": [],
   "source": [
    "second_values = [row[1:2] for row in used_labels_check[1:]]"
   ]
  },
  {
   "cell_type": "code",
   "execution_count": 237,
   "id": "cb8e86bd-3b7a-47e7-b268-8b0ac0356f3a",
   "metadata": {},
   "outputs": [],
   "source": [
    "karolina_dataset = pd.read_csv('karolina_problem/dataset.csv')"
   ]
  },
  {
   "cell_type": "code",
   "execution_count": 246,
   "id": "409ef3cf-74ec-460b-9974-dd504ec587d0",
   "metadata": {},
   "outputs": [
    {
     "data": {
      "text/html": [
       "<div>\n",
       "<style scoped>\n",
       "    .dataframe tbody tr th:only-of-type {\n",
       "        vertical-align: middle;\n",
       "    }\n",
       "\n",
       "    .dataframe tbody tr th {\n",
       "        vertical-align: top;\n",
       "    }\n",
       "\n",
       "    .dataframe thead th {\n",
       "        text-align: right;\n",
       "    }\n",
       "</style>\n",
       "<table border=\"1\" class=\"dataframe\">\n",
       "  <thead>\n",
       "    <tr style=\"text-align: right;\">\n",
       "      <th></th>\n",
       "      <th>Mask_file</th>\n",
       "      <th>Gt_source_file</th>\n",
       "      <th>Gt_mask_file</th>\n",
       "      <th>Label</th>\n",
       "      <th>J_value</th>\n",
       "    </tr>\n",
       "  </thead>\n",
       "  <tbody>\n",
       "    <tr>\n",
       "      <th>48</th>\n",
       "      <td>/mnt/proj3/fta-24-12/inputs-2020-07/BF-C2DL-HS...</td>\n",
       "      <td>/mnt/proj3/fta-24-12/inputs-2020-07/BF-C2DL-HS...</td>\n",
       "      <td>/mnt/proj3/fta-24-12/inputs-2020-07/BF-C2DL-HS...</td>\n",
       "      <td>1</td>\n",
       "      <td>0.268405</td>\n",
       "    </tr>\n",
       "    <tr>\n",
       "      <th>49</th>\n",
       "      <td>/mnt/proj3/fta-24-12/inputs-2020-07/BF-C2DL-HS...</td>\n",
       "      <td>/mnt/proj3/fta-24-12/inputs-2020-07/BF-C2DL-HS...</td>\n",
       "      <td>/mnt/proj3/fta-24-12/inputs-2020-07/BF-C2DL-HS...</td>\n",
       "      <td>2</td>\n",
       "      <td>0.862687</td>\n",
       "    </tr>\n",
       "    <tr>\n",
       "      <th>50</th>\n",
       "      <td>/mnt/proj3/fta-24-12/inputs-2020-07/BF-C2DL-HS...</td>\n",
       "      <td>/mnt/proj3/fta-24-12/inputs-2020-07/BF-C2DL-HS...</td>\n",
       "      <td>/mnt/proj3/fta-24-12/inputs-2020-07/BF-C2DL-HS...</td>\n",
       "      <td>3</td>\n",
       "      <td>0.774580</td>\n",
       "    </tr>\n",
       "    <tr>\n",
       "      <th>51</th>\n",
       "      <td>/mnt/proj3/fta-24-12/inputs-2020-07/BF-C2DL-HS...</td>\n",
       "      <td>/mnt/proj3/fta-24-12/inputs-2020-07/BF-C2DL-HS...</td>\n",
       "      <td>/mnt/proj3/fta-24-12/inputs-2020-07/BF-C2DL-HS...</td>\n",
       "      <td>4</td>\n",
       "      <td>0.851852</td>\n",
       "    </tr>\n",
       "    <tr>\n",
       "      <th>52</th>\n",
       "      <td>/mnt/proj3/fta-24-12/inputs-2020-07/BF-C2DL-HS...</td>\n",
       "      <td>/mnt/proj3/fta-24-12/inputs-2020-07/BF-C2DL-HS...</td>\n",
       "      <td>/mnt/proj3/fta-24-12/inputs-2020-07/BF-C2DL-HS...</td>\n",
       "      <td>5</td>\n",
       "      <td>0.867403</td>\n",
       "    </tr>\n",
       "    <tr>\n",
       "      <th>...</th>\n",
       "      <td>...</td>\n",
       "      <td>...</td>\n",
       "      <td>...</td>\n",
       "      <td>...</td>\n",
       "      <td>...</td>\n",
       "    </tr>\n",
       "    <tr>\n",
       "      <th>148</th>\n",
       "      <td>/mnt/proj3/fta-24-12/inputs-2020-07/BF-C2DL-HS...</td>\n",
       "      <td>/mnt/proj3/fta-24-12/inputs-2020-07/BF-C2DL-HS...</td>\n",
       "      <td>/mnt/proj3/fta-24-12/inputs-2020-07/BF-C2DL-HS...</td>\n",
       "      <td>101</td>\n",
       "      <td>0.865942</td>\n",
       "    </tr>\n",
       "    <tr>\n",
       "      <th>149</th>\n",
       "      <td>/mnt/proj3/fta-24-12/inputs-2020-07/BF-C2DL-HS...</td>\n",
       "      <td>/mnt/proj3/fta-24-12/inputs-2020-07/BF-C2DL-HS...</td>\n",
       "      <td>/mnt/proj3/fta-24-12/inputs-2020-07/BF-C2DL-HS...</td>\n",
       "      <td>102</td>\n",
       "      <td>0.708475</td>\n",
       "    </tr>\n",
       "    <tr>\n",
       "      <th>150</th>\n",
       "      <td>/mnt/proj3/fta-24-12/inputs-2020-07/BF-C2DL-HS...</td>\n",
       "      <td>/mnt/proj3/fta-24-12/inputs-2020-07/BF-C2DL-HS...</td>\n",
       "      <td>/mnt/proj3/fta-24-12/inputs-2020-07/BF-C2DL-HS...</td>\n",
       "      <td>103</td>\n",
       "      <td>0.705357</td>\n",
       "    </tr>\n",
       "    <tr>\n",
       "      <th>151</th>\n",
       "      <td>/mnt/proj3/fta-24-12/inputs-2020-07/BF-C2DL-HS...</td>\n",
       "      <td>/mnt/proj3/fta-24-12/inputs-2020-07/BF-C2DL-HS...</td>\n",
       "      <td>/mnt/proj3/fta-24-12/inputs-2020-07/BF-C2DL-HS...</td>\n",
       "      <td>104</td>\n",
       "      <td>0.722488</td>\n",
       "    </tr>\n",
       "    <tr>\n",
       "      <th>152</th>\n",
       "      <td>/mnt/proj3/fta-24-12/inputs-2020-07/BF-C2DL-HS...</td>\n",
       "      <td>/mnt/proj3/fta-24-12/inputs-2020-07/BF-C2DL-HS...</td>\n",
       "      <td>/mnt/proj3/fta-24-12/inputs-2020-07/BF-C2DL-HS...</td>\n",
       "      <td>105</td>\n",
       "      <td>0.727273</td>\n",
       "    </tr>\n",
       "  </tbody>\n",
       "</table>\n",
       "<p>105 rows × 5 columns</p>\n",
       "</div>"
      ],
      "text/plain": [
       "                                             Mask_file  \\\n",
       "48   /mnt/proj3/fta-24-12/inputs-2020-07/BF-C2DL-HS...   \n",
       "49   /mnt/proj3/fta-24-12/inputs-2020-07/BF-C2DL-HS...   \n",
       "50   /mnt/proj3/fta-24-12/inputs-2020-07/BF-C2DL-HS...   \n",
       "51   /mnt/proj3/fta-24-12/inputs-2020-07/BF-C2DL-HS...   \n",
       "52   /mnt/proj3/fta-24-12/inputs-2020-07/BF-C2DL-HS...   \n",
       "..                                                 ...   \n",
       "148  /mnt/proj3/fta-24-12/inputs-2020-07/BF-C2DL-HS...   \n",
       "149  /mnt/proj3/fta-24-12/inputs-2020-07/BF-C2DL-HS...   \n",
       "150  /mnt/proj3/fta-24-12/inputs-2020-07/BF-C2DL-HS...   \n",
       "151  /mnt/proj3/fta-24-12/inputs-2020-07/BF-C2DL-HS...   \n",
       "152  /mnt/proj3/fta-24-12/inputs-2020-07/BF-C2DL-HS...   \n",
       "\n",
       "                                        Gt_source_file  \\\n",
       "48   /mnt/proj3/fta-24-12/inputs-2020-07/BF-C2DL-HS...   \n",
       "49   /mnt/proj3/fta-24-12/inputs-2020-07/BF-C2DL-HS...   \n",
       "50   /mnt/proj3/fta-24-12/inputs-2020-07/BF-C2DL-HS...   \n",
       "51   /mnt/proj3/fta-24-12/inputs-2020-07/BF-C2DL-HS...   \n",
       "52   /mnt/proj3/fta-24-12/inputs-2020-07/BF-C2DL-HS...   \n",
       "..                                                 ...   \n",
       "148  /mnt/proj3/fta-24-12/inputs-2020-07/BF-C2DL-HS...   \n",
       "149  /mnt/proj3/fta-24-12/inputs-2020-07/BF-C2DL-HS...   \n",
       "150  /mnt/proj3/fta-24-12/inputs-2020-07/BF-C2DL-HS...   \n",
       "151  /mnt/proj3/fta-24-12/inputs-2020-07/BF-C2DL-HS...   \n",
       "152  /mnt/proj3/fta-24-12/inputs-2020-07/BF-C2DL-HS...   \n",
       "\n",
       "                                          Gt_mask_file  Label   J_value  \n",
       "48   /mnt/proj3/fta-24-12/inputs-2020-07/BF-C2DL-HS...      1  0.268405  \n",
       "49   /mnt/proj3/fta-24-12/inputs-2020-07/BF-C2DL-HS...      2  0.862687  \n",
       "50   /mnt/proj3/fta-24-12/inputs-2020-07/BF-C2DL-HS...      3  0.774580  \n",
       "51   /mnt/proj3/fta-24-12/inputs-2020-07/BF-C2DL-HS...      4  0.851852  \n",
       "52   /mnt/proj3/fta-24-12/inputs-2020-07/BF-C2DL-HS...      5  0.867403  \n",
       "..                                                 ...    ...       ...  \n",
       "148  /mnt/proj3/fta-24-12/inputs-2020-07/BF-C2DL-HS...    101  0.865942  \n",
       "149  /mnt/proj3/fta-24-12/inputs-2020-07/BF-C2DL-HS...    102  0.708475  \n",
       "150  /mnt/proj3/fta-24-12/inputs-2020-07/BF-C2DL-HS...    103  0.705357  \n",
       "151  /mnt/proj3/fta-24-12/inputs-2020-07/BF-C2DL-HS...    104  0.722488  \n",
       "152  /mnt/proj3/fta-24-12/inputs-2020-07/BF-C2DL-HS...    105  0.727273  \n",
       "\n",
       "[105 rows x 5 columns]"
      ]
     },
     "execution_count": 246,
     "metadata": {},
     "output_type": "execute_result"
    }
   ],
   "source": [
    "karolina_dataset[karolina_dataset.Mask_file == '/mnt/proj3/fta-24-12/inputs-2020-07/BF-C2DL-HSC/KIT-Sch-GE/02_RES/mask1585.tif']"
   ]
  },
  {
   "cell_type": "code",
   "execution_count": 181,
   "id": "88a921c9-a410-482e-9462-740114c0bd33",
   "metadata": {},
   "outputs": [
    {
     "data": {
      "text/plain": [
       "(array([ 523,  760,  844,  895,  899,  933,  936,  968,  992,  995, 1006,\n",
       "        1011, 1025, 1030, 1032, 1033, 1040, 1045, 1052, 1062, 1063, 1065,\n",
       "        1068, 1069, 1090, 1100, 1101, 1104, 1108, 1113, 1119, 1120, 1121,\n",
       "        1126, 1132, 1138, 1139, 1143, 1147, 1150, 1155, 1156, 1157, 1159,\n",
       "        1164, 1165, 1167, 1170, 1171, 1172, 1174, 1175, 1176, 1178, 1180,\n",
       "        1182, 1183, 1184, 1185, 1188, 1190, 1191, 1193, 1195, 1200, 1201,\n",
       "        1203, 1205, 1206, 1210, 1211, 1214, 1215, 1219, 1220, 1221, 1222,\n",
       "        1223, 1226, 1227, 1228, 1229, 1230, 1232, 1233, 1234, 1235, 1236,\n",
       "        1237, 1241, 1242, 1243, 1244, 1245, 1246, 1247, 1249, 1250, 1251,\n",
       "        1252, 1253, 1254, 1255, 1256], dtype=uint16),\n",
       " array([1, 1, 1, 1, 1, 1, 1, 1, 1, 1, 1, 1, 2, 1, 1, 1, 1, 1, 1, 1, 1, 1,\n",
       "        1, 1, 1, 1, 1, 1, 1, 1, 1, 1, 1, 1, 1, 1, 1, 1, 1, 1, 1, 1, 1, 1,\n",
       "        1, 1, 1, 1, 1, 1, 1, 1, 1, 1, 1, 1, 1, 1, 1, 1, 1, 1, 1, 1, 1, 1,\n",
       "        1, 1, 1, 1, 1, 1, 1, 1, 1, 1, 1, 1, 1, 1, 1, 1, 1, 1, 1, 1, 1, 1,\n",
       "        1, 1, 1, 1, 1, 1, 1, 1, 1, 1, 1, 1, 1, 1, 1, 1]))"
      ]
     },
     "execution_count": 181,
     "metadata": {},
     "output_type": "execute_result"
    }
   ],
   "source": [
    "np.unique(second_values, return_counts=True)"
   ]
  },
  {
   "cell_type": "code",
   "execution_count": 98,
   "id": "0f941fa4-1b9d-42db-b208-23a347662174",
   "metadata": {},
   "outputs": [
    {
     "data": {
      "text/plain": [
       "array([ 158,  523,  760,  844,  895,  899,  933,  936,  968,  992,  995,\n",
       "       1006, 1011, 1025, 1025, 1030, 1032, 1033, 1040, 1045, 1052, 1062,\n",
       "       1063, 1065, 1068, 1069, 1090, 1100, 1101, 1104, 1108, 1113, 1119,\n",
       "       1120, 1121, 1126, 1132, 1138, 1139, 1143, 1147, 1150, 1155, 1156,\n",
       "       1157, 1159, 1164, 1165, 1167, 1170, 1171, 1172, 1174, 1175, 1176,\n",
       "       1178, 1180, 1182, 1183, 1184, 1185, 1188, 1190, 1191, 1193, 1195,\n",
       "       1200, 1201, 1203, 1205, 1206, 1210, 1211, 1214, 1215, 1219, 1220,\n",
       "       1221, 1222, 1223, 1226, 1227, 1228, 1229, 1230, 1232, 1233, 1234,\n",
       "       1235, 1236, 1237, 1241, 1242, 1243, 1244, 1245, 1246, 1247, 1249,\n",
       "       1250, 1251, 1252, 1253, 1254, 1255, 1256], dtype=uint16)"
      ]
     },
     "execution_count": 98,
     "metadata": {},
     "output_type": "execute_result"
    }
   ],
   "source": [
    "np.sort(used_labels_check)"
   ]
  },
  {
   "cell_type": "code",
   "execution_count": null,
   "id": "8469f6a9-cfcb-400e-973d-2cedd06199a1",
   "metadata": {},
   "outputs": [],
   "source": [
    "random_ = tifffile.imread('inputs-2020-07/BF-C2DL-HSC/KTH-SE (5)/02_RES/mask1585.tif')"
   ]
  },
  {
   "cell_type": "code",
   "execution_count": null,
   "id": "dcf837d3-7120-44f6-b70e-e6e272c3a8ae",
   "metadata": {},
   "outputs": [],
   "source": []
  },
  {
   "cell_type": "code",
   "execution_count": 476,
   "id": "7c3c4f07-43e3-4c9c-98c2-ee829143e72a",
   "metadata": {},
   "outputs": [],
   "source": [
    "dataset_df.to_csv('dataset.csv')"
   ]
  },
  {
   "cell_type": "code",
   "execution_count": 5,
   "id": "08261506-f567-4fd9-a686-3f27ea1c4778",
   "metadata": {},
   "outputs": [],
   "source": [
    "dataset_df_path = Path(\"dataset.csv\")\n",
    "merged_images_out_dir = Path(\"path/to/your/output/directory\")"
   ]
  },
  {
   "cell_type": "code",
   "execution_count": null,
   "id": "a04618d2-4db5-4fd1-b938-fc324b21a8e0",
   "metadata": {},
   "outputs": [],
   "source": [
    "preprocess_dataset(dataset_df_path, 'test_out_claude')"
   ]
  },
  {
   "cell_type": "code",
   "execution_count": 229,
   "id": "e2cb6e61-3596-4f35-a89e-b3aafe68ef73",
   "metadata": {},
   "outputs": [],
   "source": [
    "problem_label = tifffile.imread('inputs-2020-07/BF-C2DL-HSC/KIT-Sch-GE/02_RES/mask1585.tif')"
   ]
  },
  {
   "cell_type": "code",
   "execution_count": 224,
   "id": "229809e5-536f-4602-9d11-a8ca1a6f6b3c",
   "metadata": {},
   "outputs": [
    {
     "data": {
      "text/html": [
       "<div>\n",
       "<style scoped>\n",
       "    .dataframe tbody tr th:only-of-type {\n",
       "        vertical-align: middle;\n",
       "    }\n",
       "\n",
       "    .dataframe tbody tr th {\n",
       "        vertical-align: top;\n",
       "    }\n",
       "\n",
       "    .dataframe thead th {\n",
       "        text-align: right;\n",
       "    }\n",
       "</style>\n",
       "<table border=\"1\" class=\"dataframe\">\n",
       "  <thead>\n",
       "    <tr style=\"text-align: right;\">\n",
       "      <th></th>\n",
       "      <th>Unnamed: 0</th>\n",
       "      <th>Mask_file</th>\n",
       "      <th>Gt_source_file</th>\n",
       "      <th>Gt_mask_file</th>\n",
       "      <th>Label</th>\n",
       "      <th>J_value</th>\n",
       "      <th>merged_image_path</th>\n",
       "    </tr>\n",
       "  </thead>\n",
       "  <tbody>\n",
       "    <tr>\n",
       "      <th>2304</th>\n",
       "      <td>48</td>\n",
       "      <td>inputs-2020-07/BF-C2DL-HSC/KIT-Sch-GE/02_RES/m...</td>\n",
       "      <td>inputs-2020-07/BF-C2DL-HSC/02/t1585.tif</td>\n",
       "      <td>inputs-2020-07/BF-C2DL-HSC/02_GT/SEG/man_seg15...</td>\n",
       "      <td>1</td>\n",
       "      <td>0.268405</td>\n",
       "      <td>test_out/inputs-2020-07/BF-C2DL-HSC/KIT-Sch-GE...</td>\n",
       "    </tr>\n",
       "    <tr>\n",
       "      <th>2305</th>\n",
       "      <td>49</td>\n",
       "      <td>inputs-2020-07/BF-C2DL-HSC/KIT-Sch-GE/02_RES/m...</td>\n",
       "      <td>inputs-2020-07/BF-C2DL-HSC/02/t1585.tif</td>\n",
       "      <td>inputs-2020-07/BF-C2DL-HSC/02_GT/SEG/man_seg15...</td>\n",
       "      <td>2</td>\n",
       "      <td>0.862687</td>\n",
       "      <td>test_out/inputs-2020-07/BF-C2DL-HSC/KIT-Sch-GE...</td>\n",
       "    </tr>\n",
       "    <tr>\n",
       "      <th>2306</th>\n",
       "      <td>50</td>\n",
       "      <td>inputs-2020-07/BF-C2DL-HSC/KIT-Sch-GE/02_RES/m...</td>\n",
       "      <td>inputs-2020-07/BF-C2DL-HSC/02/t1585.tif</td>\n",
       "      <td>inputs-2020-07/BF-C2DL-HSC/02_GT/SEG/man_seg15...</td>\n",
       "      <td>3</td>\n",
       "      <td>0.774580</td>\n",
       "      <td>test_out/inputs-2020-07/BF-C2DL-HSC/KIT-Sch-GE...</td>\n",
       "    </tr>\n",
       "    <tr>\n",
       "      <th>2307</th>\n",
       "      <td>51</td>\n",
       "      <td>inputs-2020-07/BF-C2DL-HSC/KIT-Sch-GE/02_RES/m...</td>\n",
       "      <td>inputs-2020-07/BF-C2DL-HSC/02/t1585.tif</td>\n",
       "      <td>inputs-2020-07/BF-C2DL-HSC/02_GT/SEG/man_seg15...</td>\n",
       "      <td>4</td>\n",
       "      <td>0.851852</td>\n",
       "      <td>test_out/inputs-2020-07/BF-C2DL-HSC/KIT-Sch-GE...</td>\n",
       "    </tr>\n",
       "    <tr>\n",
       "      <th>2308</th>\n",
       "      <td>52</td>\n",
       "      <td>inputs-2020-07/BF-C2DL-HSC/KIT-Sch-GE/02_RES/m...</td>\n",
       "      <td>inputs-2020-07/BF-C2DL-HSC/02/t1585.tif</td>\n",
       "      <td>inputs-2020-07/BF-C2DL-HSC/02_GT/SEG/man_seg15...</td>\n",
       "      <td>5</td>\n",
       "      <td>0.867403</td>\n",
       "      <td>test_out/inputs-2020-07/BF-C2DL-HSC/KIT-Sch-GE...</td>\n",
       "    </tr>\n",
       "    <tr>\n",
       "      <th>...</th>\n",
       "      <td>...</td>\n",
       "      <td>...</td>\n",
       "      <td>...</td>\n",
       "      <td>...</td>\n",
       "      <td>...</td>\n",
       "      <td>...</td>\n",
       "      <td>...</td>\n",
       "    </tr>\n",
       "    <tr>\n",
       "      <th>2404</th>\n",
       "      <td>148</td>\n",
       "      <td>inputs-2020-07/BF-C2DL-HSC/KIT-Sch-GE/02_RES/m...</td>\n",
       "      <td>inputs-2020-07/BF-C2DL-HSC/02/t1585.tif</td>\n",
       "      <td>inputs-2020-07/BF-C2DL-HSC/02_GT/SEG/man_seg15...</td>\n",
       "      <td>101</td>\n",
       "      <td>0.865942</td>\n",
       "      <td>test_out/inputs-2020-07/BF-C2DL-HSC/KIT-Sch-GE...</td>\n",
       "    </tr>\n",
       "    <tr>\n",
       "      <th>2405</th>\n",
       "      <td>149</td>\n",
       "      <td>inputs-2020-07/BF-C2DL-HSC/KIT-Sch-GE/02_RES/m...</td>\n",
       "      <td>inputs-2020-07/BF-C2DL-HSC/02/t1585.tif</td>\n",
       "      <td>inputs-2020-07/BF-C2DL-HSC/02_GT/SEG/man_seg15...</td>\n",
       "      <td>102</td>\n",
       "      <td>0.708475</td>\n",
       "      <td>test_out/inputs-2020-07/BF-C2DL-HSC/KIT-Sch-GE...</td>\n",
       "    </tr>\n",
       "    <tr>\n",
       "      <th>2406</th>\n",
       "      <td>150</td>\n",
       "      <td>inputs-2020-07/BF-C2DL-HSC/KIT-Sch-GE/02_RES/m...</td>\n",
       "      <td>inputs-2020-07/BF-C2DL-HSC/02/t1585.tif</td>\n",
       "      <td>inputs-2020-07/BF-C2DL-HSC/02_GT/SEG/man_seg15...</td>\n",
       "      <td>103</td>\n",
       "      <td>0.705357</td>\n",
       "      <td>test_out/inputs-2020-07/BF-C2DL-HSC/KIT-Sch-GE...</td>\n",
       "    </tr>\n",
       "    <tr>\n",
       "      <th>2407</th>\n",
       "      <td>151</td>\n",
       "      <td>inputs-2020-07/BF-C2DL-HSC/KIT-Sch-GE/02_RES/m...</td>\n",
       "      <td>inputs-2020-07/BF-C2DL-HSC/02/t1585.tif</td>\n",
       "      <td>inputs-2020-07/BF-C2DL-HSC/02_GT/SEG/man_seg15...</td>\n",
       "      <td>104</td>\n",
       "      <td>0.722488</td>\n",
       "      <td>test_out/inputs-2020-07/BF-C2DL-HSC/KIT-Sch-GE...</td>\n",
       "    </tr>\n",
       "    <tr>\n",
       "      <th>2408</th>\n",
       "      <td>152</td>\n",
       "      <td>inputs-2020-07/BF-C2DL-HSC/KIT-Sch-GE/02_RES/m...</td>\n",
       "      <td>inputs-2020-07/BF-C2DL-HSC/02/t1585.tif</td>\n",
       "      <td>inputs-2020-07/BF-C2DL-HSC/02_GT/SEG/man_seg15...</td>\n",
       "      <td>105</td>\n",
       "      <td>0.727273</td>\n",
       "      <td>test_out/inputs-2020-07/BF-C2DL-HSC/KIT-Sch-GE...</td>\n",
       "    </tr>\n",
       "  </tbody>\n",
       "</table>\n",
       "<p>105 rows × 7 columns</p>\n",
       "</div>"
      ],
      "text/plain": [
       "      Unnamed: 0                                          Mask_file  \\\n",
       "2304          48  inputs-2020-07/BF-C2DL-HSC/KIT-Sch-GE/02_RES/m...   \n",
       "2305          49  inputs-2020-07/BF-C2DL-HSC/KIT-Sch-GE/02_RES/m...   \n",
       "2306          50  inputs-2020-07/BF-C2DL-HSC/KIT-Sch-GE/02_RES/m...   \n",
       "2307          51  inputs-2020-07/BF-C2DL-HSC/KIT-Sch-GE/02_RES/m...   \n",
       "2308          52  inputs-2020-07/BF-C2DL-HSC/KIT-Sch-GE/02_RES/m...   \n",
       "...          ...                                                ...   \n",
       "2404         148  inputs-2020-07/BF-C2DL-HSC/KIT-Sch-GE/02_RES/m...   \n",
       "2405         149  inputs-2020-07/BF-C2DL-HSC/KIT-Sch-GE/02_RES/m...   \n",
       "2406         150  inputs-2020-07/BF-C2DL-HSC/KIT-Sch-GE/02_RES/m...   \n",
       "2407         151  inputs-2020-07/BF-C2DL-HSC/KIT-Sch-GE/02_RES/m...   \n",
       "2408         152  inputs-2020-07/BF-C2DL-HSC/KIT-Sch-GE/02_RES/m...   \n",
       "\n",
       "                               Gt_source_file  \\\n",
       "2304  inputs-2020-07/BF-C2DL-HSC/02/t1585.tif   \n",
       "2305  inputs-2020-07/BF-C2DL-HSC/02/t1585.tif   \n",
       "2306  inputs-2020-07/BF-C2DL-HSC/02/t1585.tif   \n",
       "2307  inputs-2020-07/BF-C2DL-HSC/02/t1585.tif   \n",
       "2308  inputs-2020-07/BF-C2DL-HSC/02/t1585.tif   \n",
       "...                                       ...   \n",
       "2404  inputs-2020-07/BF-C2DL-HSC/02/t1585.tif   \n",
       "2405  inputs-2020-07/BF-C2DL-HSC/02/t1585.tif   \n",
       "2406  inputs-2020-07/BF-C2DL-HSC/02/t1585.tif   \n",
       "2407  inputs-2020-07/BF-C2DL-HSC/02/t1585.tif   \n",
       "2408  inputs-2020-07/BF-C2DL-HSC/02/t1585.tif   \n",
       "\n",
       "                                           Gt_mask_file  Label   J_value  \\\n",
       "2304  inputs-2020-07/BF-C2DL-HSC/02_GT/SEG/man_seg15...      1  0.268405   \n",
       "2305  inputs-2020-07/BF-C2DL-HSC/02_GT/SEG/man_seg15...      2  0.862687   \n",
       "2306  inputs-2020-07/BF-C2DL-HSC/02_GT/SEG/man_seg15...      3  0.774580   \n",
       "2307  inputs-2020-07/BF-C2DL-HSC/02_GT/SEG/man_seg15...      4  0.851852   \n",
       "2308  inputs-2020-07/BF-C2DL-HSC/02_GT/SEG/man_seg15...      5  0.867403   \n",
       "...                                                 ...    ...       ...   \n",
       "2404  inputs-2020-07/BF-C2DL-HSC/02_GT/SEG/man_seg15...    101  0.865942   \n",
       "2405  inputs-2020-07/BF-C2DL-HSC/02_GT/SEG/man_seg15...    102  0.708475   \n",
       "2406  inputs-2020-07/BF-C2DL-HSC/02_GT/SEG/man_seg15...    103  0.705357   \n",
       "2407  inputs-2020-07/BF-C2DL-HSC/02_GT/SEG/man_seg15...    104  0.722488   \n",
       "2408  inputs-2020-07/BF-C2DL-HSC/02_GT/SEG/man_seg15...    105  0.727273   \n",
       "\n",
       "                                      merged_image_path  \n",
       "2304  test_out/inputs-2020-07/BF-C2DL-HSC/KIT-Sch-GE...  \n",
       "2305  test_out/inputs-2020-07/BF-C2DL-HSC/KIT-Sch-GE...  \n",
       "2306  test_out/inputs-2020-07/BF-C2DL-HSC/KIT-Sch-GE...  \n",
       "2307  test_out/inputs-2020-07/BF-C2DL-HSC/KIT-Sch-GE...  \n",
       "2308  test_out/inputs-2020-07/BF-C2DL-HSC/KIT-Sch-GE...  \n",
       "...                                                 ...  \n",
       "2404  test_out/inputs-2020-07/BF-C2DL-HSC/KIT-Sch-GE...  \n",
       "2405  test_out/inputs-2020-07/BF-C2DL-HSC/KIT-Sch-GE...  \n",
       "2406  test_out/inputs-2020-07/BF-C2DL-HSC/KIT-Sch-GE...  \n",
       "2407  test_out/inputs-2020-07/BF-C2DL-HSC/KIT-Sch-GE...  \n",
       "2408  test_out/inputs-2020-07/BF-C2DL-HSC/KIT-Sch-GE...  \n",
       "\n",
       "[105 rows x 7 columns]"
      ]
     },
     "execution_count": 224,
     "metadata": {},
     "output_type": "execute_result"
    }
   ],
   "source": [
    "dataset_df[dataset_df.Mask_file == 'inputs-2020-07/BF-C2DL-HSC/KIT-Sch-GE/02_RES/mask1585.tif']"
   ]
  },
  {
   "cell_type": "code",
   "execution_count": 222,
   "id": "a53b4c04-7dba-432e-aed1-63026e78c031",
   "metadata": {},
   "outputs": [
    {
     "data": {
      "text/plain": [
       "array([  0,   5,   8,  16,  18,  19,  25,  28,  33,  34,  35,  36,  37,\n",
       "        39,  42,  43,  44,  45,  46,  47,  48,  49,  50,  51,  52,  53,\n",
       "        54,  55,  58,  60,  61,  62,  63,  64,  65,  66,  67,  68,  72,\n",
       "        75,  76,  79,  80,  82,  83,  84,  86,  87,  88,  90,  92,  94,\n",
       "        95,  97,  98,  99, 100, 101, 102, 103, 105, 106, 107, 108, 109,\n",
       "       110, 112, 113, 114, 115, 116, 117, 118, 119, 121, 122, 123, 125,\n",
       "       126, 127, 128, 129, 130, 131, 132, 133, 134, 135, 137, 138, 139,\n",
       "       140, 141, 142, 143, 144, 145, 146, 147, 148, 149, 150, 151, 152,\n",
       "       153], dtype=uint16)"
      ]
     },
     "execution_count": 222,
     "metadata": {},
     "output_type": "execute_result"
    }
   ],
   "source": [
    "np.unique(problem_label)"
   ]
  },
  {
   "cell_type": "code",
   "execution_count": 152,
   "id": "17d6f8a0-654f-4d5c-9ed2-ce035f1ea214",
   "metadata": {},
   "outputs": [
    {
     "data": {
      "text/plain": [
       "np.uint16(1254)"
      ]
     },
     "execution_count": 152,
     "metadata": {},
     "output_type": "execute_result"
    }
   ],
   "source": [
    "used_labels_check[2]"
   ]
  },
  {
   "cell_type": "code",
   "execution_count": 148,
   "id": "5a23e6ca-1045-47e6-b0e4-1a5d7a76edb2",
   "metadata": {},
   "outputs": [
    {
     "data": {
      "text/plain": [
       "np.uint16(1032)"
      ]
     },
     "execution_count": 148,
     "metadata": {},
     "output_type": "execute_result"
    }
   ],
   "source": [
    "used_labels_check[20]"
   ]
  },
  {
   "cell_type": "code",
   "execution_count": 205,
   "id": "7d505789-ed1e-4095-9b7b-f2aa87e82134",
   "metadata": {},
   "outputs": [],
   "source": [
    "problem_label_mask = problem_label == 1025"
   ]
  },
  {
   "cell_type": "code",
   "execution_count": 109,
   "id": "c169475f-f36a-44c5-8cea-3a1774b286be",
   "metadata": {},
   "outputs": [
    {
     "data": {
      "text/plain": [
       "array([[0, 0, 0, ..., 0, 0, 0],\n",
       "       [0, 0, 0, ..., 0, 0, 0],\n",
       "       [0, 0, 0, ..., 0, 0, 0],\n",
       "       ...,\n",
       "       [0, 0, 0, ..., 0, 0, 0],\n",
       "       [0, 0, 0, ..., 0, 0, 0],\n",
       "       [0, 0, 0, ..., 0, 0, 0]], dtype=uint8)"
      ]
     },
     "execution_count": 109,
     "metadata": {},
     "output_type": "execute_result"
    }
   ],
   "source": [
    "problem_label_mask.astype(np.uint8)"
   ]
  },
  {
   "cell_type": "code",
   "execution_count": 112,
   "id": "2a106b2d-a182-480b-a359-4bb4a1a05543",
   "metadata": {},
   "outputs": [
    {
     "data": {
      "text/plain": [
       "array([False])"
      ]
     },
     "execution_count": 112,
     "metadata": {},
     "output_type": "execute_result"
    }
   ],
   "source": [
    "np.unique(problem_label_mask)"
   ]
  },
  {
   "cell_type": "code",
   "execution_count": 100,
   "id": "57ad0b36-759e-4533-8342-c12789ea0528",
   "metadata": {},
   "outputs": [],
   "source": [
    "problem_gt = tifffile.imread('inputs-2020-07/BF-C2DL-HSC/02_GT/SEG/man_seg1585.tif')"
   ]
  },
  {
   "cell_type": "code",
   "execution_count": 101,
   "id": "12e5021e-26a8-4646-8791-19d310e44fe4",
   "metadata": {},
   "outputs": [
    {
     "data": {
      "text/plain": [
       "array([[0, 0, 0, ..., 0, 0, 0],\n",
       "       [0, 0, 0, ..., 0, 0, 0],\n",
       "       [0, 0, 0, ..., 0, 0, 0],\n",
       "       ...,\n",
       "       [0, 0, 0, ..., 0, 0, 0],\n",
       "       [0, 0, 0, ..., 0, 0, 0],\n",
       "       [0, 0, 0, ..., 0, 0, 0]], dtype=uint16)"
      ]
     },
     "execution_count": 101,
     "metadata": {},
     "output_type": "execute_result"
    }
   ],
   "source": [
    "problem_label"
   ]
  },
  {
   "cell_type": "code",
   "execution_count": 262,
   "id": "a0d70aa7-1926-47b3-8a29-75869907a592",
   "metadata": {},
   "outputs": [],
   "source": [
    "first_problem_gt_label = problem_gt == 1"
   ]
  },
  {
   "cell_type": "code",
   "execution_count": 263,
   "id": "8cf28b03-dd10-4ebe-8401-b21852d53275",
   "metadata": {},
   "outputs": [
    {
     "data": {
      "text/plain": [
       "<matplotlib.image.AxesImage at 0x7c787284b090>"
      ]
     },
     "execution_count": 263,
     "metadata": {},
     "output_type": "execute_result"
    },
    {
     "data": {
      "image/png": "[encoded data removed]",
      "text/plain": [
       "<Figure size 640x480 with 1 Axes>"
      ]
     },
     "metadata": {},
     "output_type": "display_data"
    }
   ],
   "source": [
    "plt.imshow(first_problem_gt_label)"
   ]
  },
  {
   "cell_type": "code",
   "execution_count": 264,
   "id": "4a748e5d-2a0c-41f5-a3e4-3ba416ed7c5b",
   "metadata": {},
   "outputs": [],
   "source": [
    "second_problem_gt_label = problem_gt == 97"
   ]
  },
  {
   "cell_type": "code",
   "execution_count": 265,
   "id": "97de5410-4963-442e-b8df-ed1ede06a724",
   "metadata": {},
   "outputs": [
    {
     "data": {
      "text/plain": [
       "<matplotlib.image.AxesImage at 0x7c7872621d50>"
      ]
     },
     "execution_count": 265,
     "metadata": {},
     "output_type": "execute_result"
    },
    {
     "data": {
      "image/png": "[encoded data removed]",
      "text/plain": [
       "<Figure size 640x480 with 1 Axes>"
      ]
     },
     "metadata": {},
     "output_type": "display_data"
    }
   ],
   "source": [
    "plt.imshow(second_problem_gt_label)"
   ]
  },
  {
   "cell_type": "code",
   "execution_count": 266,
   "id": "3cc0699d-0347-4d34-ae0d-50ed19092039",
   "metadata": {},
   "outputs": [],
   "source": [
    "problem_label_mask = problem_label == 150\n"
   ]
  },
  {
   "cell_type": "code",
   "execution_count": 267,
   "id": "4c261618-aded-4432-9b97-5af9d77f756a",
   "metadata": {},
   "outputs": [
    {
     "data": {
      "text/plain": [
       "<matplotlib.image.AxesImage at 0x7c7872694890>"
      ]
     },
     "execution_count": 267,
     "metadata": {},
     "output_type": "execute_result"
    },
    {
     "data": {
      "image/png": "[encoded data removed]",
      "text/plain": [
       "<Figure size 640x480 with 1 Axes>"
      ]
     },
     "metadata": {},
     "output_type": "display_data"
    }
   ],
   "source": [
    "plt.imshow(problem_label_mask)"
   ]
  },
  {
   "cell_type": "code",
   "execution_count": null,
   "id": "7a5f0c18-79ee-4cea-bd5c-fc1056fe43c3",
   "metadata": {},
   "outputs": [],
   "source": []
  },
  {
   "cell_type": "code",
   "execution_count": 258,
   "id": "ba4ff03b-d680-4f00-b912-4c0d169ef845",
   "metadata": {},
   "outputs": [
    {
     "data": {
      "text/plain": [
       "<matplotlib.image.AxesImage at 0x7c7872b8d190>"
      ]
     },
     "execution_count": 258,
     "metadata": {},
     "output_type": "execute_result"
    },
    {
     "data": {
      "image/png": "[encoded data removed]",
      "text/plain": [
       "<Figure size 640x480 with 1 Axes>"
      ]
     },
     "metadata": {},
     "output_type": "display_data"
    }
   ],
   "source": [
    "plt.imshow(problem_label)"
   ]
  },
  {
   "cell_type": "code",
   "execution_count": 261,
   "id": "b33b5520-1e3e-4711-b35d-d0205cc8acf7",
   "metadata": {},
   "outputs": [
    {
     "data": {
      "text/plain": [
       "<matplotlib.image.AxesImage at 0x7c78727fae90>"
      ]
     },
     "execution_count": 261,
     "metadata": {},
     "output_type": "execute_result"
    },
    {
     "data": {
      "image/png": "[encoded data removed]",
      "text/plain": [
       "<Figure size 640x480 with 1 Axes>"
      ]
     },
     "metadata": {},
     "output_type": "display_data"
    }
   ],
   "source": [
    "plt.imshow(problem_gt)"
   ]
  },
  {
   "cell_type": "code",
   "execution_count": null,
   "id": "313300b4-45a4-45c5-bb6e-f247f7e7a8bd",
   "metadata": {},
   "outputs": [],
   "source": [
    "plt.imshow(second_problem_gt_label)"
   ]
  },
  {
   "cell_type": "code",
   "execution_count": 268,
   "id": "f28788f1-258b-4a87-b782-447bb3809b1d",
   "metadata": {},
   "outputs": [
    {
     "data": {
      "text/plain": [
       "np.float64(0.2684049079754601)"
      ]
     },
     "execution_count": 268,
     "metadata": {},
     "output_type": "execute_result"
    }
   ],
   "source": [
    "jaccard_score(first_problem_gt_label, problem_label_mask, average=\"micro\")"
   ]
  },
  {
   "cell_type": "code",
   "execution_count": 269,
   "id": "82513628-3766-4616-ac8c-54b4b6d8256e",
   "metadata": {},
   "outputs": [
    {
     "data": {
      "text/plain": [
       "np.float64(0.45129224652087474)"
      ]
     },
     "execution_count": 269,
     "metadata": {},
     "output_type": "execute_result"
    }
   ],
   "source": [
    "jaccard_score(second_problem_gt_label, problem_label_mask, average=\"micro\")"
   ]
  },
  {
   "cell_type": "code",
   "execution_count": null,
   "id": "774f8191-92c3-43ea-a451-3a19ef57f6cb",
   "metadata": {},
   "outputs": [],
   "source": [
    "plt.imshow(problem_label_mask)"
   ]
  },
  {
   "cell_type": "code",
   "execution_count": null,
   "id": "c6d5563a-7e63-4d7a-9cec-d62f37561fbf",
   "metadata": {},
   "outputs": [],
   "source": []
  },
  {
   "cell_type": "code",
   "execution_count": 135,
   "id": "c58c2a3c-4b09-4a60-b93e-4f31950cb124",
   "metadata": {},
   "outputs": [
    {
     "data": {
      "text/plain": [
       "<matplotlib.image.AxesImage at 0x7c78755a8d50>"
      ]
     },
     "execution_count": 135,
     "metadata": {},
     "output_type": "execute_result"
    },
    {
     "data": {
      "image/png": "[encoded data removed]",
      "text/plain": [
       "<Figure size 640x480 with 1 Axes>"
      ]
     },
     "metadata": {},
     "output_type": "display_data"
    }
   ],
   "source": [
    "plt.imshow(problem_label_mask.astype(np.uint8)*255, cmap='gray')"
   ]
  },
  {
   "cell_type": "code",
   "execution_count": 330,
   "id": "42f8964e-30d8-4f8f-92f6-8abac19f4ec4",
   "metadata": {},
   "outputs": [
    {
     "name": "stdout",
     "output_type": "stream",
     "text": [
      "0.001524\n",
      "0.001524\n",
      "0.913043\n"
     ]
    },
    {
     "data": {
      "text/plain": [
       "array([[False, False, False, ..., False, False, False],\n",
       "       [False, False, False, ..., False, False, False],\n",
       "       [False, False, False, ..., False, False, False],\n",
       "       ...,\n",
       "       [False, False, False, ..., False, False, False],\n",
       "       [False, False, False, ..., False, False, False],\n",
       "       [False, False, False, ..., False, False, False]])"
      ]
     },
     "execution_count": 330,
     "metadata": {},
     "output_type": "execute_result"
    }
   ],
   "source": [
    "label = 1\n",
    "gt_mask = problem_gt == label\n",
    "get_label_mask(problem_label, gt_mask, label, 0.913043)"
   ]
  },
  {
   "cell_type": "code",
   "execution_count": 362,
   "id": "c6f2c2f9-0fa3-4558-aed6-b34a091b2faa",
   "metadata": {},
   "outputs": [
    {
     "data": {
      "text/plain": [
       "array([[<Axes: title={'center': 'J_value'}>]], dtype=object)"
      ]
     },
     "execution_count": 362,
     "metadata": {},
     "output_type": "execute_result"
    },
    {
     "data": {
      "image/png": "[encoded data removed]",
      "text/plain": [
       "<Figure size 640x480 with 1 Axes>"
      ]
     },
     "metadata": {},
     "output_type": "display_data"
    }
   ],
   "source": [
    "dataset_df.hist('J_value')"
   ]
  },
  {
   "cell_type": "code",
   "execution_count": 349,
   "id": "13becf54-6063-4282-bf4f-8a5245217664",
   "metadata": {},
   "outputs": [
    {
     "data": {
      "text/plain": [
       "array([  0,   1,   2,   3,   4,   5,   6,   7,   8,   9,  10,  11,  12,\n",
       "        13,  14,  15,  16,  17,  18,  19,  20,  21,  22,  23,  24,  25,\n",
       "        26,  27,  28,  29,  30,  31,  32,  33,  34,  35,  36,  37,  38,\n",
       "        39,  40,  41,  42,  43,  44,  45,  46,  47,  48,  49,  50,  51,\n",
       "        52,  53,  54,  55,  56,  57,  58,  59,  60,  61,  62,  63,  64,\n",
       "        65,  66,  67,  68,  69,  70,  71,  72,  73,  74,  75,  76,  77,\n",
       "        78,  79,  80,  81,  82,  83,  84,  85,  86,  87,  88,  89,  90,\n",
       "        91,  92,  93,  94,  95,  96,  97,  98,  99, 100, 101, 102, 103,\n",
       "       104, 105], dtype=uint16)"
      ]
     },
     "execution_count": 349,
     "metadata": {},
     "output_type": "execute_result"
    }
   ],
   "source": [
    "np.unique(problem_gt)"
   ]
  },
  {
   "cell_type": "code",
   "execution_count": 350,
   "id": "0354a739-710b-44f1-a9e2-ac3dd7989ced",
   "metadata": {},
   "outputs": [
    {
     "data": {
      "text/plain": [
       "array([  0,  31,  39,  43,  47,  49,  50,  53,  55,  57,  65,  66,  71,\n",
       "        75,  77,  83,  87,  89,  90,  93,  94,  95,  97,  98,  99, 105,\n",
       "       107, 109, 111, 113, 115, 117, 119, 123, 124, 125, 126, 127, 129,\n",
       "       133, 134, 135, 137, 138, 139, 140, 141, 143, 144, 145, 146, 147,\n",
       "       149, 151, 152, 153, 155, 156, 157, 159, 160, 161, 162, 163, 164,\n",
       "       165, 166, 167, 169, 170, 171, 172, 173, 174, 175, 176, 177, 178,\n",
       "       179, 180, 181, 182, 183, 184, 185, 186, 187, 188, 189, 190, 191,\n",
       "       193, 194, 195, 196, 197, 198, 199, 200, 201, 202, 203, 204, 205,\n",
       "       206], dtype=uint16)"
      ]
     },
     "execution_count": 350,
     "metadata": {},
     "output_type": "execute_result"
    }
   ],
   "source": [
    "np.unique(problem_label)"
   ]
  },
  {
   "cell_type": "code",
   "execution_count": 352,
   "id": "e638a5e7-1f77-49da-b0ef-1c1f2d3b3b9d",
   "metadata": {},
   "outputs": [],
   "source": [
    "unique_mask_labels = np.unique(problem_label)"
   ]
  },
  {
   "cell_type": "code",
   "execution_count": 353,
   "id": "8b031bce-8b51-4c3a-a660-34bc5912ae7a",
   "metadata": {},
   "outputs": [
    {
     "data": {
      "text/plain": [
       "array([  0,  31,  39,  43,  47,  49,  50,  53,  55,  57,  65,  66,  71,\n",
       "        75,  77,  83,  87,  89,  90,  93,  94,  95,  97,  98,  99, 105,\n",
       "       107, 109, 111, 113, 115, 117, 119, 123, 124, 125, 126, 127, 129,\n",
       "       133, 134, 135, 137, 138, 139, 140, 141, 143, 144, 145, 146, 147,\n",
       "       149, 151, 152, 153, 155, 156, 157, 159, 160, 161, 162, 163, 164,\n",
       "       165, 166, 167, 169, 170, 171, 172, 173, 174, 175, 176, 177, 178,\n",
       "       179, 180, 181, 182, 183, 184, 185, 186, 187, 188, 189, 190, 191,\n",
       "       193, 194, 195, 196, 197, 198, 199, 200, 201, 202, 203, 204, 205,\n",
       "       206], dtype=uint16)"
      ]
     },
     "execution_count": 353,
     "metadata": {},
     "output_type": "execute_result"
    }
   ],
   "source": [
    "unique_mask_labels"
   ]
  },
  {
   "cell_type": "code",
   "execution_count": 328,
   "id": "d92457cd-878b-49c8-8baa-ac6f873f6012",
   "metadata": {},
   "outputs": [
    {
     "data": {
      "text/plain": [
       "0.001524"
      ]
     },
     "execution_count": 328,
     "metadata": {},
     "output_type": "execute_result"
    }
   ],
   "source": [
    "np.round(jaccard_score(problem_gt == 1, problem_label == 1, average='micro'),6)"
   ]
  },
  {
   "cell_type": "code",
   "execution_count": 347,
   "id": "134f4cc9-6327-4ced-b522-f725763b4fb9",
   "metadata": {},
   "outputs": [
    {
     "data": {
      "text/plain": [
       "<matplotlib.image.AxesImage at 0x70bbb500c810>"
      ]
     },
     "execution_count": 347,
     "metadata": {},
     "output_type": "execute_result"
    },
    {
     "data": {
      "image/png": "[encoded data removed]",
      "text/plain": [
       "<Figure size 640x480 with 1 Axes>"
      ]
     },
     "metadata": {},
     "output_type": "display_data"
    }
   ],
   "source": [
    "plt.imshow(problem_gt)"
   ]
  },
  {
   "cell_type": "code",
   "execution_count": 348,
   "id": "05b9022e-cf35-4962-a612-4c4aca6281e6",
   "metadata": {},
   "outputs": [
    {
     "data": {
      "text/plain": [
       "<matplotlib.image.AxesImage at 0x70bbb4daa6d0>"
      ]
     },
     "execution_count": 348,
     "metadata": {},
     "output_type": "execute_result"
    },
    {
     "data": {
      "image/png": "[encoded data removed]",
      "text/plain": [
       "<Figure size 640x480 with 1 Axes>"
      ]
     },
     "metadata": {},
     "output_type": "display_data"
    }
   ],
   "source": [
    "plt.imshow(problem_label)"
   ]
  },
  {
   "cell_type": "code",
   "execution_count": 237,
   "id": "0373f334-e976-4205-900e-a69c0465674b",
   "metadata": {},
   "outputs": [],
   "source": [
    "for row in dataset_df.itertuples():\n",
    "    merged_gt_image = merge_source_with_mask(row.Mask_file, row.Gt_source_file, row.Gt_mask_file, row.Label, row.J_value)\n",
    "    tifffile.imwrite(merged_gt_image)\n",
    "    break"
   ]
  },
  {
   "cell_type": "code",
   "execution_count": 44,
   "id": "3eb7cfb0-91f3-4318-a9ad-ecd685652eba",
   "metadata": {},
   "outputs": [],
   "source": [
    "def modify_file_path(mask_file_path, label, out_dir):\n",
    "    mask_file_path = Path(mask_file_path)\n",
    "    new_path_name = f\"{mask_file_path.stem}_{label}{mask_file_path.suffix}\"\n",
    "    # Create the new path with out_dir as the highest folder\n",
    "    relative_path = mask_file_path.relative_to(mask_file_path.anchor)  # Get path relative to root\n",
    "    new_path = Path(out_dir) / relative_path.parent / new_path_name\n",
    "    \n",
    "    return new_path"
   ]
  },
  {
   "cell_type": "code",
   "execution_count": 248,
   "id": "16e23ddf-0c60-468e-9a1d-ebf02b6553d3",
   "metadata": {},
   "outputs": [
    {
     "name": "stdout",
     "output_type": "stream",
     "text": [
      "some/path/image*0.75*.jpg\n"
     ]
    }
   ],
   "source": [
    "from pathlib import Path\n",
    "\n",
    "def modify_file_path(file_path, j_value):\n",
    "    path = Path(file_path)\n",
    "    new_name = f\"{path.stem}*{j_value}*{path.suffix}\"\n",
    "    return path.with_name(new_name)\n",
    "\n",
    "# Example usage:\n",
    "original_path = \"some/path/image.jpg\"\n",
    "j_value = 0.75\n",
    "new_path = modify_file_path(original_path, j_value)\n",
    "print(new_path)\n"
   ]
  },
  {
   "cell_type": "code",
   "execution_count": 116,
   "id": "de537ccf-3a67-4aae-b69c-ad50d769fa1f",
   "metadata": {},
   "outputs": [
    {
     "data": {
      "text/plain": [
       "'inputs-2020-07/BF-C2DL-HSC/MU-Lux-CZ/02_RES/mask0046.tif'"
      ]
     },
     "execution_count": 116,
     "metadata": {},
     "output_type": "execute_result"
    }
   ],
   "source": [
    "dataset_df.Mask_file.values[0]"
   ]
  },
  {
   "cell_type": "code",
   "execution_count": 121,
   "id": "26898ea5-3f4c-4005-8646-309cebdb7232",
   "metadata": {},
   "outputs": [],
   "source": [
    "def get_label_mask(mask_file, label):\n",
    "    tif_image = tifffile.imread(mask_file)\n",
    "    mask_image = tif_image == label\n",
    "    return mask_image"
   ]
  },
  {
   "cell_type": "code",
   "execution_count": 123,
   "id": "1d6d4bb4-e064-49e8-94cf-2d0656d925c3",
   "metadata": {},
   "outputs": [],
   "source": [
    "mask = get_label_mask('inputs-2020-07/BF-C2DL-HSC/MU-Lux-CZ/02_RES/mask0046.tif', 1)"
   ]
  },
  {
   "cell_type": "code",
   "execution_count": 125,
   "id": "2d8266fe-d290-457c-821f-eb39239cb742",
   "metadata": {},
   "outputs": [
    {
     "data": {
      "text/plain": [
       "array([False])"
      ]
     },
     "execution_count": 125,
     "metadata": {},
     "output_type": "execute_result"
    }
   ],
   "source": [
    "np.unique(mask)"
   ]
  },
  {
   "cell_type": "code",
   "execution_count": 127,
   "id": "a9d61d20-13ad-446a-b983-0a9eb57627b3",
   "metadata": {},
   "outputs": [],
   "source": [
    "tif_image = tifffile.imread('inputs-2020-07/BF-C2DL-HSC/MU-Lux-CZ/02_RES/mask0046.tif')"
   ]
  },
  {
   "cell_type": "code",
   "execution_count": 178,
   "id": "7a547b86-bf9a-472f-93be-aae38eaf48bc",
   "metadata": {},
   "outputs": [
    {
     "data": {
      "text/plain": [
       "3"
      ]
     },
     "execution_count": 178,
     "metadata": {},
     "output_type": "execute_result"
    }
   ],
   "source": [
    "np.unique(tif_image)[1]"
   ]
  },
  {
   "cell_type": "code",
   "execution_count": 133,
   "id": "792ab0dd-d45f-4c00-ae2c-2a33d10d9df9",
   "metadata": {},
   "outputs": [],
   "source": [
    "gt_image = tifffile.imread('inputs-2020-07/BF-C2DL-HSC/02_GT/SEG/man_seg0046.tif')"
   ]
  },
  {
   "cell_type": "code",
   "execution_count": 134,
   "id": "a4341380-d509-449a-ba92-4ed9c65df97c",
   "metadata": {},
   "outputs": [
    {
     "data": {
      "text/plain": [
       "array([0, 1, 2], dtype=uint16)"
      ]
     },
     "execution_count": 134,
     "metadata": {},
     "output_type": "execute_result"
    }
   ],
   "source": [
    "np.unique(gt_image)"
   ]
  },
  {
   "cell_type": "code",
   "execution_count": 135,
   "id": "d0ca1f4c-8ece-4070-9278-7139bfed7745",
   "metadata": {},
   "outputs": [
    {
     "data": {
      "text/plain": [
       "<matplotlib.image.AxesImage at 0x70bbe1f58c50>"
      ]
     },
     "execution_count": 135,
     "metadata": {},
     "output_type": "execute_result"
    },
    {
     "data": {
      "image/png": "[encoded data removed]",
      "text/plain": [
       "<Figure size 640x480 with 1 Axes>"
      ]
     },
     "metadata": {},
     "output_type": "display_data"
    }
   ],
   "source": [
    "plt.imshow(gt_image)"
   ]
  },
  {
   "cell_type": "code",
   "execution_count": 136,
   "id": "a5e4dc45-a3a3-4372-9f5a-83636b9cc32d",
   "metadata": {},
   "outputs": [
    {
     "data": {
      "text/plain": [
       "<matplotlib.image.AxesImage at 0x70bbe214e350>"
      ]
     },
     "execution_count": 136,
     "metadata": {},
     "output_type": "execute_result"
    },
    {
     "data": {
      "image/png": "[encoded data removed]",
      "text/plain": [
       "<Figure size 640x480 with 1 Axes>"
      ]
     },
     "metadata": {},
     "output_type": "display_data"
    }
   ],
   "source": [
    "plt.imshow(tif_image)"
   ]
  },
  {
   "cell_type": "code",
   "execution_count": 33,
   "id": "6bc6bcfe-de28-4512-bc3d-71a9e3fd2b82",
   "metadata": {},
   "outputs": [],
   "source": [
    "from sklearn.metrics import jaccard_score"
   ]
  },
  {
   "cell_type": "code",
   "execution_count": 152,
   "id": "386f3ef2-79ac-4581-a4d2-80d487ee74bc",
   "metadata": {},
   "outputs": [],
   "source": [
    "label_mask = (tif_image == 3)\n",
    "gt_mask = (gt_image == 2)"
   ]
  },
  {
   "cell_type": "code",
   "execution_count": 153,
   "id": "7cd4d601-58fc-4733-a00a-58e2b36c690d",
   "metadata": {},
   "outputs": [
    {
     "data": {
      "text/plain": [
       "array([[False, False, False, ..., False, False, False],\n",
       "       [False, False, False, ..., False, False, False],\n",
       "       [False, False, False, ..., False, False, False],\n",
       "       ...,\n",
       "       [False, False, False, ..., False, False, False],\n",
       "       [False, False, False, ..., False, False, False],\n",
       "       [False, False, False, ..., False, False, False]])"
      ]
     },
     "execution_count": 153,
     "metadata": {},
     "output_type": "execute_result"
    }
   ],
   "source": [
    "gt_mask"
   ]
  },
  {
   "cell_type": "code",
   "execution_count": 154,
   "id": "dfabb84d-49f5-424c-be4f-31c230fca5ac",
   "metadata": {},
   "outputs": [
    {
     "data": {
      "text/plain": [
       "0.012875536480686695"
      ]
     },
     "execution_count": 154,
     "metadata": {},
     "output_type": "execute_result"
    }
   ],
   "source": [
    "jaccard_score(gt_mask, label_mask,average=\"micro\")"
   ]
  },
  {
   "cell_type": "code",
   "execution_count": 48,
   "id": "37d5e5df-24d6-4246-b56a-dd40b90c5539",
   "metadata": {},
   "outputs": [
    {
     "data": {
      "text/plain": [
       "[PosixPath('inputs-2020-07/BF-C2DL-HSC/01_GT'),\n",
       " PosixPath('inputs-2020-07/BF-C2DL-HSC/MU-Lux-CZ'),\n",
       " PosixPath('inputs-2020-07/BF-C2DL-HSC/CALT-US'),\n",
       " PosixPath('inputs-2020-07/BF-C2DL-HSC/02_GT'),\n",
       " PosixPath('inputs-2020-07/BF-C2DL-HSC/DREX-US'),\n",
       " PosixPath('inputs-2020-07/BF-C2DL-HSC/KTH-SE (5)'),\n",
       " PosixPath('inputs-2020-07/BF-C2DL-HSC/KIT-Sch-GE')]"
      ]
     },
     "execution_count": 48,
     "metadata": {},
     "output_type": "execute_result"
    }
   ],
   "source": [
    "subdirectories"
   ]
  },
  {
   "cell_type": "code",
   "execution_count": 16,
   "id": "36782631-7ca7-4d6f-8848-dbc184e7332f",
   "metadata": {},
   "outputs": [],
   "source": [
    "seg_log_path = \"inputs-2020-07/BF-C2DL-HSC/CALT-US/01_RES/SEG_log.txt\"\n",
    "seg_log_path = pathlib.Path(seg_log_path)\n",
    "with open(seg_log_path, 'r') as f:\n",
    "    seg_log = f.readlines()"
   ]
  },
  {
   "cell_type": "code",
   "execution_count": null,
   "id": "67d62a77-1c19-4e2e-af1b-e96550f1136b",
   "metadata": {},
   "outputs": [],
   "source": [
    "seg_log"
   ]
  },
  {
   "cell_type": "code",
   "execution_count": 64,
   "id": "23a61b6d-a905-4e0c-b399-ab5b93298cae",
   "metadata": {},
   "outputs": [],
   "source": [
    "def find_mask_tif(mask_number: int, seg_log_path: Path) -> str:\n",
    "    seg_log_dir = seg_log_path.parent\n",
    "    mask_pattern = f\"mask*{mask_number:d}.tif\"\n",
    "    all_mask_files = list(seg_log_dir.glob(\"mask*.tif\"))\n",
    "    \n",
    "    # Use regex to match the exact number\n",
    "    number_pattern = re.compile(rf'mask0*{mask_number}\\D')\n",
    "    matching_files = [f for f in all_mask_files if number_pattern.search(f.name)]\n",
    "    if not matching_files:\n",
    "        raise FileNotFoundError(f\"No mask file found for number {mask_number} in {seg_log_dir}\")\n",
    "    \n",
    "    if len(matching_files) > 1:\n",
    "        print(f\"Warning: Multiple mask files found for number {mask_number}. Using the first one.\")\n",
    "    \n",
    "    return str(matching_files[0])"
   ]
  },
  {
   "cell_type": "code",
   "execution_count": 157,
   "id": "db83b4d0-46ae-41df-9530-ca6759f0ccfe",
   "metadata": {},
   "outputs": [],
   "source": [
    "def find_gt_source_tif(gt_number: int, gt_dir_path: Path, seg_log_path: Path) -> str:\n",
    "    subfolder = seg_log_path.parents[0].name.split('_')[0]\n",
    "    gt_search_dir = gt_dir_path / subfolder\n",
    "    gt_pattern = f\"t*{gt_number:d}.tif\"\n",
    "    all_gt_files = list(gt_search_dir.glob(\"t*.tif\"))\n",
    "    \n",
    "    # Use regex to match the exact number\n",
    "    number_pattern = re.compile(rf't0*{gt_number}\\D')\n",
    "    matching_files = [f for f in all_gt_files if number_pattern.search(f.name)]\n",
    "    if not matching_files:\n",
    "        raise FileNotFoundError(f\"No gt source file found for number {gt_number} in {gt_search_dir}\")\n",
    "    \n",
    "    if len(matching_files) > 1:\n",
    "        print(f\"Warning: Multiple gt source files found for number {gt_number}.: \\n {matching_files} Using the first one.\")\n",
    "    \n",
    "    return str(matching_files[0])"
   ]
  },
  {
   "cell_type": "code",
   "execution_count": 158,
   "id": "f0028f8c-f77d-48dd-ad2b-d235c631e527",
   "metadata": {},
   "outputs": [],
   "source": [
    "def find_gt_mask_tif(gt_number: int, gt_dir_path: Path, seg_log_path:Path) -> str:\n",
    "    subfolder = seg_log_path.parents[0].name.split('_')[0]\n",
    "    subfolder = f\"{subfolder}_GT/SEG\"\n",
    "    gt_search_dir = gt_dir_path / subfolder\n",
    "    all_gt_files = list(gt_search_dir.glob(\"man*.tif\"))\n",
    "    number_pattern = re.compile(rf'man_seg0*{gt_number}\\D')\n",
    "    matching_files = [f for f in all_gt_files if number_pattern.search(f.name)]\n",
    "    if not matching_files:\n",
    "        raise FileNotFoundError(f\"No gt mask file found for number {gt_number} in {gt_search_dir}\")\n",
    "    \n",
    "    if len(matching_files) > 1:\n",
    "        print(f\"Warning: Multiple gt mask file found for number {gt_number}.: \\n {matching_files} Using the first one.\")\n",
    "    \n",
    "    return str(matching_files[0])"
   ]
  },
  {
   "cell_type": "code",
   "execution_count": null,
   "id": "125708da-53fa-442e-ad1f-888c14176168",
   "metadata": {},
   "outputs": [],
   "source": [
    "find_gt_tif"
   ]
  },
  {
   "cell_type": "code",
   "execution_count": 171,
   "id": "f655d33a-f4de-48bb-bc73-9eac13be2cb0",
   "metadata": {},
   "outputs": [],
   "source": [
    "def parse_segmentation_data(seg_log_path, gt_dir_path):\n",
    "\n",
    "    with open(seg_log_path, 'r') as f:\n",
    "        file_content = f.readlines()\n",
    "    # Lists to store parsed data\n",
    "    t_values = []\n",
    "    mask_files = []\n",
    "    gt_mask_files = []\n",
    "    gt_source_files = []\n",
    "    labels = []\n",
    "    j_values = []\n",
    "    \n",
    "    # Regular expressions to match T value and GT_label/J pairs\n",
    "    t_pattern = re.compile(r'----------T=(\\d+) Z=\\d+----------')\n",
    "    data_pattern = re.compile(r'GT_label=(\\d+) J=([\\d.]+)')\n",
    "    \n",
    "    current_t = None\n",
    "    current_mask = None\n",
    "    current_mask_gt = None\n",
    "    \n",
    "    for line in file_content:\n",
    "        t_match = t_pattern.match(line)\n",
    "        if t_match:\n",
    "            current_t = int(t_match.group(1))\n",
    "            current_mask = find_mask_tif(current_t, seg_log_path)\n",
    "            current_source_gt = find_gt_source_tif(current_t, gt_dir_path, seg_log_path)\n",
    "            current_mask_gt = find_gt_mask_tif(current_t, gt_dir_path, seg_log_path)\n",
    "        else:\n",
    "            data_match = data_pattern.match(line)\n",
    "            if data_match and current_t is not None:\n",
    "                label = int(data_match.group(1))\n",
    "                j_value = float(data_match.group(2))\n",
    "                mask_files.append(current_mask)\n",
    "                gt_source_files.append(current_source_gt)\n",
    "                gt_mask_files.append(current_mask_gt)\n",
    "                labels.append(label)\n",
    "                j_values.append(j_value)\n",
    "    \n",
    "    return pd.DataFrame({\n",
    "        'Mask_file': mask_files,\n",
    "        'Gt_source_file': gt_source_files,\n",
    "        'Gt_mask_file': gt_mask_files,\n",
    "        'Label': labels,\n",
    "        'J_value': j_values\n",
    "    })"
   ]
  },
  {
   "cell_type": "code",
   "execution_count": null,
   "id": "d39c480b-d495-481a-bb5f-6128262d9273",
   "metadata": {},
   "outputs": [],
   "source": []
  },
  {
   "cell_type": "code",
   "execution_count": 40,
   "id": "3dd7971d-8eca-4944-8c40-11629d763fd9",
   "metadata": {},
   "outputs": [
    {
     "data": {
      "text/html": [
       "<div>\n",
       "<style scoped>\n",
       "    .dataframe tbody tr th:only-of-type {\n",
       "        vertical-align: middle;\n",
       "    }\n",
       "\n",
       "    .dataframe tbody tr th {\n",
       "        vertical-align: top;\n",
       "    }\n",
       "\n",
       "    .dataframe thead th {\n",
       "        text-align: right;\n",
       "    }\n",
       "</style>\n",
       "<table border=\"1\" class=\"dataframe\">\n",
       "  <thead>\n",
       "    <tr style=\"text-align: right;\">\n",
       "      <th></th>\n",
       "      <th>Mask_file</th>\n",
       "      <th>Label</th>\n",
       "      <th>J_value</th>\n",
       "    </tr>\n",
       "  </thead>\n",
       "  <tbody>\n",
       "    <tr>\n",
       "      <th>0</th>\n",
       "      <td>inputs-2020-07/BF-C2DL-HSC/CALT-US/01_RES/mask...</td>\n",
       "      <td>1</td>\n",
       "      <td>0.952854</td>\n",
       "    </tr>\n",
       "    <tr>\n",
       "      <th>1</th>\n",
       "      <td>inputs-2020-07/BF-C2DL-HSC/CALT-US/01_RES/mask...</td>\n",
       "      <td>1</td>\n",
       "      <td>0.873656</td>\n",
       "    </tr>\n",
       "    <tr>\n",
       "      <th>2</th>\n",
       "      <td>inputs-2020-07/BF-C2DL-HSC/CALT-US/01_RES/mask...</td>\n",
       "      <td>1</td>\n",
       "      <td>0.856287</td>\n",
       "    </tr>\n",
       "    <tr>\n",
       "      <th>3</th>\n",
       "      <td>inputs-2020-07/BF-C2DL-HSC/CALT-US/01_RES/mask...</td>\n",
       "      <td>1</td>\n",
       "      <td>0.908665</td>\n",
       "    </tr>\n",
       "    <tr>\n",
       "      <th>4</th>\n",
       "      <td>inputs-2020-07/BF-C2DL-HSC/CALT-US/01_RES/mask...</td>\n",
       "      <td>1</td>\n",
       "      <td>0.919799</td>\n",
       "    </tr>\n",
       "    <tr>\n",
       "      <th>...</th>\n",
       "      <td>...</td>\n",
       "      <td>...</td>\n",
       "      <td>...</td>\n",
       "    </tr>\n",
       "    <tr>\n",
       "      <th>250</th>\n",
       "      <td>inputs-2020-07/BF-C2DL-HSC/CALT-US/01_RES/mask...</td>\n",
       "      <td>8</td>\n",
       "      <td>0.916870</td>\n",
       "    </tr>\n",
       "    <tr>\n",
       "      <th>251</th>\n",
       "      <td>inputs-2020-07/BF-C2DL-HSC/CALT-US/01_RES/mask...</td>\n",
       "      <td>9</td>\n",
       "      <td>0.923780</td>\n",
       "    </tr>\n",
       "    <tr>\n",
       "      <th>252</th>\n",
       "      <td>inputs-2020-07/BF-C2DL-HSC/CALT-US/01_RES/mask...</td>\n",
       "      <td>10</td>\n",
       "      <td>0.922388</td>\n",
       "    </tr>\n",
       "    <tr>\n",
       "      <th>253</th>\n",
       "      <td>inputs-2020-07/BF-C2DL-HSC/CALT-US/01_RES/mask...</td>\n",
       "      <td>11</td>\n",
       "      <td>0.839552</td>\n",
       "    </tr>\n",
       "    <tr>\n",
       "      <th>254</th>\n",
       "      <td>inputs-2020-07/BF-C2DL-HSC/CALT-US/01_RES/mask...</td>\n",
       "      <td>12</td>\n",
       "      <td>0.923513</td>\n",
       "    </tr>\n",
       "  </tbody>\n",
       "</table>\n",
       "<p>255 rows × 3 columns</p>\n",
       "</div>"
      ],
      "text/plain": [
       "                                             Mask_file  Label   J_value\n",
       "0    inputs-2020-07/BF-C2DL-HSC/CALT-US/01_RES/mask...      1  0.952854\n",
       "1    inputs-2020-07/BF-C2DL-HSC/CALT-US/01_RES/mask...      1  0.873656\n",
       "2    inputs-2020-07/BF-C2DL-HSC/CALT-US/01_RES/mask...      1  0.856287\n",
       "3    inputs-2020-07/BF-C2DL-HSC/CALT-US/01_RES/mask...      1  0.908665\n",
       "4    inputs-2020-07/BF-C2DL-HSC/CALT-US/01_RES/mask...      1  0.919799\n",
       "..                                                 ...    ...       ...\n",
       "250  inputs-2020-07/BF-C2DL-HSC/CALT-US/01_RES/mask...      8  0.916870\n",
       "251  inputs-2020-07/BF-C2DL-HSC/CALT-US/01_RES/mask...      9  0.923780\n",
       "252  inputs-2020-07/BF-C2DL-HSC/CALT-US/01_RES/mask...     10  0.922388\n",
       "253  inputs-2020-07/BF-C2DL-HSC/CALT-US/01_RES/mask...     11  0.839552\n",
       "254  inputs-2020-07/BF-C2DL-HSC/CALT-US/01_RES/mask...     12  0.923513\n",
       "\n",
       "[255 rows x 3 columns]"
      ]
     },
     "execution_count": 40,
     "metadata": {},
     "output_type": "execute_result"
    }
   ],
   "source": [
    "parse_segmentation_data(seg_log, seg_log_path)"
   ]
  },
  {
   "cell_type": "code",
   "execution_count": null,
   "id": "378360a3-55c3-441c-9af8-f6fcbf0fbfa5",
   "metadata": {},
   "outputs": [],
   "source": []
  }
 ],
 "metadata": {
  "kernelspec": {
   "display_name": "Python 3 (ipykernel)",
   "language": "python",
   "name": "python3"
  },
  "language_info": {
   "codemirror_mode": {
    "name": "ipython",
    "version": 3
   },
   "file_extension": ".py",
   "mimetype": "text/x-python",
   "name": "python",
   "nbconvert_exporter": "python",
   "pygments_lexer": "ipython3",
   "version": "3.11.5"
  }
 },
 "nbformat": 4,
 "nbformat_minor": 5
}
